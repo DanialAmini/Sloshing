{
 "cells": [
  {
   "cell_type": "code",
   "execution_count": 100,
   "metadata": {},
   "outputs": [],
   "source": [
    "#"
   ]
  },
  {
   "cell_type": "code",
   "execution_count": 4,
   "metadata": {},
   "outputs": [],
   "source": [
    "### program for standing waves based on theory of Sobey (2009)\n",
    "### code written in SAGE (which is an open source and free software)\n",
    "### the output must be suppressed wherever possible to save time"
   ]
  },
  {
   "cell_type": "code",
   "execution_count": 5,
   "metadata": {},
   "outputs": [],
   "source": [
    "reset()"
   ]
  },
  {
   "cell_type": "code",
   "execution_count": 6,
   "metadata": {},
   "outputs": [],
   "source": [
    "x, y, z, t,g=var('x y z t g')"
   ]
  },
  {
   "cell_type": "code",
   "execution_count": 7,
   "metadata": {},
   "outputs": [],
   "source": [
    "ii=var('ii')\n",
    "assume(ii,'integer')"
   ]
  },
  {
   "cell_type": "code",
   "execution_count": 8,
   "metadata": {},
   "outputs": [],
   "source": [
    "i, j, m=var('i j m')"
   ]
  },
  {
   "cell_type": "markdown",
   "metadata": {},
   "source": [
    "1"
   ]
  },
  {
   "cell_type": "code",
   "execution_count": 9,
   "metadata": {},
   "outputs": [],
   "source": [
    "a=var('a')"
   ]
  },
  {
   "cell_type": "code",
   "execution_count": 10,
   "metadata": {},
   "outputs": [],
   "source": [
    "#defining variables"
   ]
  },
  {
   "cell_type": "code",
   "execution_count": 11,
   "metadata": {},
   "outputs": [],
   "source": [
    "A =[0 for j in range(11)]"
   ]
  },
  {
   "cell_type": "code",
   "execution_count": 12,
   "metadata": {},
   "outputs": [],
   "source": [
    "B =[0 for j in range(11)]"
   ]
  },
  {
   "cell_type": "code",
   "execution_count": 74,
   "metadata": {},
   "outputs": [],
   "source": []
  },
  {
   "cell_type": "code",
   "execution_count": 75,
   "metadata": {},
   "outputs": [],
   "source": [
    "q=var('q')"
   ]
  },
  {
   "cell_type": "code",
   "execution_count": 76,
   "metadata": {},
   "outputs": [],
   "source": [
    "#populating variables with itself"
   ]
  },
  {
   "cell_type": "code",
   "execution_count": 92,
   "metadata": {},
   "outputs": [],
   "source": [
    "for j in range(11):\n",
    "    A[j]=var('aa_'+str(j))\n",
    "    B[j]=var('bb_'+str(j))\n",
    "B[0]=0\n",
    "bb_0=0"
   ]
  },
  {
   "cell_type": "code",
   "execution_count": 90,
   "metadata": {},
   "outputs": [
    {
     "data": {
      "text/plain": [
       "[aa_0, aa_1, aa_2, aa_3, aa_4, aa_5, aa_6, aa_7, aa_8, aa_9, aa_10]"
      ]
     },
     "execution_count": 90,
     "metadata": {},
     "output_type": "execute_result"
    }
   ],
   "source": [
    "A"
   ]
  },
  {
   "cell_type": "code",
   "execution_count": 91,
   "metadata": {},
   "outputs": [
    {
     "data": {
      "text/plain": [
       "[0, bb_1, bb_2, bb_3, bb_4, bb_5, bb_6, bb_7, bb_8, bb_9, bb_10]"
      ]
     },
     "execution_count": 91,
     "metadata": {},
     "output_type": "execute_result"
    }
   ],
   "source": [
    "B"
   ]
  },
  {
   "cell_type": "code",
   "execution_count": 20,
   "metadata": {},
   "outputs": [],
   "source": [
    "eps=var('eps')"
   ]
  },
  {
   "cell_type": "code",
   "execution_count": 22,
   "metadata": {},
   "outputs": [],
   "source": [
    "##"
   ]
  },
  {
   "cell_type": "code",
   "execution_count": 23,
   "metadata": {},
   "outputs": [],
   "source": [
    "q=var('q')"
   ]
  },
  {
   "cell_type": "code",
   "execution_count": 24,
   "metadata": {},
   "outputs": [],
   "source": [
    "Q=arctanh(q)"
   ]
  },
  {
   "cell_type": "code",
   "execution_count": 25,
   "metadata": {},
   "outputs": [],
   "source": [
    "def fq(j,q):\n",
    "    return tanh(j*q)\n",
    "#####\n",
    "fq1 = function(\"fq1\", nargs=2)\n",
    "##############\n",
    "#def fq1(j,q):\n",
    "#    return fq(j,q)"
   ]
  },
  {
   "cell_type": "code",
   "execution_count": 27,
   "metadata": {},
   "outputs": [
    {
     "name": "stdout",
     "output_type": "stream",
     "text": [
      "(0, 0)\n",
      "(1, tanh(q))\n",
      "(2, tanh(2*q))\n",
      "(3, tanh(3*q))\n",
      "(4, tanh(4*q))\n",
      "(5, tanh(5*q))\n",
      "(6, tanh(6*q))\n",
      "(7, tanh(7*q))\n",
      "(8, tanh(8*q))\n",
      "(9, tanh(9*q))\n",
      "(10, tanh(10*q))\n"
     ]
    }
   ],
   "source": [
    "for j in range(11):\n",
    "    print(j,fq(j,q))"
   ]
  },
  {
   "cell_type": "code",
   "execution_count": 28,
   "metadata": {},
   "outputs": [],
   "source": [
    "def f_eta(x,N):\n",
    "    temp=0\n",
    "    for j in range(N+1):\n",
    "        temp=temp+eps^j*B[j]*cos(j*x)\n",
    "    return temp"
   ]
  },
  {
   "cell_type": "code",
   "execution_count": 30,
   "metadata": {},
   "outputs": [
    {
     "data": {
      "text/plain": [
       "bb_4*eps^4*cos(4*x) + bb_3*eps^3*cos(3*x) + bb_2*eps^2*cos(2*x) + bb_1*eps*cos(x) + bb_0"
      ]
     },
     "execution_count": 30,
     "metadata": {},
     "output_type": "execute_result"
    }
   ],
   "source": [
    "f_eta(x,4)"
   ]
  },
  {
   "cell_type": "code",
   "execution_count": 31,
   "metadata": {},
   "outputs": [],
   "source": [
    "def f_eta_x(x,N):\n",
    "    temp=0\n",
    "    for j in range(1,N+1):\n",
    "        temp=temp-j*eps^j*B[j]*sin(j*x)\n",
    "    return temp"
   ]
  },
  {
   "cell_type": "code",
   "execution_count": 32,
   "metadata": {},
   "outputs": [
    {
     "data": {
      "text/plain": [
       "-5*bb_5*eps^5*sin(5*x) - 4*bb_4*eps^4*sin(4*x) - 3*bb_3*eps^3*sin(3*x) - 2*bb_2*eps^2*sin(2*x) - bb_1*eps*sin(x)"
      ]
     },
     "execution_count": 32,
     "metadata": {},
     "output_type": "execute_result"
    }
   ],
   "source": [
    "f_eta_x(x,5)"
   ]
  },
  {
   "cell_type": "code",
   "execution_count": 33,
   "metadata": {},
   "outputs": [],
   "source": [
    "def f_phi(x,N):\n",
    "    temp=0\n",
    "    for j in range(1,N+1): \n",
    "        temp1=0\n",
    "        temp2=0\n",
    "        for nn in range(N):\n",
    "            if nn==0:\n",
    "                temp1=1\n",
    "            else:\n",
    "                temp00=f_eta(x,N)\n",
    "                temp1=temp1+(1+(-1)^nn)/2/factorial(nn)*(j*temp00)^nn\n",
    "                temp2=temp2+(1-(-1)^nn)/2/factorial(nn)*(j*temp00)^nn            \n",
    "        temp=temp+eps^j*A[j]*cos(j*x)*(temp1+temp2*fq(j,q))\n",
    "    return temp"
   ]
  },
  {
   "cell_type": "code",
   "execution_count": 34,
   "metadata": {},
   "outputs": [
    {
     "data": {
      "text/plain": [
       "(2*(bb_2*eps^2*cos(2*x) + bb_1*eps*cos(x) + bb_0)*tanh(2*q) + 1)*aa_2*eps^2*cos(2*x) + ((bb_2*eps^2*cos(2*x) + bb_1*eps*cos(x) + bb_0)*tanh(q) + 1)*aa_1*eps*cos(x)"
      ]
     },
     "execution_count": 34,
     "metadata": {},
     "output_type": "execute_result"
    }
   ],
   "source": [
    "f_phi(x,2)"
   ]
  },
  {
   "cell_type": "code",
   "execution_count": 35,
   "metadata": {},
   "outputs": [],
   "source": [
    "def f_u(x,N):\n",
    "    temp=0\n",
    "    for j in range(1,N+1): \n",
    "        temp1=0\n",
    "        temp2=0\n",
    "        for nn in range(N):\n",
    "            if nn==0:\n",
    "                temp1=1\n",
    "            else:\n",
    "                temp00=f_eta(x,N)\n",
    "                temp1=temp1+(1+(-1)^nn)/2/factorial(nn)*(j*temp00)^nn\n",
    "                temp2=temp2+(1-(-1)^nn)/2/factorial(nn)*(j*temp00)^nn            \n",
    "        temp=temp-j*eps^j*A[j]*sin(j*x)*(temp1+temp2*fq(j,q))\n",
    "    return temp"
   ]
  },
  {
   "cell_type": "code",
   "execution_count": 36,
   "metadata": {},
   "outputs": [],
   "source": [
    "def f_w(x,N):\n",
    "    temp=0\n",
    "    for j in range(1,N+1): \n",
    "        temp1=0\n",
    "        temp2=0\n",
    "        for nn in range(N):\n",
    "            if nn==0:\n",
    "                temp1=1\n",
    "            else:\n",
    "                temp00=f_eta(x,N)\n",
    "                temp1=temp1+(1+(-1)^nn)/2/factorial(nn)*(j*temp00)^nn\n",
    "                temp2=temp2+(1-(-1)^nn)/2/factorial(nn)*(j*temp00)^nn            \n",
    "        temp=temp+j*eps^j*A[j]*cos(j*x)*(temp2+temp1*fq(j,q))\n",
    "    return temp"
   ]
  },
  {
   "cell_type": "code",
   "execution_count": 37,
   "metadata": {},
   "outputs": [
    {
     "data": {
      "text/plain": [
       "-3/2*(9*(bb_3*eps^3*cos(3*x) + bb_2*eps^2*cos(2*x) + bb_1*eps*cos(x) + bb_0)^2 + 6*(bb_3*eps^3*cos(3*x) + bb_2*eps^2*cos(2*x) + bb_1*eps*cos(x) + bb_0)*tanh(3*q) + 2)*aa_3*eps^3*sin(3*x) - 2*(2*(bb_3*eps^3*cos(3*x) + bb_2*eps^2*cos(2*x) + bb_1*eps*cos(x) + bb_0)^2 + 2*(bb_3*eps^3*cos(3*x) + bb_2*eps^2*cos(2*x) + bb_1*eps*cos(x) + bb_0)*tanh(2*q) + 1)*aa_2*eps^2*sin(2*x) - 1/2*((bb_3*eps^3*cos(3*x) + bb_2*eps^2*cos(2*x) + bb_1*eps*cos(x) + bb_0)^2 + 2*(bb_3*eps^3*cos(3*x) + bb_2*eps^2*cos(2*x) + bb_1*eps*cos(x) + bb_0)*tanh(q) + 2)*aa_1*eps*sin(x)"
      ]
     },
     "execution_count": 37,
     "metadata": {},
     "output_type": "execute_result"
    }
   ],
   "source": [
    "f_u(x,3)"
   ]
  },
  {
   "cell_type": "code",
   "execution_count": 38,
   "metadata": {},
   "outputs": [
    {
     "data": {
      "text/plain": [
       "2*(2*bb_2*eps^2*cos(2*x) + 2*bb_1*eps*cos(x) + 2*bb_0 + tanh(2*q))*aa_2*eps^2*cos(2*x) + (bb_2*eps^2*cos(2*x) + bb_1*eps*cos(x) + bb_0 + tanh(q))*aa_1*eps*cos(x)"
      ]
     },
     "execution_count": 38,
     "metadata": {},
     "output_type": "execute_result"
    }
   ],
   "source": [
    "f_w(x,2)"
   ]
  },
  {
   "cell_type": "code",
   "execution_count": null,
   "metadata": {},
   "outputs": [],
   "source": []
  },
  {
   "cell_type": "code",
   "execution_count": null,
   "metadata": {},
   "outputs": [],
   "source": []
  },
  {
   "cell_type": "code",
   "execution_count": 39,
   "metadata": {},
   "outputs": [],
   "source": [
    "######################################################################################################"
   ]
  },
  {
   "cell_type": "code",
   "execution_count": 40,
   "metadata": {},
   "outputs": [],
   "source": [
    "######################################################################################################"
   ]
  },
  {
   "cell_type": "code",
   "execution_count": 41,
   "metadata": {},
   "outputs": [],
   "source": [
    "##############################           order 5                   ###################################"
   ]
  },
  {
   "cell_type": "code",
   "execution_count": 42,
   "metadata": {},
   "outputs": [],
   "source": [
    "######################################################################################################"
   ]
  },
  {
   "cell_type": "code",
   "execution_count": 43,
   "metadata": {},
   "outputs": [],
   "source": [
    "######################################################################################################"
   ]
  },
  {
   "cell_type": "code",
   "execution_count": null,
   "metadata": {},
   "outputs": [],
   "source": []
  },
  {
   "cell_type": "code",
   "execution_count": null,
   "metadata": {},
   "outputs": [],
   "source": []
  },
  {
   "cell_type": "code",
   "execution_count": 44,
   "metadata": {},
   "outputs": [],
   "source": [
    "NNN=5"
   ]
  },
  {
   "cell_type": "code",
   "execution_count": 45,
   "metadata": {},
   "outputs": [],
   "source": [
    "eq_aa1=(f_w(x,NNN)-f_u(x,NNN)*f_eta_x(x,NNN)).expand()"
   ]
  },
  {
   "cell_type": "code",
   "execution_count": 51,
   "metadata": {},
   "outputs": [],
   "source": [
    "expr=eq_aa1.expand().coefficients(eps)"
   ]
  },
  {
   "cell_type": "code",
   "execution_count": 53,
   "metadata": {},
   "outputs": [],
   "source": [
    "temp=0\n",
    "for n1 in range(10+1):\n",
    "    if expr[n1][1]<=NNN:\n",
    "        temp=temp+expr[n1][0]*eps^n1"
   ]
  },
  {
   "cell_type": "code",
   "execution_count": 54,
   "metadata": {},
   "outputs": [],
   "source": [
    "temp1=temp.substitute(eps==1).expand().trig_reduce()"
   ]
  },
  {
   "cell_type": "code",
   "execution_count": 55,
   "metadata": {},
   "outputs": [
    {
     "data": {
      "text/plain": [
       "64/3*aa_4*bb_0^4*bb_1 + 81/8*aa_3*bb_0^3*bb_1^2 + aa_2*bb_0^2*bb_1^3 + 1/96*aa_1*bb_0*bb_1^4 + 81/8*aa_3*bb_0^4*bb_2 + 4*aa_2*bb_0^3*bb_1*bb_2 + 1/8*aa_1*bb_0^2*bb_1^2*bb_2 + 1/12*aa_1*bb_0^3*bb_2^2 + 2*aa_2*bb_0^4*bb_3 + 1/6*aa_1*bb_0^3*bb_1*bb_3 + 1/12*aa_1*bb_0^4*bb_4 + 3125/24*aa_5*bb_0^4*tanh(5*q) + 320/3*aa_4*bb_0^3*bb_1*tanh(4*q) + 405/16*aa_3*bb_0^2*bb_1^2*tanh(3*q) + 135/4*aa_3*bb_0^3*bb_2*tanh(3*q) + 5/3*aa_2*bb_0*bb_1^3*tanh(2*q) + 10*aa_2*bb_0^2*bb_1*bb_2*tanh(2*q) + 20/3*aa_2*bb_0^3*bb_3*tanh(2*q) + 5/384*aa_1*bb_1^4*tanh(q) + 5/16*aa_1*bb_0*bb_1^2*bb_2*tanh(q) + 5/16*aa_1*bb_0^2*bb_2^2*tanh(q) + 5/8*aa_1*bb_0^2*bb_1*bb_3*tanh(q) + 5/12*aa_1*bb_0^3*bb_4*tanh(q) + 625/6*aa_5*bb_0^3 + 80*aa_4*bb_0^2*bb_1 + 135/8*aa_3*bb_0*bb_1^2 + 5/6*aa_2*bb_1^3 + 135/4*aa_3*bb_0^2*bb_2 + 10*aa_2*bb_0*bb_1*bb_2 + 5/16*aa_1*bb_1^2*bb_2 + 5/8*aa_1*bb_0*bb_2^2 + 10*aa_2*bb_0^2*bb_3 + 5/4*aa_1*bb_0*bb_1*bb_3 + 5/4*aa_1*bb_0^2*bb_4 + 125/2*aa_5*bb_0^2*tanh(5*q) + 40*aa_4*bb_0*bb_1*tanh(4*q) + 45/8*aa_3*bb_1^2*tanh(3*q) + 45/2*aa_3*bb_0*bb_2*tanh(3*q) + 5*aa_2*bb_1*bb_2*tanh(2*q) + 10*aa_2*bb_0*bb_3*tanh(2*q) + 5/8*aa_1*bb_2^2*tanh(q) + 5/4*aa_1*bb_1*bb_3*tanh(q) + 5/2*aa_1*bb_0*bb_4*tanh(q) + 25*aa_5*bb_0 + 10*aa_4*bb_1 + 15/2*aa_3*bb_2 + 5*aa_2*bb_3 + 5/2*aa_1*bb_4 + 5*aa_5*tanh(5*q)"
      ]
     },
     "execution_count": 55,
     "metadata": {},
     "output_type": "execute_result"
    }
   ],
   "source": [
    "temp1.coefficient(cos(5*x))"
   ]
  },
  {
   "cell_type": "code",
   "execution_count": null,
   "metadata": {},
   "outputs": [],
   "source": []
  },
  {
   "cell_type": "code",
   "execution_count": null,
   "metadata": {},
   "outputs": [],
   "source": []
  },
  {
   "cell_type": "code",
   "execution_count": null,
   "metadata": {},
   "outputs": [],
   "source": []
  },
  {
   "cell_type": "code",
   "execution_count": 56,
   "metadata": {},
   "outputs": [],
   "source": [
    "eq_aa1=-(f_u(x,NNN)^2+f_w(x,NNN)^2+g*f_eta(x,NNN)).expand()"
   ]
  },
  {
   "cell_type": "code",
   "execution_count": 57,
   "metadata": {},
   "outputs": [],
   "source": [
    "expr=eq_aa1.expand().coefficients(eps)"
   ]
  },
  {
   "cell_type": "code",
   "execution_count": 58,
   "metadata": {},
   "outputs": [],
   "source": [
    "temp=0\n",
    "for n1 in range(10+1):\n",
    "    if expr[n1][1]<=NNN:\n",
    "        temp=temp+expr[n1][0]*eps^n1"
   ]
  },
  {
   "cell_type": "code",
   "execution_count": 59,
   "metadata": {},
   "outputs": [],
   "source": [
    "temp2=temp.substitute(eps==1).expand().trig_reduce()"
   ]
  },
  {
   "cell_type": "code",
   "execution_count": 60,
   "metadata": {},
   "outputs": [
    {
     "data": {
      "text/plain": [
       "-27/2*aa_2*aa_3*bb_0^8*tanh(3*q)*tanh(2*q) - 32/9*aa_2^2*bb_0^7*bb_1*tanh(2*q)^2 - 16/9*aa_1*aa_4*bb_0^8*tanh(4*q)*tanh(q) - 27/16*aa_1*aa_3*bb_0^7*bb_1*tanh(3*q)*tanh(q) - 7/18*aa_1*aa_2*bb_0^6*bb_1^2*tanh(2*q)*tanh(q) - 2/9*aa_1*aa_2*bb_0^7*bb_2*tanh(2*q)*tanh(q) - 7/1152*aa_1^2*bb_0^5*bb_1^3*tanh(q)^2 - 7/576*aa_1^2*bb_0^6*bb_1*bb_2*tanh(q)^2 - 1/288*aa_1^2*bb_0^7*bb_3*tanh(q)^2 + 27/2*aa_2*aa_3*bb_0^8 + 16/9*aa_1*aa_4*bb_0^8 + 32/9*aa_2^2*bb_0^7*bb_1 + 27/16*aa_1*aa_3*bb_0^7*bb_1 + 7/18*aa_1*aa_2*bb_0^6*bb_1^2 + 7/1152*aa_1^2*bb_0^5*bb_1^3 + 2/9*aa_1*aa_2*bb_0^7*bb_2 + 7/576*aa_1^2*bb_0^6*bb_1*bb_2 + 1/288*aa_1^2*bb_0^7*bb_3 - 16/3*aa_1*aa_4*bb_0^7*tanh(4*q) - 9*aa_2*aa_3*bb_0^7*tanh(3*q) - 63/16*aa_1*aa_3*bb_0^6*bb_1*tanh(3*q) + 9*aa_2*aa_3*bb_0^7*tanh(2*q) - 7/12*aa_1*aa_2*bb_0^5*bb_1^2*tanh(2*q) - 7/18*aa_1*aa_2*bb_0^6*bb_2*tanh(2*q) - 45/2*aa_2*aa_3*bb_0^6*tanh(3*q)*tanh(2*q) - 16/3*aa_2^2*bb_0^5*bb_1*tanh(2*q)^2 + 16/3*aa_1*aa_4*bb_0^7*tanh(q) + 63/16*aa_1*aa_3*bb_0^6*bb_1*tanh(q) + 7/12*aa_1*aa_2*bb_0^5*bb_1^2*tanh(q) + 7/18*aa_1*aa_2*bb_0^6*bb_2*tanh(q) - 140/9*aa_1*aa_4*bb_0^6*tanh(4*q)*tanh(q) - 81/8*aa_1*aa_3*bb_0^5*bb_1*tanh(3*q)*tanh(q) - 35/24*aa_1*aa_2*bb_0^4*bb_1^2*tanh(2*q)*tanh(q) - 7/6*aa_1*aa_2*bb_0^5*bb_2*tanh(2*q)*tanh(q) - 5/288*aa_1^2*bb_0^3*bb_1^3*tanh(q)^2 - 5/96*aa_1^2*bb_0^4*bb_1*bb_2*tanh(q)^2 - 1/48*aa_1^2*bb_0^5*bb_3*tanh(q)^2 + 45/2*aa_2*aa_3*bb_0^6 + 140/9*aa_1*aa_4*bb_0^6 + 16/3*aa_2^2*bb_0^5*bb_1 + 81/8*aa_1*aa_3*bb_0^5*bb_1 + 35/24*aa_1*aa_2*bb_0^4*bb_1^2 + 5/288*aa_1^2*bb_0^3*bb_1^3 + 7/6*aa_1*aa_2*bb_0^5*bb_2 + 5/96*aa_1^2*bb_0^4*bb_1*bb_2 + 1/48*aa_1^2*bb_0^5*bb_3 - 26*aa_1*aa_4*bb_0^5*tanh(4*q) - 21/2*aa_2*aa_3*bb_0^5*tanh(3*q) - 105/8*aa_1*aa_3*bb_0^4*bb_1*tanh(3*q) + 21/2*aa_2*aa_3*bb_0^5*tanh(2*q) - 5/4*aa_1*aa_2*bb_0^3*bb_1^2*tanh(2*q) - 5/4*aa_1*aa_2*bb_0^4*bb_2*tanh(2*q) - 1/4*aa_2*aa_3*bb_0^4*tanh(3*q)*tanh(2*q) + 26*aa_1*aa_4*bb_0^5*tanh(q) + 105/8*aa_1*aa_3*bb_0^4*bb_1*tanh(q) + 5/4*aa_1*aa_2*bb_0^3*bb_1^2*tanh(q) + 5/4*aa_1*aa_2*bb_0^4*bb_2*tanh(q) - 27/2*aa_1*aa_4*bb_0^4*tanh(4*q)*tanh(q) - 4*aa_1*aa_3*bb_0^3*bb_1*tanh(3*q)*tanh(q) - 1/8*aa_1*aa_2*bb_0^2*bb_1^2*tanh(2*q)*tanh(q) - 1/6*aa_1*aa_2*bb_0^3*bb_2*tanh(2*q)*tanh(q) + 1/4*aa_2*aa_3*bb_0^4 + 27/2*aa_1*aa_4*bb_0^4 + 4*aa_1*aa_3*bb_0^3*bb_1 + 1/8*aa_1*aa_2*bb_0^2*bb_1^2 + 1/6*aa_1*aa_2*bb_0^3*bb_2 + 18*aa_1*aa_4*bb_0^3*tanh(4*q) + aa_2*aa_3*bb_0^3*tanh(3*q) + 6*aa_1*aa_3*bb_0^2*bb_1*tanh(3*q) - aa_2*aa_3*bb_0^3*tanh(2*q) + 1/4*aa_1*aa_2*bb_0*bb_1^2*tanh(2*q) + 1/2*aa_1*aa_2*bb_0^2*bb_2*tanh(2*q) - 3*aa_2*aa_3*bb_0^2*tanh(3*q)*tanh(2*q) - 18*aa_1*aa_4*bb_0^3*tanh(q) - 6*aa_1*aa_3*bb_0^2*bb_1*tanh(q) - 1/4*aa_1*aa_2*bb_0*bb_1^2*tanh(q) - 1/2*aa_1*aa_2*bb_0^2*bb_2*tanh(q) - 18*aa_1*aa_4*bb_0^2*tanh(4*q)*tanh(q) - 6*aa_1*aa_3*bb_0*bb_1*tanh(3*q)*tanh(q) - 1/4*aa_1*aa_2*bb_1^2*tanh(2*q)*tanh(q) - aa_1*aa_2*bb_0*bb_2*tanh(2*q)*tanh(q) + 3*aa_2*aa_3*bb_0^2 + 18*aa_1*aa_4*bb_0^2 + 6*aa_1*aa_3*bb_0*bb_1 + 1/4*aa_1*aa_2*bb_1^2 + aa_1*aa_2*bb_0*bb_2 + 12*aa_1*aa_4*bb_0*tanh(4*q) + 6*aa_2*aa_3*bb_0*tanh(3*q) + 3*aa_1*aa_3*bb_1*tanh(3*q) - 6*aa_2*aa_3*bb_0*tanh(2*q) + aa_1*aa_2*bb_2*tanh(2*q) - 6*aa_2*aa_3*tanh(3*q)*tanh(2*q) - 12*aa_1*aa_4*bb_0*tanh(q) - 3*aa_1*aa_3*bb_1*tanh(q) - aa_1*aa_2*bb_2*tanh(q) - 4*aa_1*aa_4*tanh(4*q)*tanh(q) + 6*aa_2*aa_3 + 4*aa_1*aa_4 - bb_5*g"
      ]
     },
     "execution_count": 60,
     "metadata": {},
     "output_type": "execute_result"
    }
   ],
   "source": [
    "temp2.coefficient(cos(5*x))"
   ]
  },
  {
   "cell_type": "code",
   "execution_count": null,
   "metadata": {},
   "outputs": [],
   "source": []
  },
  {
   "cell_type": "code",
   "execution_count": null,
   "metadata": {},
   "outputs": [],
   "source": []
  },
  {
   "cell_type": "code",
   "execution_count": 93,
   "metadata": {},
   "outputs": [],
   "source": [
    "eq_aa1=(f_phi(x,NNN)).expand()"
   ]
  },
  {
   "cell_type": "code",
   "execution_count": 94,
   "metadata": {},
   "outputs": [],
   "source": [
    "expr=eq_aa1.expand().coefficients(eps)"
   ]
  },
  {
   "cell_type": "code",
   "execution_count": 95,
   "metadata": {},
   "outputs": [],
   "source": [
    "temp=0\n",
    "for n1 in range(10+1):\n",
    "    if expr[n1][1]<=NNN:\n",
    "        temp=temp+expr[n1][0]*eps^n1"
   ]
  },
  {
   "cell_type": "code",
   "execution_count": 96,
   "metadata": {},
   "outputs": [],
   "source": [
    "temp2=temp.substitute(eps==1).expand().trig_reduce()"
   ]
  },
  {
   "cell_type": "code",
   "execution_count": 99,
   "metadata": {},
   "outputs": [
    {
     "data": {
      "text/plain": [
       "1/384*aa_1*bb_1^4 + 1/6*aa_2*bb_1^3*tanh(2*q) + 1/16*aa_1*bb_1^2*bb_2*tanh(q) + 9/8*aa_3*bb_1^2 + aa_2*bb_1*bb_2 + 1/8*aa_1*bb_2^2 + 1/4*aa_1*bb_1*bb_3 + 2*aa_4*bb_1*tanh(4*q) + 3/2*aa_3*bb_2*tanh(3*q) + aa_2*bb_3*tanh(2*q) + 1/2*aa_1*bb_4*tanh(q) + aa_5"
      ]
     },
     "execution_count": 99,
     "metadata": {},
     "output_type": "execute_result"
    }
   ],
   "source": [
    "temp2.coefficient(cos(5*x))"
   ]
  },
  {
   "cell_type": "code",
   "execution_count": null,
   "metadata": {},
   "outputs": [],
   "source": []
  }
 ],
 "metadata": {
  "celltoolbar": "Raw Cell Format",
  "kernelspec": {
   "display_name": "SageMath 8.3",
   "language": "",
   "name": "sagemath"
  },
  "language_info": {
   "codemirror_mode": {
    "name": "ipython",
    "version": 2
   },
   "file_extension": ".py",
   "mimetype": "text/x-python",
   "name": "python",
   "nbconvert_exporter": "python",
   "pygments_lexer": "ipython2",
   "version": "2.7.15"
  }
 },
 "nbformat": 4,
 "nbformat_minor": 2
}
