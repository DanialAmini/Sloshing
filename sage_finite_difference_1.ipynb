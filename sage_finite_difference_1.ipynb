{
 "cells": [
  {
   "cell_type": "code",
   "execution_count": 3,
   "metadata": {},
   "outputs": [
    {
     "data": {
      "text/plain": [
       "8"
      ]
     },
     "execution_count": 3,
     "metadata": {},
     "output_type": "execute_result"
    }
   ],
   "source": [
    "1+1+1+4+1"
   ]
  },
  {
   "cell_type": "code",
   "execution_count": 4,
   "metadata": {},
   "outputs": [],
   "source": [
    "### program for standing waves based on theory of Sobey (2009)\n",
    "### for publication in ICE journal \n",
    "### code written in SAGE (which is an open source and free software)\n",
    "### the output must be suppressed wherever possible to save time"
   ]
  },
  {
   "cell_type": "code",
   "execution_count": 5,
   "metadata": {},
   "outputs": [],
   "source": [
    "reset()"
   ]
  },
  {
   "cell_type": "code",
   "execution_count": 6,
   "metadata": {},
   "outputs": [],
   "source": [
    "x, y, z, t,g=var('x y z t g')"
   ]
  },
  {
   "cell_type": "code",
   "execution_count": 7,
   "metadata": {},
   "outputs": [],
   "source": [
    "ii=var('ii')\n",
    "assume(ii,'integer')"
   ]
  },
  {
   "cell_type": "code",
   "execution_count": 8,
   "metadata": {},
   "outputs": [],
   "source": [
    "i, j, m=var('i j m')"
   ]
  },
  {
   "cell_type": "markdown",
   "metadata": {},
   "source": [
    "1"
   ]
  },
  {
   "cell_type": "code",
   "execution_count": 9,
   "metadata": {},
   "outputs": [],
   "source": [
    "a=var('a')"
   ]
  },
  {
   "cell_type": "code",
   "execution_count": 10,
   "metadata": {},
   "outputs": [],
   "source": [
    "#defining variables"
   ]
  },
  {
   "cell_type": "code",
   "execution_count": 11,
   "metadata": {},
   "outputs": [],
   "source": [
    "A =[0 for j in range(11)]"
   ]
  },
  {
   "cell_type": "code",
   "execution_count": 12,
   "metadata": {},
   "outputs": [],
   "source": [
    "B =[0 for j in range(11)]"
   ]
  },
  {
   "cell_type": "code",
   "execution_count": 74,
   "metadata": {},
   "outputs": [],
   "source": []
  },
  {
   "cell_type": "code",
   "execution_count": 75,
   "metadata": {},
   "outputs": [],
   "source": [
    "q=var('q')"
   ]
  },
  {
   "cell_type": "code",
   "execution_count": 76,
   "metadata": {},
   "outputs": [],
   "source": [
    "#populating variables with itself"
   ]
  },
  {
   "cell_type": "code",
   "execution_count": 92,
   "metadata": {},
   "outputs": [],
   "source": [
    "for j in range(11):\n",
    "    A[j]=var('aa_'+str(j))\n",
    "    B[j]=var('bb_'+str(j))\n",
    "B[0]=0\n",
    "bb_0=0"
   ]
  },
  {
   "cell_type": "code",
   "execution_count": 88,
   "metadata": {},
   "outputs": [],
   "source": [
    "#const1=(243*cos(x)*sin(t))/(16384*q^(19/2))-(189*cos(x)*sin(t))/(16384*q^(15/2))+(387*cos(x)*sin(t))/(16384*q^(11/2))-(675*cos(x)*sin(t))/(8192*q^(7/2))+(297*cos(x)*sin(t))/(16384*q^(3/2))+(3*sqrt(q)*cos(x)*sin(t))/16384+(5*q^(5/2)*cos(x)*sin(t))/16384-(3*q^(9/2)*cos(x)*sin(t))/2048-(3*q^(13/2)*cos(x)*sin(t))/4096-q*A[5][1][1]*cos(x)*sin(t)-sqrt(q)*B[5][1][1]*cos(x)*sin(t)-C[5]*cos(x)*sin(t)-(81*cos(t)^2*cos(x)^3*sin(t))/(512*q^(11/2))-(57*cos(t)^2*cos(x)^3*sin(t))/(512*q^(7/2))-(15*cos(t)^2*cos(x)^3*sin(t))/(32*q^(3/2))+149/512*sqrt(q)*cos(t)^2*cos(x)^3*sin(t)-17/512*q^(5/2)*cos(t)^2*cos(x)^3*sin(t)-9/256*q^(9/2)*cos(t)^2*cos(x)^3*sin(t)-(3*cos(t)*cos(3*t)*cos(x)^3*sin(t))/(256*q^(7/2))-(9*cos(t)*cos(3*t)*cos(x)^3*sin(t))/(128*q^(3/2))+5/256*sqrt(q)*cos(t)*cos(3*t)*cos(x)^3*sin(t)+1/24*sqrt(q)*cos(t)^4*cos(x)^5*sin(t)-(4*q*A[5][2][1]*cos(2*x)*sin(t))/(1+q^2)-sqrt(q)*B[5][2][1]*cos(2*x)*sin(t)-(81*cos(x)*cos(2*x)*sin(t))/(2048*q^(15/2))-(45*cos(x)*cos(2*x)*sin(t))/(512*q^(11/2))-(177*cos(x)*cos(2*x)*sin(t))/(2048*q^(7/2))+(13*cos(x)*cos(2*x)*sin(t))/(2048*q^(3/2))+1/128*sqrt(q)*cos(x)*cos(2*x)*sin(t)-(81*q^(5/2)*cos(x)*cos(2*x)*sin(t))/2048-(3*q^(9/2)*cos(x)*cos(2*x)*sin(t))/1024-(297*cos(2*t)*cos(x)*cos(2*x)*sin(t))/(2048*q^(19/2))-(99*cos(2*t)*cos(x)*cos(2*x)*sin(t))/(1024*q^(15/2))-(501*cos(2*t)*cos(x)*cos(2*x)*sin(t))/(2048*q^(11/2))+(1399*cos(2*t)*cos(x)*cos(2*x)*sin(t))/(6144*q^(7/2))-(27*cos(2*t)*cos(x)*cos(2*x)*sin(t))/(256*q^(3/2))-(151*sqrt(q)*cos(2*t)*cos(x)*cos(2*x)*sin(t))/2048+(3*q^(5/2)*cos(2*t)*cos(x)*cos(2*x)*sin(t))/1024-(27*cos(4*t)*cos(x)*cos(2*x)*sin(t))/(1024*q^(15/2)*(3+4*q^2))-(351*cos(4*t)*cos(x)*cos(2*x)*sin(t))/(1024*q^(11/2)*(3+4*q^2))+(117*cos(4*t)*cos(x)*cos(2*x)*sin(t))/(1024*q^(7/2)*(3+4*q^2))-(283*cos(4*t)*cos(x)*cos(2*x)*sin(t))/(3072*q^(3/2)*(3+4*q^2))-(sqrt(q)*cos(4*t)*cos(x)*cos(2*x)*sin(t))/(512*(3+4*q^2))+(cos(t)^2*cos(x)^3*cos(2*x)*sin(t))/(16*q^(3/2))+1/16*sqrt(q)*cos(t)^2*cos(x)^3*cos(2*x)*sin(t)+(3*cos(t)^2*cos(2*t)*cos(x)^3*cos(2*x)*sin(t))/(16*q^(7/2))-(cos(t)^2*cos(2*t)*cos(x)^3*cos(2*x)*sin(t))/(16*q^(3/2))+(cos(x)*cos(2*x)^2*sin(t))/(128*q^(3/2))+1/64*sqrt(q)*cos(x)*cos(2*x)^2*sin(t)+1/128*q^(5/2)*cos(x)*cos(2*x)^2*sin(t)+(3*cos(2*t)*cos(x)*cos(2*x)^2*sin(t))/(64*q^(7/2))+(cos(2*t)*cos(x)*cos(2*x)^2*sin(t))/(32*q^(3/2))-1/64*sqrt(q)*cos(2*t)*cos(x)*cos(2*x)^2*sin(t)+(9*cos(2*t)^2*cos(x)*cos(2*x)^2*sin(t))/(128*q^(11/2))-(3*cos(2*t)^2*cos(x)*cos(2*x)^2*sin(t))/(64*q^(7/2))+(cos(2*t)^2*cos(x)*cos(2*x)^2*sin(t))/(128*q^(3/2))-(243*cos(3*x)*sin(t))/(16384*q^(15/2))-(405*cos(3*x)*sin(t))/(16384*q^(11/2))+(729*cos(3*x)*sin(t))/(8192*q^(7/2))-(135*cos(3*x)*sin(t))/(8192*q^(3/2))+(9*sqrt(q)*cos(3*x)*sin(t))/16384-(9*q^(5/2)*cos(3*x)*sin(t))/16384+(3*q^(9/2)*cos(3*x)*sin(t))/2048+(3*q^(13/2)*cos(3*x)*sin(t))/4096-(9*q*A[5][3][1]*cos(3*x)*sin(t))/(1+3*q^2)-(3*q^3*A[5][3][1]*cos(3*x)*sin(t))/(1+3*q^2)-sqrt(q)*B[5][3][1]*cos(3*x)*sin(t)+(27*cos(t)^2*cos(x)^2*cos(3*x)*sin(t))/(256*q^(7/2))+(81*cos(t)^2*cos(x)^2*cos(3*x)*sin(t))/(256*q^(3/2))-45/256*sqrt(q)*cos(t)^2*cos(x)^2*cos(3*x)*sin(t)+3/256*q^(5/2)*cos(t)^2*cos(x)^2*cos(3*x)*sin(t)+3/128*q^(9/2)*cos(t)^2*cos(x)^2*cos(3*x)*sin(t)+(243*cos(t)^2*cos(x)^2*cos(3*x)*sin(t))/(512*q^(7/2)*(1+3*q^2))+(405*cos(t)^2*cos(x)^2*cos(3*x)*sin(t))/(256*q^(3/2)*(1+3*q^2))-(81*sqrt(q)*cos(t)^2*cos(x)^2*cos(3*x)*sin(t))/(256*(1+3*q^2))-(297*q^(5/2)*cos(t)^2*cos(x)^2*cos(3*x)*sin(t))/(128*(1+3*q^2))+(135*q^(9/2)*cos(t)^2*cos(x)^2*cos(3*x)*sin(t))/(512*(1+3*q^2))+(81*q^(13/2)*cos(t)^2*cos(x)^2*cos(3*x)*sin(t))/(256*(1+3*q^2))+(27*cos(t)*cos(3*t)*cos(x)^2*cos(3*x)*sin(t))/(256*q^(11/2))-(9*cos(t)*cos(3*t)*cos(x)^2*cos(3*x)*sin(t))/(256*q^(7/2))+(9*cos(t)*cos(3*t)*cos(x)^2*cos(3*x)*sin(t))/(256*q^(3/2))-3/256*sqrt(q)*cos(t)*cos(3*t)*cos(x)^2*cos(3*x)*sin(t)+(27*cos(2*x)*cos(3*x)*sin(t))/(2048*q^(11/2))+(27*cos(2*x)*cos(3*x)*sin(t))/(512*q^(7/2))+(9*cos(2*x)*cos(3*x)*sin(t))/(512*q^(3/2))-(81*sqrt(q)*cos(2*x)*cos(3*x)*sin(t))/1024-(63*q^(5/2)*cos(2*x)*cos(3*x)*sin(t))/2048+(27*q^(9/2)*cos(2*x)*cos(3*x)*sin(t))/1024+(81*cos(2*t)*cos(2*x)*cos(3*x)*sin(t))/(2048*q^(15/2))+(27*cos(2*t)*cos(2*x)*cos(3*x)*sin(t))/(256*q^(11/2))-(27*cos(2*t)*cos(2*x)*cos(3*x)*sin(t))/(256*q^(7/2))-(153*cos(2*t)*cos(2*x)*cos(3*x)*sin(t))/(1024*q^(3/2))+(279*sqrt(q)*cos(2*t)*cos(2*x)*cos(3*x)*sin(t))/2048-(27*q^(5/2)*cos(2*t)*cos(2*x)*cos(3*x)*sin(t))/1024-(16*q*A[5][4][1]*cos(4*x)*sin(t))/(1+6*q^2+q^4)-(16*q^3*A[5][4][1]*cos(4*x)*sin(t))/(1+6*q^2+q^4)-sqrt(q)*B[5][4][1]*cos(4*x)*sin(t)+(9*cos(x)*cos(4*x)*sin(t))/(512*q^(15/2))+(81*cos(x)*cos(4*x)*sin(t))/(1024*q^(11/2))+(33*cos(x)*cos(4*x)*sin(t))/(512*q^(7/2))+(cos(x)*cos(4*x)*sin(t))/(512*q^(3/2))-33/512*sqrt(q)*cos(x)*cos(4*x)*sin(t)+(21*q^(5/2)*cos(x)*cos(4*x)*sin(t))/1024+3/512*q^(9/2)*cos(x)*cos(4*x)*sin(t)+(27*cos(2*t)*cos(x)*cos(4*x)*sin(t))/(256*q^(15/2)*(3+q^2))+(207*cos(2*t)*cos(x)*cos(4*x)*sin(t))/(256*q^(11/2)*(3+q^2))-(3*cos(2*t)*cos(x)*cos(4*x)*sin(t))/(8*q^(7/2)*(3+q^2))-(259*cos(2*t)*cos(x)*cos(4*x)*sin(t))/(384*q^(3/2)*(3+q^2))+(91*sqrt(q)*cos(2*t)*cos(x)*cos(4*x)*sin(t))/(256*(3+q^2))+(35*q^(5/2)*cos(2*t)*cos(x)*cos(4*x)*sin(t))/(256*(3+q^2))-(3*q^(9/2)*cos(2*t)*cos(x)*cos(4*x)*sin(t))/(128*(3+q^2))+(135*cos(4*t)*cos(x)*cos(4*x)*sin(t))/(1024*q^(19/2)*(5+q^2))+(27*cos(4*t)*cos(x)*cos(4*x)*sin(t))/(1024*q^(15/2)*(5+q^2))+(87*cos(4*t)*cos(x)*cos(4*x)*sin(t))/(512*q^(11/2)*(5+q^2))-(131*cos(4*t)*cos(x)*cos(4*x)*sin(t))/(1536*q^(7/2)*(5+q^2))+(cos(4*t)*cos(x)*cos(4*x)*sin(t))/(3072*q^(3/2)*(5+q^2))+(7*sqrt(q)*cos(4*t)*cos(x)*cos(4*x)*sin(t))/(1024*(5+q^2))-(25*q*A[5][5][1]*cos(5*x)*sin(t))/(1+10*q^2+5*q^4)-(50*q^3*A[5][5][1]*cos(5*x)*sin(t))/(1+10*q^2+5*q^4)-(5*q^5*A[5][5][1]*cos(5*x)*sin(t))/(1+10*q^2+5*q^4)-sqrt(q)*B[5][5][1]*cos(5*x)*sin(t)-q*A[5][1][2]*cos(x)*sin(2*t)-2*sqrt(q)*B[5][1][2]*cos(x)*sin(2*t)-(4*q*A[5][2][2]*cos(2*x)*sin(2*t))/(1+q^2)-2*sqrt(q)*B[5][2][2]*cos(2*x)*sin(2*t)-(297*cos(t)*cos(x)*cos(2*x)*sin(2*t))/(1024*q^(19/2))-(297*cos(t)*cos(x)*cos(2*x)*sin(2*t))/(1024*q^(15/2))-(471*cos(t)*cos(x)*cos(2*x)*sin(2*t))/(1024*q^(11/2))+(773*cos(t)*cos(x)*cos(2*x)*sin(2*t))/(1536*q^(7/2))+(527*cos(t)*cos(x)*cos(2*x)*sin(2*t))/(1024*q^(3/2))-(1477*sqrt(q)*cos(t)*cos(x)*cos(2*x)*sin(2*t))/3072-(15*q^(5/2)*cos(t)*cos(x)*cos(2*x)*sin(2*t))/1024+9/512*q^(9/2)*cos(t)*cos(x)*cos(2*x)*sin(2*t)-(9*cos(3*t)*cos(x)*cos(2*x)*sin(2*t))/(1024*q^(15/2))-(27*cos(3*t)*cos(x)*cos(2*x)*sin(2*t))/(512*q^(11/2))+(3*cos(3*t)*cos(x)*cos(2*x)*sin(2*t))/(128*q^(7/2))+(27*cos(3*t)*cos(x)*cos(2*x)*sin(2*t))/(512*q^(3/2))-(15*sqrt(q)*cos(3*t)*cos(x)*cos(2*x)*sin(2*t))/1024+(cos(t)^3*cos(x)^3*cos(2*x)*sin(2*t))/(2*q^(7/2))-1/2*sqrt(q)*cos(t)^3*cos(x)^3*cos(2*x)*sin(2*t)+(3*cos(t)*cos(x)*cos(2*x)^2*sin(2*t))/(8*q^(7/2)*(1+q^2))+(3*cos(t)*cos(x)*cos(2*x)^2*sin(2*t))/(8*q^(3/2)*(1+q^2))-(3*sqrt(q)*cos(t)*cos(x)*cos(2*x)^2*sin(2*t))/(8*(1+q^2))-(3*q^(5/2)*cos(t)*cos(x)*cos(2*x)^2*sin(2*t))/(8*(1+q^2))+(9*cos(t)*cos(2*t)*cos(x)*cos(2*x)^2*sin(2*t))/(8*q^(11/2)*(1+q^2))-(3*cos(t)*cos(2*t)*cos(x)*cos(2*x)^2*sin(2*t))/(8*q^(7/2)*(1+q^2))-(9*cos(t)*cos(2*t)*cos(x)*cos(2*x)^2*sin(2*t))/(8*q^(3/2)*(1+q^2))+(3*sqrt(q)*cos(t)*cos(2*t)*cos(x)*cos(2*x)^2*sin(2*t))/(8*(1+q^2))-(9*q*A[5][3][2]*cos(3*x)*sin(2*t))/(1+3*q^2)-(3*q^3*A[5][3][2]*cos(3*x)*sin(2*t))/(1+3*q^2)-2*sqrt(q)*B[5][3][2]*cos(3*x)*sin(2*t)+(81*cos(t)*cos(2*x)*cos(3*x)*sin(2*t))/(1024*q^(15/2))+(243*cos(t)*cos(2*x)*cos(3*x)*sin(2*t))/(1024*q^(11/2))-(27*cos(t)*cos(2*x)*cos(3*x)*sin(2*t))/(128*q^(7/2))-(117*cos(t)*cos(2*x)*cos(3*x)*sin(2*t))/(512*q^(3/2))+(153*sqrt(q)*cos(t)*cos(2*x)*cos(3*x)*sin(2*t))/1024-(9*q^(5/2)*cos(t)*cos(2*x)*cos(3*x)*sin(2*t))/1024-9/512*q^(9/2)*cos(t)*cos(2*x)*cos(3*x)*sin(2*t)+(81*cos(3*t)*cos(2*x)*cos(3*x)*sin(2*t))/(1024*q^(19/2))-(27*cos(3*t)*cos(2*x)*cos(3*x)*sin(2*t))/(1024*q^(15/2))-(27*cos(3*t)*cos(2*x)*cos(3*x)*sin(2*t))/(512*q^(11/2))+(9*cos(3*t)*cos(2*x)*cos(3*x)*sin(2*t))/(512*q^(7/2))-(27*cos(3*t)*cos(2*x)*cos(3*x)*sin(2*t))/(1024*q^(3/2))+(9*sqrt(q)*cos(3*t)*cos(2*x)*cos(3*x)*sin(2*t))/1024-(16*q*A[5][4][2]*cos(4*x)*sin(2*t))/(1+6*q^2+q^4)-(16*q^3*A[5][4][2]*cos(4*x)*sin(2*t))/(1+6*q^2+q^4)-2*sqrt(q)*B[5][4][2]*cos(4*x)*sin(2*t)+(27*cos(t)*cos(x)*cos(4*x)*sin(2*t))/(128*q^(15/2)*(3+q^2))+(27*cos(t)*cos(x)*cos(4*x)*sin(2*t))/(16*q^(11/2)*(3+q^2))+(69*cos(t)*cos(x)*cos(4*x)*sin(2*t))/(128*q^(7/2)*(3+q^2))-(2251*cos(t)*cos(x)*cos(4*x)*sin(2*t))/(192*q^(3/2)*(3+q^2))+(581*sqrt(q)*cos(t)*cos(x)*cos(4*x)*sin(2*t))/(128*(3+q^2))+(265*q^(5/2)*cos(t)*cos(x)*cos(4*x)*sin(2*t))/(96*(3+q^2))-(69*q^(9/2)*cos(t)*cos(x)*cos(4*x)*sin(2*t))/(128*(3+q^2))-(9*q^(13/2)*cos(t)*cos(x)*cos(4*x)*sin(2*t))/(64*(3+q^2))-(25*q*A[5][5][2]*cos(5*x)*sin(2*t))/(1+10*q^2+5*q^4)-(50*q^3*A[5][5][2]*cos(5*x)*sin(2*t))/(1+10*q^2+5*q^4)-(5*q^5*A[5][5][2]*cos(5*x)*sin(2*t))/(1+10*q^2+5*q^4)-2*sqrt(q)*B[5][5][2]*cos(5*x)*sin(2*t)+(81*cos(x)*sin(3*t))/(16384*q^(15/2))+(189*cos(x)*sin(3*t))/(8192*q^(11/2))-(405*cos(x)*sin(3*t))/(8192*q^(7/2))-(63*sqrt(q)*cos(x)*sin(3*t))/16384+(15*q^(5/2)*cos(x)*sin(3*t))/8192-q*A[5][1][3]*cos(x)*sin(3*t)-3*sqrt(q)*B[5][1][3]*cos(x)*sin(3*t)-(9*cos(t)^2*cos(x)^3*sin(3*t))/(512*q^(7/2))-(31*cos(t)^2*cos(x)^3*sin(3*t))/(256*q^(3/2))+31/512*sqrt(q)*cos(t)^2*cos(x)^3*sin(3*t)-(4*q*A[5][2][3]*cos(2*x)*sin(3*t))/(1+q^2)-3*sqrt(q)*B[5][2][3]*cos(2*x)*sin(3*t)-(9*cos(x)*cos(2*x)*sin(3*t))/(2048*q^(11/2))-(71*cos(x)*cos(2*x)*sin(3*t))/(2048*q^(7/2))-(31*cos(x)*cos(2*x)*sin(3*t))/(2048*q^(3/2))+(31*sqrt(q)*cos(x)*cos(2*x)*sin(3*t))/2048-(27*cos(2*t)*cos(x)*cos(2*x)*sin(3*t))/(2048*q^(15/2))-(177*cos(2*t)*cos(x)*cos(2*x)*sin(3*t))/(2048*q^(11/2))+(155*cos(2*t)*cos(x)*cos(2*x)*sin(3*t))/(2048*q^(7/2))-(31*cos(2*t)*cos(x)*cos(2*x)*sin(3*t))/(2048*q^(3/2))-(729*cos(3*x)*sin(3*t))/(16384*q^(19/2))+(1215*cos(3*x)*sin(3*t))/(16384*q^(15/2))-(81*cos(3*x)*sin(3*t))/(4096*q^(11/2))+(243*cos(3*x)*sin(3*t))/(8192*q^(7/2))-(81*cos(3*x)*sin(3*t))/(16384*q^(3/2))+(27*sqrt(q)*cos(3*x)*sin(3*t))/16384-(9*q^(5/2)*cos(3*x)*sin(3*t))/8192-(9*q*A[5][3][3]*cos(3*x)*sin(3*t))/(1+3*q^2)-(3*q^3*A[5][3][3]*cos(3*x)*sin(3*t))/(1+3*q^2)-3*sqrt(q)*B[5][3][3]*cos(3*x)*sin(3*t)+(729*cos(t)^2*cos(x)^2*cos(3*x)*sin(3*t))/(512*q^(11/2)*(1+3*q^2))+(81*cos(t)^2*cos(x)^2*cos(3*x)*sin(3*t))/(64*q^(7/2)*(1+3*q^2))-(2079*cos(t)^2*cos(x)^2*cos(3*x)*sin(3*t))/(256*q^(3/2)*(1+3*q^2))+(27*sqrt(q)*cos(t)^2*cos(x)^2*cos(3*x)*sin(3*t))/(8*(1+3*q^2))+(1053*q^(5/2)*cos(t)^2*cos(x)^2*cos(3*x)*sin(3*t))/(512*(1+3*q^2))+(81*cos(2*x)*cos(3*x)*sin(3*t))/(2048*q^(15/2))+(63*cos(2*x)*cos(3*x)*sin(3*t))/(1024*q^(11/2))-(27*cos(2*x)*cos(3*x)*sin(3*t))/(128*q^(7/2))-(63*cos(2*x)*cos(3*x)*sin(3*t))/(1024*q^(3/2))+(351*sqrt(q)*cos(2*x)*cos(3*x)*sin(3*t))/2048+(243*cos(2*t)*cos(2*x)*cos(3*x)*sin(3*t))/(2048*q^(19/2))+(27*cos(2*t)*cos(2*x)*cos(3*x)*sin(3*t))/(1024*q^(15/2))-(369*cos(2*t)*cos(2*x)*cos(3*x)*sin(3*t))/(512*q^(11/2))+(765*cos(2*t)*cos(2*x)*cos(3*x)*sin(3*t))/(1024*q^(7/2))-(351*cos(2*t)*cos(2*x)*cos(3*x)*sin(3*t))/(2048*q^(3/2))-(16*q*A[5][4][3]*cos(4*x)*sin(3*t))/(1+6*q^2+q^4)-(16*q^3*A[5][4][3]*cos(4*x)*sin(3*t))/(1+6*q^2+q^4)-3*sqrt(q)*B[5][4][3]*cos(4*x)*sin(3*t)-(25*q*A[5][5][3]*cos(5*x)*sin(3*t))/(1+10*q^2+5*q^4)-(50*q^3*A[5][5][3]*cos(5*x)*sin(3*t))/(1+10*q^2+5*q^4)-(5*q^5*A[5][5][3]*cos(5*x)*sin(3*t))/(1+10*q^2+5*q^4)-3*sqrt(q)*B[5][5][3]*cos(5*x)*sin(3*t)-q*A[5][1][4]*cos(x)*sin(4*t)-4*sqrt(q)*B[5][1][4]*cos(x)*sin(4*t)-(4*q*A[5][2][4]*cos(2*x)*sin(4*t))/(1+q^2)-4*sqrt(q)*B[5][2][4]*cos(2*x)*sin(4*t)-(27*cos(t)*cos(x)*cos(2*x)*sin(4*t))/(256*q^(15/2)*(3+4*q^2))-(99*cos(t)*cos(x)*cos(2*x)*sin(4*t))/(64*q^(11/2)*(3+4*q^2))-(3*cos(t)*cos(x)*cos(2*x)*sin(4*t))/(16*q^(7/2)*(3+4*q^2))+(649*cos(t)*cos(x)*cos(2*x)*sin(4*t))/(384*q^(3/2)*(3+4*q^2))-(21*sqrt(q)*cos(t)*cos(x)*cos(2*x)*sin(4*t))/(256*(3+4*q^2))-(199*q^(5/2)*cos(t)*cos(x)*cos(2*x)*sin(4*t))/(384*(3+4*q^2))-(9*q*A[5][3][4]*cos(3*x)*sin(4*t))/(1+3*q^2)-(3*q^3*A[5][3][4]*cos(3*x)*sin(4*t))/(1+3*q^2)-4*sqrt(q)*B[5][3][4]*cos(3*x)*sin(4*t)-(16*q*A[5][4][4]*cos(4*x)*sin(4*t))/(1+6*q^2+q^4)-(16*q^3*A[5][4][4]*cos(4*x)*sin(4*t))/(1+6*q^2+q^4)-4*sqrt(q)*B[5][4][4]*cos(4*x)*sin(4*t)+(135*cos(t)*cos(x)*cos(4*x)*sin(4*t))/(256*q^(19/2)*(5+q^2))+(63*cos(t)*cos(x)*cos(4*x)*sin(4*t))/(64*q^(15/2)*(5+q^2))-(2541*cos(t)*cos(x)*cos(4*x)*sin(4*t))/(256*q^(11/2)*(5+q^2))+(617*cos(t)*cos(x)*cos(4*x)*sin(4*t))/(48*q^(7/2)*(5+q^2))-(1481*cos(t)*cos(x)*cos(4*x)*sin(4*t))/(768*q^(3/2)*(5+q^2))-(433*sqrt(q)*cos(t)*cos(x)*cos(4*x)*sin(4*t))/(192*(5+q^2))-(197*q^(5/2)*cos(t)*cos(x)*cos(4*x)*sin(4*t))/(768*(5+q^2))-(25*q*A[5][5][4]*cos(5*x)*sin(4*t))/(1+10*q^2+5*q^4)-(50*q^3*A[5][5][4]*cos(5*x)*sin(4*t))/(1+10*q^2+5*q^4)-(5*q^5*A[5][5][4]*cos(5*x)*sin(4*t))/(1+10*q^2+5*q^4)-4*sqrt(q)*B[5][5][4]*cos(5*x)*sin(4*t)-q*A[5][1][5]*cos(x)*sin(5*t)-5*sqrt(q)*B[5][1][5]*cos(x)*sin(5*t)-(4*q*A[5][2][5]*cos(2*x)*sin(5*t))/(1+q^2)-5*sqrt(q)*B[5][2][5]*cos(2*x)*sin(5*t)-(9*q*A[5][3][5]*cos(3*x)*sin(5*t))/(1+3*q^2)-(3*q^3*A[5][3][5]*cos(3*x)*sin(5*t))/(1+3*q^2)-5*sqrt(q)*B[5][3][5]*cos(3*x)*sin(5*t)-(16*q*A[5][4][5]*cos(4*x)*sin(5*t))/(1+6*q^2+q^4)-(16*q^3*A[5][4][5]*cos(4*x)*sin(5*t))/(1+6*q^2+q^4)-5*sqrt(q)*B[5][4][5]*cos(4*x)*sin(5*t)-(25*q*A[5][5][5]*cos(5*x)*sin(5*t))/(1+10*q^2+5*q^4)-(50*q^3*A[5][5][5]*cos(5*x)*sin(5*t))/(1+10*q^2+5*q^4)-(5*q^5*A[5][5][5]*cos(5*x)*sin(5*t))/(1+10*q^2+5*q^4)-5*sqrt(q)*B[5][5][5]*cos(5*x)*sin(5*t)+(81*cos(t)^2*cos(x)*sin(t)*sin(x)^2)/(256*q^(11/2))+(57*cos(t)^2*cos(x)*sin(t)*sin(x)^2)/(256*q^(7/2))+(15*cos(t)^2*cos(x)*sin(t)*sin(x)^2)/(16*q^(3/2))-149/256*sqrt(q)*cos(t)^2*cos(x)*sin(t)*sin(x)^2+17/256*q^(5/2)*cos(t)^2*cos(x)*sin(t)*sin(x)^2+9/128*q^(9/2)*cos(t)^2*cos(x)*sin(t)*sin(x)^2+(3*cos(t)*cos(3*t)*cos(x)*sin(t)*sin(x)^2)/(128*q^(7/2))+(9*cos(t)*cos(3*t)*cos(x)*sin(t)*sin(x)^2)/(64*q^(3/2))-5/128*sqrt(q)*cos(t)*cos(3*t)*cos(x)*sin(t)*sin(x)^2-1/6*sqrt(q)*cos(t)^4*cos(x)^3*sin(t)*sin(x)^2-(cos(t)^2*cos(x)*cos(2*x)*sin(t)*sin(x)^2)/(8*q^(3/2))-1/8*sqrt(q)*cos(t)^2*cos(x)*cos(2*x)*sin(t)*sin(x)^2-(3*cos(t)^2*cos(2*t)*cos(x)*cos(2*x)*sin(t)*sin(x)^2)/(8*q^(7/2))+(cos(t)^2*cos(2*t)*cos(x)*cos(2*x)*sin(t)*sin(x)^2)/(8*q^(3/2))-(27*cos(t)^2*cos(3*x)*sin(t)*sin(x)^2)/(256*q^(7/2))-(81*cos(t)^2*cos(3*x)*sin(t)*sin(x)^2)/(256*q^(3/2))+45/256*sqrt(q)*cos(t)^2*cos(3*x)*sin(t)*sin(x)^2-3/256*q^(5/2)*cos(t)^2*cos(3*x)*sin(t)*sin(x)^2-3/128*q^(9/2)*cos(t)^2*cos(3*x)*sin(t)*sin(x)^2-(27*cos(t)*cos(3*t)*cos(3*x)*sin(t)*sin(x)^2)/(256*q^(11/2))+(9*cos(t)*cos(3*t)*cos(3*x)*sin(t)*sin(x)^2)/(256*q^(7/2))-(9*cos(t)*cos(3*t)*cos(3*x)*sin(t)*sin(x)^2)/(256*q^(3/2))+3/256*sqrt(q)*cos(t)*cos(3*t)*cos(3*x)*sin(t)*sin(x)^2+(9*cos(t)^2*cos(x)*sin(3*t)*sin(x)^2)/(256*q^(7/2))+(31*cos(t)^2*cos(x)*sin(3*t)*sin(x)^2)/(128*q^(3/2))-31/256*sqrt(q)*cos(t)^2*cos(x)*sin(3*t)*sin(x)^2+(81*sin(t)*sin(x)*sin(2*x))/(1024*q^(15/2))+(45*sin(t)*sin(x)*sin(2*x))/(256*q^(11/2))+(177*sin(t)*sin(x)*sin(2*x))/(1024*q^(7/2))-(13*sin(t)*sin(x)*sin(2*x))/(1024*q^(3/2))-1/64*sqrt(q)*sin(t)*sin(x)*sin(2*x)+(81*q^(5/2)*sin(t)*sin(x)*sin(2*x))/1024+3/512*q^(9/2)*sin(t)*sin(x)*sin(2*x)+(297*cos(2*t)*sin(t)*sin(x)*sin(2*x))/(1024*q^(19/2))+(99*cos(2*t)*sin(t)*sin(x)*sin(2*x))/(512*q^(15/2))+(501*cos(2*t)*sin(t)*sin(x)*sin(2*x))/(1024*q^(11/2))-(1399*cos(2*t)*sin(t)*sin(x)*sin(2*x))/(3072*q^(7/2))+(27*cos(2*t)*sin(t)*sin(x)*sin(2*x))/(128*q^(3/2))+(151*sqrt(q)*cos(2*t)*sin(t)*sin(x)*sin(2*x))/1024-3/512*q^(5/2)*cos(2*t)*sin(t)*sin(x)*sin(2*x)+(27*cos(4*t)*sin(t)*sin(x)*sin(2*x))/(512*q^(15/2)*(3+4*q^2))+(351*cos(4*t)*sin(t)*sin(x)*sin(2*x))/(512*q^(11/2)*(3+4*q^2))-(117*cos(4*t)*sin(t)*sin(x)*sin(2*x))/(512*q^(7/2)*(3+4*q^2))+(283*cos(4*t)*sin(t)*sin(x)*sin(2*x))/(1536*q^(3/2)*(3+4*q^2))+(sqrt(q)*cos(4*t)*sin(t)*sin(x)*sin(2*x))/(256*(3+4*q^2))-(cos(t)^2*cos(x)^2*sin(t)*sin(x)*sin(2*x))/(8*q^(3/2))-1/8*sqrt(q)*cos(t)^2*cos(x)^2*sin(t)*sin(x)*sin(2*x)-(3*cos(t)^2*cos(2*t)*cos(x)^2*sin(t)*sin(x)*sin(2*x))/(8*q^(7/2))+(cos(t)^2*cos(2*t)*cos(x)^2*sin(t)*sin(x)*sin(2*x))/(8*q^(3/2))-(cos(2*x)*sin(t)*sin(x)*sin(2*x))/(32*q^(3/2))-1/16*sqrt(q)*cos(2*x)*sin(t)*sin(x)*sin(2*x)-1/32*q^(5/2)*cos(2*x)*sin(t)*sin(x)*sin(2*x)-(3*cos(2*t)*cos(2*x)*sin(t)*sin(x)*sin(2*x))/(16*q^(7/2))-(cos(2*t)*cos(2*x)*sin(t)*sin(x)*sin(2*x))/(8*q^(3/2))+1/16*sqrt(q)*cos(2*t)*cos(2*x)*sin(t)*sin(x)*sin(2*x)-(9*cos(2*t)^2*cos(2*x)*sin(t)*sin(x)*sin(2*x))/(32*q^(11/2))+(3*cos(2*t)^2*cos(2*x)*sin(t)*sin(x)*sin(2*x))/(16*q^(7/2))-(cos(2*t)^2*cos(2*x)*sin(t)*sin(x)*sin(2*x))/(32*q^(3/2))+(297*cos(t)*sin(2*t)*sin(x)*sin(2*x))/(2048*q^(19/2))+(297*cos(t)*sin(2*t)*sin(x)*sin(2*x))/(2048*q^(15/2))+(471*cos(t)*sin(2*t)*sin(x)*sin(2*x))/(2048*q^(11/2))-(773*cos(t)*sin(2*t)*sin(x)*sin(2*x))/(3072*q^(7/2))-(527*cos(t)*sin(2*t)*sin(x)*sin(2*x))/(2048*q^(3/2))+(1477*sqrt(q)*cos(t)*sin(2*t)*sin(x)*sin(2*x))/6144+(15*q^(5/2)*cos(t)*sin(2*t)*sin(x)*sin(2*x))/2048-(9*q^(9/2)*cos(t)*sin(2*t)*sin(x)*sin(2*x))/1024+(9*cos(3*t)*sin(2*t)*sin(x)*sin(2*x))/(2048*q^(15/2))+(27*cos(3*t)*sin(2*t)*sin(x)*sin(2*x))/(1024*q^(11/2))-(3*cos(3*t)*sin(2*t)*sin(x)*sin(2*x))/(256*q^(7/2))-(27*cos(3*t)*sin(2*t)*sin(x)*sin(2*x))/(1024*q^(3/2))+(15*sqrt(q)*cos(3*t)*sin(2*t)*sin(x)*sin(2*x))/2048-(3*cos(t)^3*cos(x)^2*sin(2*t)*sin(x)*sin(2*x))/(4*q^(7/2))+3/4*sqrt(q)*cos(t)^3*cos(x)^2*sin(2*t)*sin(x)*sin(2*x)-(3*cos(t)*cos(2*x)*sin(2*t)*sin(x)*sin(2*x))/(16*q^(7/2)*(1+q^2))-(3*cos(t)*cos(2*x)*sin(2*t)*sin(x)*sin(2*x))/(16*q^(3/2)*(1+q^2))+(3*sqrt(q)*cos(t)*cos(2*x)*sin(2*t)*sin(x)*sin(2*x))/(16*(1+q^2))+(3*q^(5/2)*cos(t)*cos(2*x)*sin(2*t)*sin(x)*sin(2*x))/(16*(1+q^2))-(9*cos(t)*cos(2*t)*cos(2*x)*sin(2*t)*sin(x)*sin(2*x))/(16*q^(11/2)*(1+q^2))+(3*cos(t)*cos(2*t)*cos(2*x)*sin(2*t)*sin(x)*sin(2*x))/(16*q^(7/2)*(1+q^2))+(9*cos(t)*cos(2*t)*cos(2*x)*sin(2*t)*sin(x)*sin(2*x))/(16*q^(3/2)*(1+q^2))-(3*sqrt(q)*cos(t)*cos(2*t)*cos(2*x)*sin(2*t)*sin(x)*sin(2*x))/(16*(1+q^2))+(9*sin(3*t)*sin(x)*sin(2*x))/(1024*q^(11/2))+(71*sin(3*t)*sin(x)*sin(2*x))/(1024*q^(7/2))+(31*sin(3*t)*sin(x)*sin(2*x))/(1024*q^(3/2))-(31*sqrt(q)*sin(3*t)*sin(x)*sin(2*x))/1024+(27*cos(2*t)*sin(3*t)*sin(x)*sin(2*x))/(1024*q^(15/2))+(177*cos(2*t)*sin(3*t)*sin(x)*sin(2*x))/(1024*q^(11/2))-(155*cos(2*t)*sin(3*t)*sin(x)*sin(2*x))/(1024*q^(7/2))+(31*cos(2*t)*sin(3*t)*sin(x)*sin(2*x))/(1024*q^(3/2))+(27*cos(t)*sin(4*t)*sin(x)*sin(2*x))/(512*q^(15/2)*(3+4*q^2))+(99*cos(t)*sin(4*t)*sin(x)*sin(2*x))/(128*q^(11/2)*(3+4*q^2))+(3*cos(t)*sin(4*t)*sin(x)*sin(2*x))/(32*q^(7/2)*(3+4*q^2))-(649*cos(t)*sin(4*t)*sin(x)*sin(2*x))/(768*q^(3/2)*(3+4*q^2))+(21*sqrt(q)*cos(t)*sin(4*t)*sin(x)*sin(2*x))/(512*(3+4*q^2))+(199*q^(5/2)*cos(t)*sin(4*t)*sin(x)*sin(2*x))/(768*(3+4*q^2))-(3*cos(t)*cos(x)*sin(2*t)*sin(2*x)^2)/(8*q^(7/2)*(1+q^2))-(3*cos(t)*cos(x)*sin(2*t)*sin(2*x)^2)/(8*q^(3/2)*(1+q^2))+(3*sqrt(q)*cos(t)*cos(x)*sin(2*t)*sin(2*x)^2)/(8*(1+q^2))+(3*q^(5/2)*cos(t)*cos(x)*sin(2*t)*sin(2*x)^2)/(8*(1+q^2))-(9*cos(t)*cos(2*t)*cos(x)*sin(2*t)*sin(2*x)^2)/(8*q^(11/2)*(1+q^2))+(3*cos(t)*cos(2*t)*cos(x)*sin(2*t)*sin(2*x)^2)/(8*q^(7/2)*(1+q^2))+(9*cos(t)*cos(2*t)*cos(x)*sin(2*t)*sin(2*x)^2)/(8*q^(3/2)*(1+q^2))-(3*sqrt(q)*cos(t)*cos(2*t)*cos(x)*sin(2*t)*sin(2*x)^2)/(8*(1+q^2))-(81*cos(t)^2*cos(x)*sin(t)*sin(x)*sin(3*x))/(256*q^(7/2))-(243*cos(t)^2*cos(x)*sin(t)*sin(x)*sin(3*x))/(256*q^(3/2))+135/256*sqrt(q)*cos(t)^2*cos(x)*sin(t)*sin(x)*sin(3*x)-9/256*q^(5/2)*cos(t)^2*cos(x)*sin(t)*sin(x)*sin(3*x)-9/128*q^(9/2)*cos(t)^2*cos(x)*sin(t)*sin(x)*sin(3*x)-(81*cos(t)^2*cos(x)*sin(t)*sin(x)*sin(3*x))/(256*q^(7/2)*(1+3*q^2))-(135*cos(t)^2*cos(x)*sin(t)*sin(x)*sin(3*x))/(128*q^(3/2)*(1+3*q^2))+(27*sqrt(q)*cos(t)^2*cos(x)*sin(t)*sin(x)*sin(3*x))/(128*(1+3*q^2))+(99*q^(5/2)*cos(t)^2*cos(x)*sin(t)*sin(x)*sin(3*x))/(64*(1+3*q^2))-(45*q^(9/2)*cos(t)^2*cos(x)*sin(t)*sin(x)*sin(3*x))/(256*(1+3*q^2))-(27*q^(13/2)*cos(t)^2*cos(x)*sin(t)*sin(x)*sin(3*x))/(128*(1+3*q^2))-(81*cos(t)*cos(3*t)*cos(x)*sin(t)*sin(x)*sin(3*x))/(256*q^(11/2))+(27*cos(t)*cos(3*t)*cos(x)*sin(t)*sin(x)*sin(3*x))/(256*q^(7/2))-(27*cos(t)*cos(3*t)*cos(x)*sin(t)*sin(x)*sin(3*x))/(256*q^(3/2))+9/256*sqrt(q)*cos(t)*cos(3*t)*cos(x)*sin(t)*sin(x)*sin(3*x)-(243*cos(t)^2*cos(x)*sin(3*t)*sin(x)*sin(3*x))/(256*q^(11/2)*(1+3*q^2))-(27*cos(t)^2*cos(x)*sin(3*t)*sin(x)*sin(3*x))/(32*q^(7/2)*(1+3*q^2))+(693*cos(t)^2*cos(x)*sin(3*t)*sin(x)*sin(3*x))/(128*q^(3/2)*(1+3*q^2))-(9*sqrt(q)*cos(t)^2*cos(x)*sin(3*t)*sin(x)*sin(3*x))/(4*(1+3*q^2))-(351*q^(5/2)*cos(t)^2*cos(x)*sin(3*t)*sin(x)*sin(3*x))/(256*(1+3*q^2))-(9*sin(t)*sin(2*x)*sin(3*x))/(1024*q^(11/2))-(9*sin(t)*sin(2*x)*sin(3*x))/(256*q^(7/2))-(3*sin(t)*sin(2*x)*sin(3*x))/(256*q^(3/2))+27/512*sqrt(q)*sin(t)*sin(2*x)*sin(3*x)+(21*q^(5/2)*sin(t)*sin(2*x)*sin(3*x))/1024-9/512*q^(9/2)*sin(t)*sin(2*x)*sin(3*x)-(27*cos(2*t)*sin(t)*sin(2*x)*sin(3*x))/(1024*q^(15/2))-(9*cos(2*t)*sin(t)*sin(2*x)*sin(3*x))/(128*q^(11/2))+(9*cos(2*t)*sin(t)*sin(2*x)*sin(3*x))/(128*q^(7/2))+(51*cos(2*t)*sin(t)*sin(2*x)*sin(3*x))/(512*q^(3/2))-(93*sqrt(q)*cos(2*t)*sin(t)*sin(2*x)*sin(3*x))/1024+9/512*q^(5/2)*cos(2*t)*sin(t)*sin(2*x)*sin(3*x)-(243*cos(t)*sin(2*t)*sin(2*x)*sin(3*x))/(2048*q^(15/2))-(729*cos(t)*sin(2*t)*sin(2*x)*sin(3*x))/(2048*q^(11/2))+(81*cos(t)*sin(2*t)*sin(2*x)*sin(3*x))/(256*q^(7/2))+(351*cos(t)*sin(2*t)*sin(2*x)*sin(3*x))/(1024*q^(3/2))-(459*sqrt(q)*cos(t)*sin(2*t)*sin(2*x)*sin(3*x))/2048+(27*q^(5/2)*cos(t)*sin(2*t)*sin(2*x)*sin(3*x))/2048+(27*q^(9/2)*cos(t)*sin(2*t)*sin(2*x)*sin(3*x))/1024-(243*cos(3*t)*sin(2*t)*sin(2*x)*sin(3*x))/(2048*q^(19/2))+(81*cos(3*t)*sin(2*t)*sin(2*x)*sin(3*x))/(2048*q^(15/2))+(81*cos(3*t)*sin(2*t)*sin(2*x)*sin(3*x))/(1024*q^(11/2))-(27*cos(3*t)*sin(2*t)*sin(2*x)*sin(3*x))/(1024*q^(7/2))+(81*cos(3*t)*sin(2*t)*sin(2*x)*sin(3*x))/(2048*q^(3/2))-(27*sqrt(q)*cos(3*t)*sin(2*t)*sin(2*x)*sin(3*x))/2048-(27*sin(3*t)*sin(2*x)*sin(3*x))/(1024*q^(15/2))-(21*sin(3*t)*sin(2*x)*sin(3*x))/(512*q^(11/2))+(9*sin(3*t)*sin(2*x)*sin(3*x))/(64*q^(7/2))+(21*sin(3*t)*sin(2*x)*sin(3*x))/(512*q^(3/2))-(117*sqrt(q)*sin(3*t)*sin(2*x)*sin(3*x))/1024-(81*cos(2*t)*sin(3*t)*sin(2*x)*sin(3*x))/(1024*q^(19/2))-(9*cos(2*t)*sin(3*t)*sin(2*x)*sin(3*x))/(512*q^(15/2))+(123*cos(2*t)*sin(3*t)*sin(2*x)*sin(3*x))/(256*q^(11/2))-(255*cos(2*t)*sin(3*t)*sin(2*x)*sin(3*x))/(512*q^(7/2))+(117*cos(2*t)*sin(3*t)*sin(2*x)*sin(3*x))/(1024*q^(3/2))-(9*sin(t)*sin(x)*sin(4*x))/(128*q^(15/2))-(81*sin(t)*sin(x)*sin(4*x))/(256*q^(11/2))-(33*sin(t)*sin(x)*sin(4*x))/(128*q^(7/2))-(sin(t)*sin(x)*sin(4*x))/(128*q^(3/2))+33/128*sqrt(q)*sin(t)*sin(x)*sin(4*x)-21/256*q^(5/2)*sin(t)*sin(x)*sin(4*x)-3/128*q^(9/2)*sin(t)*sin(x)*sin(4*x)-(27*cos(2*t)*sin(t)*sin(x)*sin(4*x))/(64*q^(15/2)*(3+q^2))-(207*cos(2*t)*sin(t)*sin(x)*sin(4*x))/(64*q^(11/2)*(3+q^2))+(3*cos(2*t)*sin(t)*sin(x)*sin(4*x))/(2*q^(7/2)*(3+q^2))+(259*cos(2*t)*sin(t)*sin(x)*sin(4*x))/(96*q^(3/2)*(3+q^2))-(91*sqrt(q)*cos(2*t)*sin(t)*sin(x)*sin(4*x))/(64*(3+q^2))-(35*q^(5/2)*cos(2*t)*sin(t)*sin(x)*sin(4*x))/(64*(3+q^2))+(3*q^(9/2)*cos(2*t)*sin(t)*sin(x)*sin(4*x))/(32*(3+q^2))-(135*cos(4*t)*sin(t)*sin(x)*sin(4*x))/(256*q^(19/2)*(5+q^2))-(27*cos(4*t)*sin(t)*sin(x)*sin(4*x))/(256*q^(15/2)*(5+q^2))-(87*cos(4*t)*sin(t)*sin(x)*sin(4*x))/(128*q^(11/2)*(5+q^2))+(131*cos(4*t)*sin(t)*sin(x)*sin(4*x))/(384*q^(7/2)*(5+q^2))-(cos(4*t)*sin(t)*sin(x)*sin(4*x))/(768*q^(3/2)*(5+q^2))-(7*sqrt(q)*cos(4*t)*sin(t)*sin(x)*sin(4*x))/(256*(5+q^2))-(27*cos(t)*sin(2*t)*sin(x)*sin(4*x))/(512*q^(15/2)*(3+q^2))-(27*cos(t)*sin(2*t)*sin(x)*sin(4*x))/(64*q^(11/2)*(3+q^2))-(69*cos(t)*sin(2*t)*sin(x)*sin(4*x))/(512*q^(7/2)*(3+q^2))+(2251*cos(t)*sin(2*t)*sin(x)*sin(4*x))/(768*q^(3/2)*(3+q^2))-(581*sqrt(q)*cos(t)*sin(2*t)*sin(x)*sin(4*x))/(512*(3+q^2))-(265*q^(5/2)*cos(t)*sin(2*t)*sin(x)*sin(4*x))/(384*(3+q^2))+(69*q^(9/2)*cos(t)*sin(2*t)*sin(x)*sin(4*x))/(512*(3+q^2))+(9*q^(13/2)*cos(t)*sin(2*t)*sin(x)*sin(4*x))/(256*(3+q^2))-(135*cos(t)*sin(4*t)*sin(x)*sin(4*x))/(1024*q^(19/2)*(5+q^2))-(63*cos(t)*sin(4*t)*sin(x)*sin(4*x))/(256*q^(15/2)*(5+q^2))+(2541*cos(t)*sin(4*t)*sin(x)*sin(4*x))/(1024*q^(11/2)*(5+q^2))-(617*cos(t)*sin(4*t)*sin(x)*sin(4*x))/(192*q^(7/2)*(5+q^2))+(1481*cos(t)*sin(4*t)*sin(x)*sin(4*x))/(3072*q^(3/2)*(5+q^2))+(433*sqrt(q)*cos(t)*sin(4*t)*sin(x)*sin(4*x))/(768*(5+q^2))+(197*q^(5/2)*cos(t)*sin(4*t)*sin(x)*sin(4*x))/(3072*(5+q^2))"
   ]
  },
  {
   "cell_type": "code",
   "execution_count": 89,
   "metadata": {},
   "outputs": [],
   "source": [
    "#integral(integral(const1*cos(2*x)*sin(t),x,0,2*pi),t,0,2*pi)"
   ]
  },
  {
   "cell_type": "code",
   "execution_count": 90,
   "metadata": {},
   "outputs": [
    {
     "data": {
      "text/plain": [
       "[aa_0, aa_1, aa_2, aa_3, aa_4, aa_5, aa_6, aa_7, aa_8, aa_9, aa_10]"
      ]
     },
     "execution_count": 90,
     "metadata": {},
     "output_type": "execute_result"
    }
   ],
   "source": [
    "A"
   ]
  },
  {
   "cell_type": "code",
   "execution_count": 91,
   "metadata": {},
   "outputs": [
    {
     "data": {
      "text/plain": [
       "[0, bb_1, bb_2, bb_3, bb_4, bb_5, bb_6, bb_7, bb_8, bb_9, bb_10]"
      ]
     },
     "execution_count": 91,
     "metadata": {},
     "output_type": "execute_result"
    }
   ],
   "source": [
    "B"
   ]
  },
  {
   "cell_type": "code",
   "execution_count": 20,
   "metadata": {},
   "outputs": [],
   "source": [
    "eps=var('eps')"
   ]
  },
  {
   "cell_type": "code",
   "execution_count": 21,
   "metadata": {},
   "outputs": [],
   "source": [
    "#the variables are of the form A[i][j][m] and B[i][j][m] which are populated with aa_i_j_m and bb_i_j_m variables\n",
    "#also C[i] and D[i] are populated with cc_i and dd_i"
   ]
  },
  {
   "cell_type": "code",
   "execution_count": 22,
   "metadata": {},
   "outputs": [],
   "source": [
    "##"
   ]
  },
  {
   "cell_type": "code",
   "execution_count": 23,
   "metadata": {},
   "outputs": [],
   "source": [
    "q=var('q')"
   ]
  },
  {
   "cell_type": "code",
   "execution_count": 24,
   "metadata": {},
   "outputs": [],
   "source": [
    "Q=arctanh(q)"
   ]
  },
  {
   "cell_type": "code",
   "execution_count": 25,
   "metadata": {},
   "outputs": [],
   "source": [
    "def fq(j,q):\n",
    "    return tanh(j*q)\n",
    "#####\n",
    "fq1 = function(\"fq1\", nargs=2)\n",
    "##############\n",
    "#def fq1(j,q):\n",
    "#    return fq(j,q)"
   ]
  },
  {
   "cell_type": "code",
   "execution_count": 26,
   "metadata": {},
   "outputs": [],
   "source": [
    "#second definition for test values\n",
    "#def fq(j,q):\n",
    "#    return tanh(j*arctanh(q))"
   ]
  },
  {
   "cell_type": "code",
   "execution_count": 27,
   "metadata": {},
   "outputs": [
    {
     "name": "stdout",
     "output_type": "stream",
     "text": [
      "(0, 0)\n",
      "(1, tanh(q))\n",
      "(2, tanh(2*q))\n",
      "(3, tanh(3*q))\n",
      "(4, tanh(4*q))\n",
      "(5, tanh(5*q))\n",
      "(6, tanh(6*q))\n",
      "(7, tanh(7*q))\n",
      "(8, tanh(8*q))\n",
      "(9, tanh(9*q))\n",
      "(10, tanh(10*q))\n"
     ]
    }
   ],
   "source": [
    "for j in range(11):\n",
    "    print(j,fq(j,q))"
   ]
  },
  {
   "cell_type": "code",
   "execution_count": 28,
   "metadata": {},
   "outputs": [],
   "source": [
    "def f_eta(x,N):\n",
    "    temp=0\n",
    "    for j in range(N+1):\n",
    "        temp=temp+eps^j*B[j]*cos(j*x)\n",
    "    return temp"
   ]
  },
  {
   "cell_type": "code",
   "execution_count": 29,
   "metadata": {},
   "outputs": [],
   "source": [
    "#f_eta1 is defined like f_eta without iterating over m to allow simplification with respect to epsilon"
   ]
  },
  {
   "cell_type": "code",
   "execution_count": 30,
   "metadata": {},
   "outputs": [
    {
     "data": {
      "text/plain": [
       "bb_4*eps^4*cos(4*x) + bb_3*eps^3*cos(3*x) + bb_2*eps^2*cos(2*x) + bb_1*eps*cos(x) + bb_0"
      ]
     },
     "execution_count": 30,
     "metadata": {},
     "output_type": "execute_result"
    }
   ],
   "source": [
    "f_eta(x,4)"
   ]
  },
  {
   "cell_type": "code",
   "execution_count": 31,
   "metadata": {},
   "outputs": [],
   "source": [
    "def f_eta_x(x,N):\n",
    "    temp=0\n",
    "    for j in range(1,N+1):\n",
    "        temp=temp-j*eps^j*B[j]*sin(j*x)\n",
    "    return temp"
   ]
  },
  {
   "cell_type": "code",
   "execution_count": 32,
   "metadata": {},
   "outputs": [
    {
     "data": {
      "text/plain": [
       "-5*bb_5*eps^5*sin(5*x) - 4*bb_4*eps^4*sin(4*x) - 3*bb_3*eps^3*sin(3*x) - 2*bb_2*eps^2*sin(2*x) - bb_1*eps*sin(x)"
      ]
     },
     "execution_count": 32,
     "metadata": {},
     "output_type": "execute_result"
    }
   ],
   "source": [
    "f_eta_x(x,5)"
   ]
  },
  {
   "cell_type": "code",
   "execution_count": 33,
   "metadata": {},
   "outputs": [],
   "source": [
    "def f_phi(x,N):\n",
    "    temp=0\n",
    "    for j in range(1,N+1): \n",
    "        temp1=0\n",
    "        temp2=0\n",
    "        for nn in range(N):\n",
    "            if nn==0:\n",
    "                temp1=1\n",
    "            else:\n",
    "                temp00=f_eta(x,N)\n",
    "                temp1=temp1+(1+(-1)^nn)/2/factorial(nn)*(j*temp00)^nn\n",
    "                temp2=temp2+(1-(-1)^nn)/2/factorial(nn)*(j*temp00)^nn            \n",
    "        temp=temp+eps^j*A[j]*cos(j*x)*(temp1+temp2*fq(j,q))\n",
    "    return temp"
   ]
  },
  {
   "cell_type": "code",
   "execution_count": 34,
   "metadata": {},
   "outputs": [
    {
     "data": {
      "text/plain": [
       "(2*(bb_2*eps^2*cos(2*x) + bb_1*eps*cos(x) + bb_0)*tanh(2*q) + 1)*aa_2*eps^2*cos(2*x) + ((bb_2*eps^2*cos(2*x) + bb_1*eps*cos(x) + bb_0)*tanh(q) + 1)*aa_1*eps*cos(x)"
      ]
     },
     "execution_count": 34,
     "metadata": {},
     "output_type": "execute_result"
    }
   ],
   "source": [
    "f_phi(x,2)"
   ]
  },
  {
   "cell_type": "code",
   "execution_count": 35,
   "metadata": {},
   "outputs": [],
   "source": [
    "def f_u(x,N):\n",
    "    temp=0\n",
    "    for j in range(1,N+1): \n",
    "        temp1=0\n",
    "        temp2=0\n",
    "        for nn in range(N):\n",
    "            if nn==0:\n",
    "                temp1=1\n",
    "            else:\n",
    "                temp00=f_eta(x,N)\n",
    "                temp1=temp1+(1+(-1)^nn)/2/factorial(nn)*(j*temp00)^nn\n",
    "                temp2=temp2+(1-(-1)^nn)/2/factorial(nn)*(j*temp00)^nn            \n",
    "        temp=temp-j*eps^j*A[j]*sin(j*x)*(temp1+temp2*fq(j,q))\n",
    "    return temp"
   ]
  },
  {
   "cell_type": "code",
   "execution_count": 36,
   "metadata": {},
   "outputs": [],
   "source": [
    "def f_w(x,N):\n",
    "    temp=0\n",
    "    for j in range(1,N+1): \n",
    "        temp1=0\n",
    "        temp2=0\n",
    "        for nn in range(N):\n",
    "            if nn==0:\n",
    "                temp1=1\n",
    "            else:\n",
    "                temp00=f_eta(x,N)\n",
    "                temp1=temp1+(1+(-1)^nn)/2/factorial(nn)*(j*temp00)^nn\n",
    "                temp2=temp2+(1-(-1)^nn)/2/factorial(nn)*(j*temp00)^nn            \n",
    "        temp=temp+j*eps^j*A[j]*cos(j*x)*(temp2+temp1*fq(j,q))\n",
    "    return temp"
   ]
  },
  {
   "cell_type": "code",
   "execution_count": 37,
   "metadata": {},
   "outputs": [
    {
     "data": {
      "text/plain": [
       "-3/2*(9*(bb_3*eps^3*cos(3*x) + bb_2*eps^2*cos(2*x) + bb_1*eps*cos(x) + bb_0)^2 + 6*(bb_3*eps^3*cos(3*x) + bb_2*eps^2*cos(2*x) + bb_1*eps*cos(x) + bb_0)*tanh(3*q) + 2)*aa_3*eps^3*sin(3*x) - 2*(2*(bb_3*eps^3*cos(3*x) + bb_2*eps^2*cos(2*x) + bb_1*eps*cos(x) + bb_0)^2 + 2*(bb_3*eps^3*cos(3*x) + bb_2*eps^2*cos(2*x) + bb_1*eps*cos(x) + bb_0)*tanh(2*q) + 1)*aa_2*eps^2*sin(2*x) - 1/2*((bb_3*eps^3*cos(3*x) + bb_2*eps^2*cos(2*x) + bb_1*eps*cos(x) + bb_0)^2 + 2*(bb_3*eps^3*cos(3*x) + bb_2*eps^2*cos(2*x) + bb_1*eps*cos(x) + bb_0)*tanh(q) + 2)*aa_1*eps*sin(x)"
      ]
     },
     "execution_count": 37,
     "metadata": {},
     "output_type": "execute_result"
    }
   ],
   "source": [
    "f_u(x,3)"
   ]
  },
  {
   "cell_type": "code",
   "execution_count": 38,
   "metadata": {},
   "outputs": [
    {
     "data": {
      "text/plain": [
       "2*(2*bb_2*eps^2*cos(2*x) + 2*bb_1*eps*cos(x) + 2*bb_0 + tanh(2*q))*aa_2*eps^2*cos(2*x) + (bb_2*eps^2*cos(2*x) + bb_1*eps*cos(x) + bb_0 + tanh(q))*aa_1*eps*cos(x)"
      ]
     },
     "execution_count": 38,
     "metadata": {},
     "output_type": "execute_result"
    }
   ],
   "source": [
    "f_w(x,2)"
   ]
  },
  {
   "cell_type": "code",
   "execution_count": null,
   "metadata": {},
   "outputs": [],
   "source": []
  },
  {
   "cell_type": "code",
   "execution_count": null,
   "metadata": {},
   "outputs": [],
   "source": []
  },
  {
   "cell_type": "code",
   "execution_count": 39,
   "metadata": {},
   "outputs": [],
   "source": [
    "######################################################################################################"
   ]
  },
  {
   "cell_type": "code",
   "execution_count": 40,
   "metadata": {},
   "outputs": [],
   "source": [
    "######################################################################################################"
   ]
  },
  {
   "cell_type": "code",
   "execution_count": 41,
   "metadata": {},
   "outputs": [],
   "source": [
    "##############################           order 5                   ###################################"
   ]
  },
  {
   "cell_type": "code",
   "execution_count": 42,
   "metadata": {},
   "outputs": [],
   "source": [
    "######################################################################################################"
   ]
  },
  {
   "cell_type": "code",
   "execution_count": 43,
   "metadata": {},
   "outputs": [],
   "source": [
    "######################################################################################################"
   ]
  },
  {
   "cell_type": "code",
   "execution_count": null,
   "metadata": {},
   "outputs": [],
   "source": []
  },
  {
   "cell_type": "code",
   "execution_count": null,
   "metadata": {},
   "outputs": [],
   "source": []
  },
  {
   "cell_type": "code",
   "execution_count": 44,
   "metadata": {},
   "outputs": [],
   "source": [
    "NNN=5"
   ]
  },
  {
   "cell_type": "code",
   "execution_count": 45,
   "metadata": {},
   "outputs": [],
   "source": [
    "eq_aa1=(f_w(x,NNN)-f_u(x,NNN)*f_eta_x(x,NNN)).expand()"
   ]
  },
  {
   "cell_type": "code",
   "execution_count": 51,
   "metadata": {},
   "outputs": [],
   "source": [
    "expr=eq_aa1.expand().coefficients(eps)"
   ]
  },
  {
   "cell_type": "code",
   "execution_count": 53,
   "metadata": {},
   "outputs": [],
   "source": [
    "temp=0\n",
    "for n1 in range(10+1):\n",
    "    if expr[n1][1]<=NNN:\n",
    "        temp=temp+expr[n1][0]*eps^n1"
   ]
  },
  {
   "cell_type": "code",
   "execution_count": 54,
   "metadata": {},
   "outputs": [],
   "source": [
    "temp1=temp.substitute(eps==1).expand().trig_reduce()"
   ]
  },
  {
   "cell_type": "code",
   "execution_count": 55,
   "metadata": {},
   "outputs": [
    {
     "data": {
      "text/plain": [
       "64/3*aa_4*bb_0^4*bb_1 + 81/8*aa_3*bb_0^3*bb_1^2 + aa_2*bb_0^2*bb_1^3 + 1/96*aa_1*bb_0*bb_1^4 + 81/8*aa_3*bb_0^4*bb_2 + 4*aa_2*bb_0^3*bb_1*bb_2 + 1/8*aa_1*bb_0^2*bb_1^2*bb_2 + 1/12*aa_1*bb_0^3*bb_2^2 + 2*aa_2*bb_0^4*bb_3 + 1/6*aa_1*bb_0^3*bb_1*bb_3 + 1/12*aa_1*bb_0^4*bb_4 + 3125/24*aa_5*bb_0^4*tanh(5*q) + 320/3*aa_4*bb_0^3*bb_1*tanh(4*q) + 405/16*aa_3*bb_0^2*bb_1^2*tanh(3*q) + 135/4*aa_3*bb_0^3*bb_2*tanh(3*q) + 5/3*aa_2*bb_0*bb_1^3*tanh(2*q) + 10*aa_2*bb_0^2*bb_1*bb_2*tanh(2*q) + 20/3*aa_2*bb_0^3*bb_3*tanh(2*q) + 5/384*aa_1*bb_1^4*tanh(q) + 5/16*aa_1*bb_0*bb_1^2*bb_2*tanh(q) + 5/16*aa_1*bb_0^2*bb_2^2*tanh(q) + 5/8*aa_1*bb_0^2*bb_1*bb_3*tanh(q) + 5/12*aa_1*bb_0^3*bb_4*tanh(q) + 625/6*aa_5*bb_0^3 + 80*aa_4*bb_0^2*bb_1 + 135/8*aa_3*bb_0*bb_1^2 + 5/6*aa_2*bb_1^3 + 135/4*aa_3*bb_0^2*bb_2 + 10*aa_2*bb_0*bb_1*bb_2 + 5/16*aa_1*bb_1^2*bb_2 + 5/8*aa_1*bb_0*bb_2^2 + 10*aa_2*bb_0^2*bb_3 + 5/4*aa_1*bb_0*bb_1*bb_3 + 5/4*aa_1*bb_0^2*bb_4 + 125/2*aa_5*bb_0^2*tanh(5*q) + 40*aa_4*bb_0*bb_1*tanh(4*q) + 45/8*aa_3*bb_1^2*tanh(3*q) + 45/2*aa_3*bb_0*bb_2*tanh(3*q) + 5*aa_2*bb_1*bb_2*tanh(2*q) + 10*aa_2*bb_0*bb_3*tanh(2*q) + 5/8*aa_1*bb_2^2*tanh(q) + 5/4*aa_1*bb_1*bb_3*tanh(q) + 5/2*aa_1*bb_0*bb_4*tanh(q) + 25*aa_5*bb_0 + 10*aa_4*bb_1 + 15/2*aa_3*bb_2 + 5*aa_2*bb_3 + 5/2*aa_1*bb_4 + 5*aa_5*tanh(5*q)"
      ]
     },
     "execution_count": 55,
     "metadata": {},
     "output_type": "execute_result"
    }
   ],
   "source": [
    "temp1.coefficient(cos(5*x))"
   ]
  },
  {
   "cell_type": "code",
   "execution_count": null,
   "metadata": {},
   "outputs": [],
   "source": []
  },
  {
   "cell_type": "code",
   "execution_count": null,
   "metadata": {},
   "outputs": [],
   "source": []
  },
  {
   "cell_type": "code",
   "execution_count": null,
   "metadata": {},
   "outputs": [],
   "source": []
  },
  {
   "cell_type": "code",
   "execution_count": 56,
   "metadata": {},
   "outputs": [],
   "source": [
    "eq_aa1=-(f_u(x,NNN)^2+f_w(x,NNN)^2+g*f_eta(x,NNN)).expand()"
   ]
  },
  {
   "cell_type": "code",
   "execution_count": 57,
   "metadata": {},
   "outputs": [],
   "source": [
    "expr=eq_aa1.expand().coefficients(eps)"
   ]
  },
  {
   "cell_type": "code",
   "execution_count": 58,
   "metadata": {},
   "outputs": [],
   "source": [
    "temp=0\n",
    "for n1 in range(10+1):\n",
    "    if expr[n1][1]<=NNN:\n",
    "        temp=temp+expr[n1][0]*eps^n1"
   ]
  },
  {
   "cell_type": "code",
   "execution_count": 59,
   "metadata": {},
   "outputs": [],
   "source": [
    "temp2=temp.substitute(eps==1).expand().trig_reduce()"
   ]
  },
  {
   "cell_type": "code",
   "execution_count": 60,
   "metadata": {},
   "outputs": [
    {
     "data": {
      "text/plain": [
       "-27/2*aa_2*aa_3*bb_0^8*tanh(3*q)*tanh(2*q) - 32/9*aa_2^2*bb_0^7*bb_1*tanh(2*q)^2 - 16/9*aa_1*aa_4*bb_0^8*tanh(4*q)*tanh(q) - 27/16*aa_1*aa_3*bb_0^7*bb_1*tanh(3*q)*tanh(q) - 7/18*aa_1*aa_2*bb_0^6*bb_1^2*tanh(2*q)*tanh(q) - 2/9*aa_1*aa_2*bb_0^7*bb_2*tanh(2*q)*tanh(q) - 7/1152*aa_1^2*bb_0^5*bb_1^3*tanh(q)^2 - 7/576*aa_1^2*bb_0^6*bb_1*bb_2*tanh(q)^2 - 1/288*aa_1^2*bb_0^7*bb_3*tanh(q)^2 + 27/2*aa_2*aa_3*bb_0^8 + 16/9*aa_1*aa_4*bb_0^8 + 32/9*aa_2^2*bb_0^7*bb_1 + 27/16*aa_1*aa_3*bb_0^7*bb_1 + 7/18*aa_1*aa_2*bb_0^6*bb_1^2 + 7/1152*aa_1^2*bb_0^5*bb_1^3 + 2/9*aa_1*aa_2*bb_0^7*bb_2 + 7/576*aa_1^2*bb_0^6*bb_1*bb_2 + 1/288*aa_1^2*bb_0^7*bb_3 - 16/3*aa_1*aa_4*bb_0^7*tanh(4*q) - 9*aa_2*aa_3*bb_0^7*tanh(3*q) - 63/16*aa_1*aa_3*bb_0^6*bb_1*tanh(3*q) + 9*aa_2*aa_3*bb_0^7*tanh(2*q) - 7/12*aa_1*aa_2*bb_0^5*bb_1^2*tanh(2*q) - 7/18*aa_1*aa_2*bb_0^6*bb_2*tanh(2*q) - 45/2*aa_2*aa_3*bb_0^6*tanh(3*q)*tanh(2*q) - 16/3*aa_2^2*bb_0^5*bb_1*tanh(2*q)^2 + 16/3*aa_1*aa_4*bb_0^7*tanh(q) + 63/16*aa_1*aa_3*bb_0^6*bb_1*tanh(q) + 7/12*aa_1*aa_2*bb_0^5*bb_1^2*tanh(q) + 7/18*aa_1*aa_2*bb_0^6*bb_2*tanh(q) - 140/9*aa_1*aa_4*bb_0^6*tanh(4*q)*tanh(q) - 81/8*aa_1*aa_3*bb_0^5*bb_1*tanh(3*q)*tanh(q) - 35/24*aa_1*aa_2*bb_0^4*bb_1^2*tanh(2*q)*tanh(q) - 7/6*aa_1*aa_2*bb_0^5*bb_2*tanh(2*q)*tanh(q) - 5/288*aa_1^2*bb_0^3*bb_1^3*tanh(q)^2 - 5/96*aa_1^2*bb_0^4*bb_1*bb_2*tanh(q)^2 - 1/48*aa_1^2*bb_0^5*bb_3*tanh(q)^2 + 45/2*aa_2*aa_3*bb_0^6 + 140/9*aa_1*aa_4*bb_0^6 + 16/3*aa_2^2*bb_0^5*bb_1 + 81/8*aa_1*aa_3*bb_0^5*bb_1 + 35/24*aa_1*aa_2*bb_0^4*bb_1^2 + 5/288*aa_1^2*bb_0^3*bb_1^3 + 7/6*aa_1*aa_2*bb_0^5*bb_2 + 5/96*aa_1^2*bb_0^4*bb_1*bb_2 + 1/48*aa_1^2*bb_0^5*bb_3 - 26*aa_1*aa_4*bb_0^5*tanh(4*q) - 21/2*aa_2*aa_3*bb_0^5*tanh(3*q) - 105/8*aa_1*aa_3*bb_0^4*bb_1*tanh(3*q) + 21/2*aa_2*aa_3*bb_0^5*tanh(2*q) - 5/4*aa_1*aa_2*bb_0^3*bb_1^2*tanh(2*q) - 5/4*aa_1*aa_2*bb_0^4*bb_2*tanh(2*q) - 1/4*aa_2*aa_3*bb_0^4*tanh(3*q)*tanh(2*q) + 26*aa_1*aa_4*bb_0^5*tanh(q) + 105/8*aa_1*aa_3*bb_0^4*bb_1*tanh(q) + 5/4*aa_1*aa_2*bb_0^3*bb_1^2*tanh(q) + 5/4*aa_1*aa_2*bb_0^4*bb_2*tanh(q) - 27/2*aa_1*aa_4*bb_0^4*tanh(4*q)*tanh(q) - 4*aa_1*aa_3*bb_0^3*bb_1*tanh(3*q)*tanh(q) - 1/8*aa_1*aa_2*bb_0^2*bb_1^2*tanh(2*q)*tanh(q) - 1/6*aa_1*aa_2*bb_0^3*bb_2*tanh(2*q)*tanh(q) + 1/4*aa_2*aa_3*bb_0^4 + 27/2*aa_1*aa_4*bb_0^4 + 4*aa_1*aa_3*bb_0^3*bb_1 + 1/8*aa_1*aa_2*bb_0^2*bb_1^2 + 1/6*aa_1*aa_2*bb_0^3*bb_2 + 18*aa_1*aa_4*bb_0^3*tanh(4*q) + aa_2*aa_3*bb_0^3*tanh(3*q) + 6*aa_1*aa_3*bb_0^2*bb_1*tanh(3*q) - aa_2*aa_3*bb_0^3*tanh(2*q) + 1/4*aa_1*aa_2*bb_0*bb_1^2*tanh(2*q) + 1/2*aa_1*aa_2*bb_0^2*bb_2*tanh(2*q) - 3*aa_2*aa_3*bb_0^2*tanh(3*q)*tanh(2*q) - 18*aa_1*aa_4*bb_0^3*tanh(q) - 6*aa_1*aa_3*bb_0^2*bb_1*tanh(q) - 1/4*aa_1*aa_2*bb_0*bb_1^2*tanh(q) - 1/2*aa_1*aa_2*bb_0^2*bb_2*tanh(q) - 18*aa_1*aa_4*bb_0^2*tanh(4*q)*tanh(q) - 6*aa_1*aa_3*bb_0*bb_1*tanh(3*q)*tanh(q) - 1/4*aa_1*aa_2*bb_1^2*tanh(2*q)*tanh(q) - aa_1*aa_2*bb_0*bb_2*tanh(2*q)*tanh(q) + 3*aa_2*aa_3*bb_0^2 + 18*aa_1*aa_4*bb_0^2 + 6*aa_1*aa_3*bb_0*bb_1 + 1/4*aa_1*aa_2*bb_1^2 + aa_1*aa_2*bb_0*bb_2 + 12*aa_1*aa_4*bb_0*tanh(4*q) + 6*aa_2*aa_3*bb_0*tanh(3*q) + 3*aa_1*aa_3*bb_1*tanh(3*q) - 6*aa_2*aa_3*bb_0*tanh(2*q) + aa_1*aa_2*bb_2*tanh(2*q) - 6*aa_2*aa_3*tanh(3*q)*tanh(2*q) - 12*aa_1*aa_4*bb_0*tanh(q) - 3*aa_1*aa_3*bb_1*tanh(q) - aa_1*aa_2*bb_2*tanh(q) - 4*aa_1*aa_4*tanh(4*q)*tanh(q) + 6*aa_2*aa_3 + 4*aa_1*aa_4 - bb_5*g"
      ]
     },
     "execution_count": 60,
     "metadata": {},
     "output_type": "execute_result"
    }
   ],
   "source": [
    "temp2.coefficient(cos(5*x))"
   ]
  },
  {
   "cell_type": "code",
   "execution_count": null,
   "metadata": {},
   "outputs": [],
   "source": []
  },
  {
   "cell_type": "code",
   "execution_count": null,
   "metadata": {},
   "outputs": [],
   "source": []
  },
  {
   "cell_type": "code",
   "execution_count": 93,
   "metadata": {},
   "outputs": [],
   "source": [
    "eq_aa1=(f_phi(x,NNN)).expand()"
   ]
  },
  {
   "cell_type": "code",
   "execution_count": 94,
   "metadata": {},
   "outputs": [],
   "source": [
    "expr=eq_aa1.expand().coefficients(eps)"
   ]
  },
  {
   "cell_type": "code",
   "execution_count": 95,
   "metadata": {},
   "outputs": [],
   "source": [
    "temp=0\n",
    "for n1 in range(10+1):\n",
    "    if expr[n1][1]<=NNN:\n",
    "        temp=temp+expr[n1][0]*eps^n1"
   ]
  },
  {
   "cell_type": "code",
   "execution_count": 96,
   "metadata": {},
   "outputs": [],
   "source": [
    "temp2=temp.substitute(eps==1).expand().trig_reduce()"
   ]
  },
  {
   "cell_type": "code",
   "execution_count": 99,
   "metadata": {},
   "outputs": [
    {
     "data": {
      "text/plain": [
       "1/384*aa_1*bb_1^4 + 1/6*aa_2*bb_1^3*tanh(2*q) + 1/16*aa_1*bb_1^2*bb_2*tanh(q) + 9/8*aa_3*bb_1^2 + aa_2*bb_1*bb_2 + 1/8*aa_1*bb_2^2 + 1/4*aa_1*bb_1*bb_3 + 2*aa_4*bb_1*tanh(4*q) + 3/2*aa_3*bb_2*tanh(3*q) + aa_2*bb_3*tanh(2*q) + 1/2*aa_1*bb_4*tanh(q) + aa_5"
      ]
     },
     "execution_count": 99,
     "metadata": {},
     "output_type": "execute_result"
    }
   ],
   "source": [
    "temp2.coefficient(cos(5*x))"
   ]
  },
  {
   "cell_type": "code",
   "execution_count": null,
   "metadata": {},
   "outputs": [],
   "source": []
  }
 ],
 "metadata": {
  "celltoolbar": "Raw Cell Format",
  "kernelspec": {
   "display_name": "SageMath 8.3",
   "language": "",
   "name": "sagemath"
  },
  "language_info": {
   "codemirror_mode": {
    "name": "ipython",
    "version": 2
   },
   "file_extension": ".py",
   "mimetype": "text/x-python",
   "name": "python",
   "nbconvert_exporter": "python",
   "pygments_lexer": "ipython2",
   "version": "2.7.15"
  }
 },
 "nbformat": 4,
 "nbformat_minor": 2
}
