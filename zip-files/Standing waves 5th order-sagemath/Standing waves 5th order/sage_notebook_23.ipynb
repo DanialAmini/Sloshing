{
 "cells": [
  {
   "cell_type": "code",
   "execution_count": 56,
   "metadata": {
    "collapsed": false,
    "deletable": true,
    "editable": true
   },
   "outputs": [
    {
     "data": {
      "text/plain": [
       "8"
      ]
     },
     "execution_count": 56,
     "metadata": {},
     "output_type": "execute_result"
    }
   ],
   "source": [
    "1+1+1+4+1"
   ]
  },
  {
   "cell_type": "code",
   "execution_count": 57,
   "metadata": {
    "collapsed": true,
    "deletable": true,
    "editable": true
   },
   "outputs": [],
   "source": [
    "### program for standing waves based on theory of Sobey (2009)\n",
    "### for publication in ICE journal \n",
    "### code written in SAGE (which is an open source and free software)\n",
    "### the output must be suppressed wherever possible to save time"
   ]
  },
  {
   "cell_type": "code",
   "execution_count": 58,
   "metadata": {
    "collapsed": false,
    "deletable": true,
    "editable": true
   },
   "outputs": [],
   "source": [
    "reset()"
   ]
  },
  {
   "cell_type": "code",
   "execution_count": 59,
   "metadata": {
    "collapsed": true,
    "deletable": true,
    "editable": true
   },
   "outputs": [],
   "source": [
    "#populating variables with itself"
   ]
  },
  {
   "cell_type": "code",
   "execution_count": 60,
   "metadata": {
    "collapsed": false,
    "deletable": true,
    "editable": true
   },
   "outputs": [],
   "source": [
    "x, y, z, t=var('x y z t')\n",
    "ii=var('ii')\n",
    "assume(ii,'integer')\n",
    "i, j, m=var('i j m')\n",
    "q=var('q')\n",
    "eps=var('eps')\n",
    "\n",
    "A =[[[0 for i in range(1,7)] for j in range(7)] for m in range(7)]\n",
    "B =[[[0 for i in range(1,7)] for j in range(7)] for m in range(7)]\n",
    "C=[0 for i in range (1,7)]\n",
    "D=[0 for i in range(1,7)]\n",
    "for i in range(1,6):\n",
    "    C[i]=var('cc_'+str(i))\n",
    "    D[i]=var('dd_'+str(i))\n",
    "    for j in range(6):\n",
    "        for m in range(6):\n",
    "            A[i][j][m]=var('aa_'+str(i)+'_'+str(j)+'_'+str(m))\n",
    "            B[i][j][m]=var('bb_'+str(i)+'_'+str(j)+'_'+str(m))\n",
    "#the variables are of the form A[i][j][m] and B[i][j][m] which are populated with aa_i_j_m and bb_i_j_m variables\n",
    "#also C[i] and D[i] are populated with cc_i and dd_i            "
   ]
  },
  {
   "cell_type": "code",
   "execution_count": null,
   "metadata": {
    "collapsed": false,
    "deletable": true,
    "editable": true
   },
   "outputs": [],
   "source": []
  },
  {
   "cell_type": "code",
   "execution_count": 61,
   "metadata": {
    "collapsed": true,
    "deletable": true,
    "editable": true
   },
   "outputs": [],
   "source": [
    "#test values using random numbers\n",
    "#eps=0.09655585; x=0.732980018; t=0.410875873;q=0.855298308;\n",
    "#B[1][0][0]=0.0491999314581644; B[1][0][1]=0.0447561933639101; B[1][0][2]=0.0556455330285278; B[1][0][3]=0.0457529602073478; B[1][0][4]=0.0883704633227161; B[1][1][0]=0.0763232927068789; B[1][1][1]=0.0118161591926117; B[1][1][2]=0.0584289757894429; B[1][1][3]=0.0916969107130772; B[1][1][4]=0.0663084519382656; B[1][2][0]=0.022488813718504; B[1][2][1]=0.0257476782199443; B[1][2][2]=0.0893037150389741; B[1][2][3]=0.0129877552252526; B[1][2][4]=0.0284248861896567; B[1][3][0]=0.0570502502041814; B[1][3][1]=0.0376319511835322; B[1][3][2]=0.0490774049796997; B[1][3][3]=0.0933471687427125; B[1][3][4]=0.0132206811287945; B[1][4][0]=0.0921228026473658; B[1][4][1]=0.0253021485351913; B[1][4][2]=0.094160950165472; B[1][4][3]=0.0560315377789045; B[1][4][4]=0.0519305778896285; B[2][0][0]=0.00725133466249769; B[2][0][1]=0.0438656230357593; B[2][0][2]=0.00453200201194888; B[2][0][3]=0.0277102896118258; B[2][0][4]=0.0785194378226813; B[2][1][0]=0.0531469036549305; B[2][1][1]=0.0716064623277494; B[2][1][2]=0.089445316431904; B[2][1][3]=0.0490543967927725; B[2][1][4]=0.0780293253662148; B[2][2][0]=0.0795259989309074; B[2][2][1]=0.0232425758334616; B[2][2][2]=0.0782549595579358; B[2][2][3]=0.0284497032120721; B[2][2][4]=0.0826425530696766; B[2][3][0]=0.0530359645887037; B[2][3][1]=0.0951872539784368; B[2][3][2]=0.0862352741496765; B[2][3][3]=0.022697292424657; B[2][3][4]=0.0231790347504821; B[2][4][0]=0.00747751448859487; B[2][4][1]=0.0717275925075151; B[2][4][2]=0.0900578308311246; B[2][4][3]=0.0777955689048755; B[2][4][4]=0.061574095661505; B[3][0][0]=0.0262678052174165; B[3][0][1]=0.0640873968784798; B[3][0][2]=0.0623738705765069; B[3][0][3]=0.0500906643766929; B[3][0][4]=0.0606827930168621; B[3][1][0]=0.0529919695142847; B[3][1][1]=0.00858898183443483; B[3][1][2]=0.0474648160436631; B[3][1][3]=0.0670625119865214; B[3][1][4]=0.0630080330929272; B[3][2][0]=0.0931387997256303; B[3][2][1]=0.0465482892883537; B[3][2][2]=0.0729462208270127; B[3][2][3]=0.0232625360341735; B[3][2][4]=0.0151686691238193; B[3][3][0]=0.0256137399463823; B[3][3][1]=0.0141895049469291; B[3][3][2]=0.00481196566525629; B[3][3][3]=0.0271502988454064; B[3][3][4]=0.0996825135791494; B[3][4][0]=0.0376758002113681; B[3][4][1]=0.0385528379700459; B[3][4][2]=0.0282170724686778; B[3][4][3]=0.0536629806744552; B[3][4][4]=0.0247183230564173; B[4][0][0]=0.0838625717221909; B[4][0][1]=0.0870198692713058; B[4][0][2]=0.0328820875029629; B[4][0][3]=0.0744759626326988; B[4][0][4]=0.0532637107423398; B[4][1][0]=0.0146988401625985; B[4][1][1]=0.0514396095191131; B[4][1][2]=0.0712956608311096; B[4][1][3]=0.085100870282988; B[4][1][4]=0.0817449926333286; B[4][2][0]=0.0864751338948398; B[4][2][1]=0.0380986388561475; B[4][2][2]=0.0586595112160479; B[4][2][3]=0.0372380096941676; B[4][2][4]=0.0788070268757798; B[4][3][0]=0.0670047874408872; B[4][3][1]=0.0535851542829384; B[4][3][2]=0.0242172787902506; B[4][3][3]=0.0927262302050944; B[4][3][4]=0.0981153153912723; B[4][4][0]=0.0596967160542444; B[4][4][1]=0.00172835427531616; B[4][4][2]=0.0582051039595398; B[4][4][3]=0.057186217355038; B[4][4][4]=0.0693124426560077; A[1][0][0]=0.617423255465407; A[1][0][1]=0.257009048171471; A[1][0][2]=0.38642261068729; A[1][0][3]=0.174269223241593; A[1][0][4]=0.0053870652750786; A[1][1][0]=0.251551207100016; A[1][1][1]=0.575598945562618; A[1][1][2]=0.295342440691543; A[1][1][3]=0.962650889338395; A[1][1][4]=0.603492110289145; A[1][2][0]=0.825394117420297; A[1][2][1]=0.752320028482762; A[1][2][2]=0.352266537519445; A[1][2][3]=0.650058138773025; A[1][2][4]=0.401589206963179; A[1][3][0]=0.967018513602477; A[1][3][1]=0.688114370587765; A[1][3][2]=0.546143466279017; A[1][3][3]=0.0201726462479221; A[1][3][4]=0.788113594717659; A[1][4][0]=0.537282727817224; A[1][4][1]=0.0298673529459473; A[1][4][2]=0.705496360153237; A[1][4][3]=0.940295739948644; A[1][4][4]=0.339716943173892; A[2][0][0]=0.672565938516477; A[2][0][1]=0.28856023653759; A[2][0][2]=0.56037632016687; A[2][0][3]=0.122928159704085; A[2][0][4]=0.357561062206121; A[2][1][0]=0.8829210721704; A[2][1][1]=0.779689084131013; A[2][1][2]=0.53278319513664; A[2][1][3]=0.73449413337937; A[2][1][4]=0.222360790466385; A[2][2][0]=0.457992572710362; A[2][2][1]=0.178823489052646; A[2][2][2]=0.553723323004517; A[2][2][3]=0.566740522408626; A[2][2][4]=0.159809207351045; A[2][3][0]=0.519612056831335; A[2][3][1]=0.851585950434843; A[2][3][2]=0.696103714852881; A[2][3][3]=0.47671938882397; A[2][3][4]=0.886647500759511; A[2][4][0]=0.960838777541108; A[2][4][1]=0.885977166258689; A[2][4][2]=0.542122430439555; A[2][4][3]=0.760189017980959; A[2][4][4]=0.297003528531777; A[3][0][0]=0.552516244982675; A[3][0][1]=0.825570242681913; A[3][0][2]=0.586704895052455; A[3][0][3]=0.951201011110277; A[3][0][4]=0.833351890950857; A[3][1][0]=0.685237085411197; A[3][1][1]=0.487407346309159; A[3][1][2]=0.352322593945295; A[3][1][3]=0.874256497406186; A[3][1][4]=0.489908686936282; A[3][2][0]=0.258243811933929; A[3][2][1]=0.887396309087636; A[3][2][2]=0.274972383481735; A[3][2][3]=0.375098571911631; A[3][2][4]=0.266467375531832; A[3][3][0]=0.474429459586108; A[3][3][1]=0.676451702054947; A[3][3][2]=0.44964380201146; A[3][3][3]=0.837716087645088; A[3][3][4]=0.904673390424294; A[3][4][0]=0.0326799876027237; A[3][4][1]=0.326041031537077; A[3][4][2]=0.93311055027931; A[3][4][3]=0.727877822087956; A[3][4][4]=0.623722456648827; A[4][0][0]=0.392975500671965; A[4][0][1]=0.963342417286011; A[4][0][2]=0.893583223446978; A[4][0][3]=0.651368239991513; A[4][0][4]=0.271882098262153; A[4][1][0]=0.838567236567033; A[4][1][1]=0.308475697313165; A[4][1][2]=0.917868478217743; A[4][1][3]=0.348793784724319; A[4][1][4]=0.110656069782055; A[4][2][0]=0.28509277611661; A[4][2][1]=0.4498158050822; A[4][2][2]=0.0289764943969338; A[4][2][3]=0.66275740790558; A[4][2][4]=0.122017543107221; A[4][3][0]=0.126822811157095; A[4][3][1]=0.473920860782843; A[4][3][2]=0.92344933651749; A[4][3][3]=0.173198260305378; A[4][3][4]=0.203793984563722; A[4][4][0]=0.453341208926663; A[4][4][1]=0.962007584471464; A[4][4][2]=0.528831358716766; A[4][4][3]=0.985402403068652; A[4][4][4]=0.710066824301812; C[1]=0.173877213228345; C[2]=0.619787287086215; C[3]=0.657160772869084; C[4]=0.517340645532323;\n",
    "#D[1] = 0.173877213228345; D[2] = 0.119787287086215; \n",
    "#D[3] = 0.157160772869084; D[4] = 0.117340645532323;"
   ]
  },
  {
   "cell_type": "code",
   "execution_count": 62,
   "metadata": {
    "collapsed": false,
    "deletable": true,
    "editable": true
   },
   "outputs": [
    {
     "name": "stdout",
     "output_type": "stream",
     "text": [
      "(cc_1, cc_2, cc_3, cc_4, cc_5)\n"
     ]
    }
   ],
   "source": [
    "print(C[1],C[2],C[3],C[4],C[5])"
   ]
  },
  {
   "cell_type": "code",
   "execution_count": 63,
   "metadata": {
    "collapsed": false,
    "deletable": true,
    "editable": true
   },
   "outputs": [
    {
     "name": "stdout",
     "output_type": "stream",
     "text": [
      "fq values\n",
      "('j=0', 0) ('j=1', q) ('j=2', 2*q/(q^2 + 1)) ('j=3', (q^3 + 3*q)/(3*q^2 + 1)) ('j=4', 4*(q^3 + q)/(q^4 + 6*q^2 + 1)) ('j=5', (q^5 + 10*q^3 + 5*q)/(5*q^4 + 10*q^2 + 1))\n"
     ]
    }
   ],
   "source": [
    "def fw(N):\n",
    "    temp=0\n",
    "    for i in range(1,N+1):\n",
    "        temp=temp+C[i]*eps^(i-1)\n",
    "    return temp\n",
    "\n",
    "def fB(N):\n",
    "    temp=0\n",
    "    for i in range(1,N+1):\n",
    "        temp=temp+D[i]*eps^i\n",
    "    return temp\n",
    "\n",
    "def fq(j,q):\n",
    "    return tanh(j*arctanh(q)).trig_expand()\n",
    "\n",
    "print(\"fq values\")\n",
    "for j in range(6):\n",
    "    print('j='+str(j),fq(j,q)),"
   ]
  },
  {
   "cell_type": "code",
   "execution_count": 64,
   "metadata": {
    "collapsed": false,
    "deletable": true,
    "editable": true
   },
   "outputs": [],
   "source": [
    "def f_eta(x,t,N):\n",
    "    temp=0\n",
    "    for i in range(1,N+1):#counter one more than necessary\n",
    "        for j in range(i+1):\n",
    "            for m in range(i+1):\n",
    "                temp=temp+eps^i*B[i][j][m]*cos(j*x)*cos(m*t)\n",
    "    return temp\n",
    "\n",
    "def f_eta_t(x,t,N):\n",
    "    temp=0\n",
    "    for i in range(1,N+1):\n",
    "        for j in range(i+1):\n",
    "            for m in range(i+1):\n",
    "                temp=temp-m*fw(N-i+1)*eps^i*B[i][j][m]*cos(j*x)*sin(m*t)\n",
    "    return temp\n",
    "\n",
    "def f_eta_x(x,t,N):\n",
    "    temp=0\n",
    "    for i in range(1,N+1):\n",
    "        for j in range(i+1):\n",
    "            for m in range(i+1):\n",
    "                temp=temp-j*eps^i*B[i][j][m]*sin(j*x)*cos(m*t)\n",
    "    return temp"
   ]
  },
  {
   "cell_type": "code",
   "execution_count": 65,
   "metadata": {
    "collapsed": false,
    "deletable": true,
    "editable": true
   },
   "outputs": [],
   "source": [
    "def fcosh(x,t,N,i,j):\n",
    "    temp1=1\n",
    "    temp2=0    \n",
    "    for nn in range(1,N):\n",
    "        temp00=f_eta(x,t,floor((N-i)/nn+1))\n",
    "        if mod(nn,2)==0:\n",
    "            temp1=temp1+(1+(-1)^nn)/2/factorial(nn)*(j*temp00)^nn\n",
    "        if mod(nn,2)==1:\n",
    "            temp2=temp2+(1-(-1)^nn)/2/factorial(nn)*(j*temp00)^nn\n",
    "    return temp1+temp2*fq(j,q)\n",
    "\n",
    "def fcoshP(x,t,N,i,j):\n",
    "    temp1=1\n",
    "    temp2=0    \n",
    "    for nn in range(1,N):\n",
    "        temp00=f_eta(x,t,floor((N-i)/nn+1))\n",
    "        if mod(nn,2)==0:\n",
    "            temp1=temp1+(1+(-1)^nn)/2/factorial(nn)*(j*temp00)^nn\n",
    "        if mod(nn,2)==1:\n",
    "            temp2=temp2+(1-(-1)^nn)/2/factorial(nn)*(j*temp00)^nn\n",
    "    return temp2+temp1*fq(j,q)"
   ]
  },
  {
   "cell_type": "code",
   "execution_count": 66,
   "metadata": {
    "collapsed": false,
    "deletable": true,
    "editable": true
   },
   "outputs": [],
   "source": [
    "def f_phi(x,t,N):\n",
    "    temp=0\n",
    "    for i in range(1,N+1): \n",
    "        for j in range(i+1):\n",
    "            for m in range(i+1):\n",
    "                temp=temp+eps^i*A[i][j][m]*cos(j*x)*sin(m*t)*fcosh(x,t,N,i,j)\n",
    "    return temp\n",
    "\n",
    "def f_phi_t(x,t,N):\n",
    "    temp=0\n",
    "    for i in range(1,N+1): \n",
    "        for j in range(i+1):\n",
    "            for m in range(i+1):\n",
    "                temp=temp+eps^i*m*fw(N-i+1)*A[i][j][m]*cos(j*x)*cos(m*t)*fcosh(x,t,N,i,j)\n",
    "    return temp\n",
    "\n",
    "def f_u(x,t,N):\n",
    "    temp=0\n",
    "    for i in range(1,N+1): \n",
    "        for j in range(i+1):\n",
    "            for m in range(i+1):\n",
    "                temp=temp-eps^i*j*A[i][j][m]*sin(j*x)*sin(m*t)*fcosh(x,t,N,i,j)\n",
    "    return temp\n",
    "\n",
    "def f_w(x,t,N):\n",
    "    temp=0\n",
    "    for i in range(1,N+1): \n",
    "        for j in range(i+1):\n",
    "            for m in range(i+1):\n",
    "                temp=temp+j*eps^i*A[i][j][m]*cos(j*x)*sin(m*t)*fcoshP(x,t,N,i,j)\n",
    "    return temp"
   ]
  },
  {
   "cell_type": "code",
   "execution_count": 67,
   "metadata": {
    "collapsed": false,
    "deletable": true,
    "editable": true
   },
   "outputs": [
    {
     "data": {
      "text/plain": [
       "0"
      ]
     },
     "execution_count": 67,
     "metadata": {},
     "output_type": "execute_result"
    }
   ],
   "source": [
    "#lateral boundary conditions yield nothing:\n",
    "f_phi(x,t,5)-f_phi(x,t+2*pi,5)"
   ]
  },
  {
   "cell_type": "code",
   "execution_count": 68,
   "metadata": {
    "collapsed": false,
    "deletable": true,
    "editable": true
   },
   "outputs": [
    {
     "data": {
      "text/plain": [
       "0"
      ]
     },
     "execution_count": 68,
     "metadata": {},
     "output_type": "execute_result"
    }
   ],
   "source": [
    "f_phi(x,t,5)-f_phi(x+2*pi,t,5)"
   ]
  },
  {
   "cell_type": "code",
   "execution_count": 69,
   "metadata": {
    "collapsed": false,
    "deletable": true,
    "editable": true
   },
   "outputs": [
    {
     "data": {
      "text/plain": [
       "0"
      ]
     },
     "execution_count": 69,
     "metadata": {},
     "output_type": "execute_result"
    }
   ],
   "source": [
    "f_eta(x,t,5)-f_eta(x+2*pi,t,5)"
   ]
  },
  {
   "cell_type": "code",
   "execution_count": 70,
   "metadata": {
    "collapsed": false,
    "deletable": true,
    "editable": true
   },
   "outputs": [
    {
     "data": {
      "text/plain": [
       "0"
      ]
     },
     "execution_count": 70,
     "metadata": {},
     "output_type": "execute_result"
    }
   ],
   "source": [
    "f_eta(x,t,5)-f_eta(x,t+2*pi,5)"
   ]
  },
  {
   "cell_type": "code",
   "execution_count": 71,
   "metadata": {
    "collapsed": false,
    "deletable": true,
    "editable": true,
    "scrolled": true
   },
   "outputs": [
    {
     "data": {
      "text/plain": [
       "2*pi*bb_5_0_5*eps^5*cos(5*t) + 2*pi*bb_5_0_0*eps^5 + 2*pi*bb_4_0_0*eps^4 + 2*pi*bb_3_0_0*eps^3 + 2*pi*bb_2_0_0*eps^2 + 2*pi*bb_1_0_0*eps + 2*(pi*bb_5_0_4*eps^5 + pi*bb_4_0_4*eps^4)*cos(4*t) + 2*(pi*bb_5_0_3*eps^5 + pi*bb_4_0_3*eps^4 + pi*bb_3_0_3*eps^3)*cos(3*t) + 2*(pi*bb_5_0_2*eps^5 + pi*bb_4_0_2*eps^4 + pi*bb_3_0_2*eps^3 + pi*bb_2_0_2*eps^2)*cos(2*t) + 2*(pi*bb_5_0_1*eps^5 + pi*bb_4_0_1*eps^4 + pi*bb_3_0_1*eps^3 + pi*bb_2_0_1*eps^2 + pi*bb_1_0_1*eps)*cos(t)"
      ]
     },
     "execution_count": 71,
     "metadata": {},
     "output_type": "execute_result"
    }
   ],
   "source": [
    "#continuity equation\n",
    "integral(f_eta(x,t,5),x,0,2*pi)"
   ]
  },
  {
   "cell_type": "code",
   "execution_count": 72,
   "metadata": {
    "collapsed": false,
    "deletable": true,
    "editable": true
   },
   "outputs": [],
   "source": [
    "for i in range(1,5+1):\n",
    "    for j in range(5+1):\n",
    "        for m in range(5+1):\n",
    "            if j==0:\n",
    "                B[i][j][m]=0\n",
    "                vars()['bb_'+str(i)+'_'+str(j)+'_'+str(m)]=0\n",
    "            #additional constraints\n",
    "#            if m==0:\n",
    "#                A[i][j][m]=0\n",
    "#                vars()['aa_'+str(i)+'_'+str(j)+'_'+str(m)]=0                \n",
    "#            if mod(j+m,2)==1 or mod(i+j,2)==1 or mod(i+m,2)==1:\n",
    "#                B[i][j][m]=0\n",
    "#                vars()['bb_'+str(i)+'_'+str(j)+'_'+str(m)]=0\n",
    "#                A[i][j][m]=0\n",
    "#                vars()['aa_'+str(i)+'_'+str(j)+'_'+str(m)]=0                "
   ]
  },
  {
   "cell_type": "code",
   "execution_count": 73,
   "metadata": {
    "collapsed": false,
    "deletable": true,
    "editable": true
   },
   "outputs": [],
   "source": [
    "######################################################################################################"
   ]
  },
  {
   "cell_type": "code",
   "execution_count": 74,
   "metadata": {
    "collapsed": false,
    "deletable": true,
    "editable": true
   },
   "outputs": [],
   "source": [
    "######################################################################################################"
   ]
  },
  {
   "cell_type": "code",
   "execution_count": 75,
   "metadata": {
    "collapsed": false,
    "deletable": true,
    "editable": true
   },
   "outputs": [],
   "source": [
    "##############################           order 1                   ###################################"
   ]
  },
  {
   "cell_type": "code",
   "execution_count": 76,
   "metadata": {
    "collapsed": true,
    "deletable": true,
    "editable": true
   },
   "outputs": [],
   "source": [
    "######################################################################################################"
   ]
  },
  {
   "cell_type": "code",
   "execution_count": 77,
   "metadata": {
    "collapsed": false,
    "deletable": true,
    "editable": true
   },
   "outputs": [],
   "source": [
    "######################################################################################################"
   ]
  },
  {
   "cell_type": "code",
   "execution_count": 78,
   "metadata": {
    "collapsed": false,
    "deletable": true,
    "editable": true
   },
   "outputs": [],
   "source": [
    "######################################################################################################"
   ]
  },
  {
   "cell_type": "code",
   "execution_count": null,
   "metadata": {
    "collapsed": false,
    "deletable": true,
    "editable": true
   },
   "outputs": [],
   "source": []
  },
  {
   "cell_type": "code",
   "execution_count": 79,
   "metadata": {
    "collapsed": true,
    "deletable": true,
    "editable": true
   },
   "outputs": [],
   "source": [
    "#order 1 analysis#\n",
    "#f_eta(x,t,Neta,Nw)\n",
    "#wave height constraint 1, order 1"
   ]
  },
  {
   "cell_type": "code",
   "execution_count": 80,
   "metadata": {
    "collapsed": false,
    "deletable": true,
    "editable": true
   },
   "outputs": [
    {
     "name": "stdout",
     "output_type": "stream",
     "text": [
      "bb_1_1_0 + bb_1_1_1 - 1\n"
     ]
    }
   ],
   "source": [
    "eq_a00=expand((f_eta(0,0,1)-f_eta(pi,0,1)-2*eps)/(2*eps))\n",
    "print(eq_a00)"
   ]
  },
  {
   "cell_type": "code",
   "execution_count": 81,
   "metadata": {
    "collapsed": false,
    "deletable": true,
    "editable": true
   },
   "outputs": [
    {
     "name": "stdout",
     "output_type": "stream",
     "text": [
      "bb_1_1_1 - 1\n"
     ]
    }
   ],
   "source": [
    "#wave height constraint 2, order1\n",
    "eq_a01=expand((f_eta(0,0,1)-f_eta(0,pi,1)-2*eps)/(2*eps))\n",
    "print(eq_a01)"
   ]
  },
  {
   "cell_type": "code",
   "execution_count": 82,
   "metadata": {
    "collapsed": false,
    "deletable": true,
    "editable": true
   },
   "outputs": [],
   "source": [
    "###################################################################################################################\n",
    "#fw(x,t,Nphi,Nt,Neta,Nw)\n",
    "#Kinematic BC, order 1"
   ]
  },
  {
   "cell_type": "code",
   "execution_count": 83,
   "metadata": {
    "collapsed": false,
    "deletable": true,
    "editable": true
   },
   "outputs": [
    {
     "name": "stdout",
     "output_type": "stream",
     "text": [
      "-bb_1_1_1*cc_1*eps*cos(x)*sin(t) - aa_1_1_1*eps*q*cos(x)*sin(t)\n"
     ]
    }
   ],
   "source": [
    "eq_a1=f_eta_t(x,t,1)-f_w(x,t,1)\n",
    "print(eq_a1)"
   ]
  },
  {
   "cell_type": "code",
   "execution_count": 84,
   "metadata": {
    "collapsed": false,
    "deletable": true,
    "editable": true
   },
   "outputs": [
    {
     "name": "stdout",
     "output_type": "stream",
     "text": [
      "-bb_1_1_1*cc_1 - aa_1_1_1*q\n"
     ]
    }
   ],
   "source": [
    "#for using .coefficient() function, perform .expand() first\n",
    "eq_a_temp1=eq_a1.expand().coefficient(eps,1)\n",
    "eq_a2=expand(eq_a_temp1/(sin(t)*cos(x)))\n",
    "print(eq_a2)"
   ]
  },
  {
   "cell_type": "code",
   "execution_count": 85,
   "metadata": {
    "collapsed": false,
    "deletable": true,
    "editable": true
   },
   "outputs": [],
   "source": [
    "###################################################################################################################\n",
    "#dynamic BC, order1"
   ]
  },
  {
   "cell_type": "code",
   "execution_count": 86,
   "metadata": {
    "collapsed": false,
    "deletable": true,
    "editable": true
   },
   "outputs": [
    {
     "name": "stdout",
     "output_type": "stream",
     "text": [
      "aa_1_1_1*cc_1*cos(t)*cos(x) + aa_1_0_1*cc_1*cos(t) + bb_1_1_1*cos(t)*cos(x) + bb_1_1_0*cos(x) - dd_1\n"
     ]
    }
   ],
   "source": [
    "eq_ct_1=((f_phi_t(x,t,1)+f_eta(x,t,1)-fB(1))).expand().coefficient(eps,1)\n",
    "print(eq_ct_1)"
   ]
  },
  {
   "cell_type": "code",
   "execution_count": 87,
   "metadata": {
    "collapsed": false,
    "deletable": true,
    "editable": true
   },
   "outputs": [
    {
     "name": "stdout",
     "output_type": "stream",
     "text": [
      "-4*dd_1\n",
      "2*aa_1_0_1*cc_1\n",
      "2*bb_1_1_0\n",
      "aa_1_1_1*cc_1 + bb_1_1_1\n"
     ]
    }
   ],
   "source": [
    "#obtain coefficients of double fourier series of the form a_kl*sin(kx)*sin(lt) using integration over domain\n",
    "const_=4\n",
    "eq_ct_11=[0 for i in range(6)]\n",
    "for n1 in range(1+1):\n",
    "    for n2 in range (1+1):\n",
    "        eq_ct_11[n1*2+n2]=expand(integral(integral(eq_ct_1*cos(n1*x)*cos(n2*t)/pi^2,x,0,2*pi),t,0,2*pi))\n",
    "        print(eq_ct_11[n1*2+n2])"
   ]
  },
  {
   "cell_type": "code",
   "execution_count": 89,
   "metadata": {
    "collapsed": false,
    "deletable": true,
    "editable": true
   },
   "outputs": [],
   "source": [
    "#######################                combine BCs-O1         ############################"
   ]
  },
  {
   "cell_type": "code",
   "execution_count": 90,
   "metadata": {
    "collapsed": false,
    "deletable": true,
    "editable": true
   },
   "outputs": [
    {
     "name": "stdout",
     "output_type": "stream",
     "text": [
      "[bb_1_1_0 + bb_1_1_1 - 1, bb_1_1_1 - 1, -bb_1_1_1*cc_1 - aa_1_1_1*q, -4*dd_1, 2*aa_1_0_1*cc_1, 2*bb_1_1_0, aa_1_1_1*cc_1 + bb_1_1_1]\n"
     ]
    }
   ],
   "source": [
    "#the wave height constraint, kinematic and dynamic boundary conditions are written in one list\n",
    "eq_order1=[0 for i in range(7)]\n",
    "eq_order1[0]=eq_a00\n",
    "eq_order1[1]=eq_a01\n",
    "eq_order1[2]=eq_a2\n",
    "eq_order1[3]=eq_ct_11[0]\n",
    "eq_order1[4]=eq_ct_11[1]\n",
    "eq_order1[5]=eq_ct_11[2]\n",
    "eq_order1[6]=eq_ct_11[3]\n",
    "\n",
    "print(eq_order1)"
   ]
  },
  {
   "cell_type": "code",
   "execution_count": 91,
   "metadata": {
    "collapsed": true,
    "deletable": true,
    "editable": true
   },
   "outputs": [],
   "source": [
    "#######################                list of vars-O1         ############################"
   ]
  },
  {
   "cell_type": "code",
   "execution_count": 92,
   "metadata": {
    "collapsed": false,
    "deletable": true,
    "editable": true
   },
   "outputs": [
    {
     "name": "stdout",
     "output_type": "stream",
     "text": [
      "[aa_1_0_1, aa_1_1_1, bb_1_1_0, bb_1_1_1, cc_1, dd_1]\n"
     ]
    }
   ],
   "source": [
    "#flattening the equations to remove the list property to be able to extract variable names\n",
    "eps1=var('eps1')\n",
    "temp=0\n",
    "for i in range(len(eq_order1)):\n",
    "    temp=temp+eq_order1[i]*eps1^i\n",
    "\n",
    "#list of variable names to be used in solve\n",
    "list_var=temp.variables()\n",
    "\n",
    "#the variable list should not have eps1 & q, therefore order reduction will be done\n",
    "list_var2=[0 for i in range(len(list_var)-2)]\n",
    "\n",
    "#copy variable list, leave out eps1 & q\n",
    "ii=var('ii')\n",
    "ii=0\n",
    "for i in range(len(list_var)):\n",
    "    if list_var[i]!=eps1 and list_var[i]!=q:\n",
    "        list_var2[ii]=list_var[i]\n",
    "        ii=ii+1\n",
    "\n",
    "print(list_var2)"
   ]
  },
  {
   "cell_type": "code",
   "execution_count": 93,
   "metadata": {
    "collapsed": false,
    "deletable": true,
    "editable": true
   },
   "outputs": [
    {
     "data": {
      "text/plain": [
       "(6, 7)"
      ]
     },
     "execution_count": 93,
     "metadata": {},
     "output_type": "execute_result"
    }
   ],
   "source": [
    "len(list_var2),len(eq_order1)"
   ]
  },
  {
   "cell_type": "code",
   "execution_count": 94,
   "metadata": {
    "collapsed": false,
    "deletable": true,
    "editable": true
   },
   "outputs": [
    {
     "name": "stdout",
     "output_type": "stream",
     "text": [
      "[aa_1_0_1 == 0, aa_1_1_1 == -1/sqrt(q), bb_1_1_0 == 0, bb_1_1_1 == 1, cc_1 == sqrt(q), dd_1 == 0]\n"
     ]
    }
   ],
   "source": [
    "#solve the equation, two solutions [1] and [0] are obtained, solution [0] is meaningful, [:] is all elements of answer\n",
    "sol=solve(eq_order1,list_var2)[0][:]\n",
    "\n",
    "print(sol)"
   ]
  },
  {
   "cell_type": "code",
   "execution_count": 95,
   "metadata": {
    "collapsed": false,
    "deletable": true,
    "editable": true
   },
   "outputs": [],
   "source": [
    "#"
   ]
  },
  {
   "cell_type": "code",
   "execution_count": 96,
   "metadata": {
    "collapsed": false,
    "deletable": true,
    "editable": true
   },
   "outputs": [],
   "source": [
    "#from list of solve results, compare left hand sides of expressions to variable names aa, bb, cc, and dd\n",
    "#if there was a match, assign the right hand side of solve results to A, B, C, D \n",
    "#therefore aa, bb, cc and dd are intact\n",
    "for ii in range(len(sol)):\n",
    "    for i in range(1,6):\n",
    "        if var('cc_'+str(i))==sol[ii].lhs():\n",
    "            C[i]=sol[ii].rhs()\n",
    "        if var('dd_'+str(i))==sol[ii].lhs():\n",
    "            D[i]=sol[ii].rhs()            \n",
    "        for j in range(6):\n",
    "            for m in range(6):\n",
    "                if var('aa_'+str(i)+'_'+str(j)+'_'+str(m))==sol[ii].lhs():\n",
    "                    A[i][j][m]=sol[ii].rhs()\n",
    "                if var('bb_'+str(i)+'_'+str(j)+'_'+str(m))==sol[ii].lhs():\n",
    "                    B[i][j][m]=sol[ii].rhs()                "
   ]
  },
  {
   "cell_type": "code",
   "execution_count": 97,
   "metadata": {
    "collapsed": false,
    "deletable": true,
    "editable": true
   },
   "outputs": [
    {
     "name": "stdout",
     "output_type": "stream",
     "text": [
      "('A[1,1,1]', -1/sqrt(q))\n",
      "('B[1,1,1]', 1)\n",
      "('C[1]', sqrt(q), 'D[1]', 0)\n"
     ]
    }
   ],
   "source": [
    "print(\"A[1,1,1]\",A[1][1][1])\n",
    "print(\"B[1,1,1]\",B[1][1][1])\n",
    "print(\"C[1]\",C[1],\"D[1]\",D[1])"
   ]
  },
  {
   "cell_type": "code",
   "execution_count": 98,
   "metadata": {
    "collapsed": false,
    "deletable": true,
    "editable": true
   },
   "outputs": [],
   "source": [
    "##############################         verify-O1          ###################################"
   ]
  },
  {
   "cell_type": "code",
   "execution_count": 99,
   "metadata": {
    "collapsed": false,
    "deletable": true,
    "editable": true
   },
   "outputs": [
    {
     "data": {
      "text/plain": [
       "0"
      ]
     },
     "execution_count": 99,
     "metadata": {},
     "output_type": "execute_result"
    }
   ],
   "source": [
    "#eq_a1\n",
    "(f_eta_t(x,t,1)-f_w(x,t,1)).expand().coefficient(eps,1)"
   ]
  },
  {
   "cell_type": "code",
   "execution_count": 100,
   "metadata": {
    "collapsed": false,
    "deletable": true,
    "editable": true
   },
   "outputs": [
    {
     "data": {
      "text/plain": [
       "0"
      ]
     },
     "execution_count": 100,
     "metadata": {},
     "output_type": "execute_result"
    }
   ],
   "source": [
    "#eq_ct_1=\n",
    "(f_phi_t(x,t,1,)+f_eta(x,t,1)-fB(1)).expand().coefficient(eps,1)"
   ]
  },
  {
   "cell_type": "code",
   "execution_count": 101,
   "metadata": {
    "collapsed": true,
    "deletable": true,
    "editable": true
   },
   "outputs": [],
   "source": [
    "######################################################################################################"
   ]
  },
  {
   "cell_type": "code",
   "execution_count": 102,
   "metadata": {
    "collapsed": true,
    "deletable": true,
    "editable": true
   },
   "outputs": [],
   "source": [
    "######################################################################################################"
   ]
  },
  {
   "cell_type": "code",
   "execution_count": 103,
   "metadata": {
    "collapsed": true,
    "deletable": true,
    "editable": true
   },
   "outputs": [],
   "source": [
    "##############################           order 2                   ###################################"
   ]
  },
  {
   "cell_type": "code",
   "execution_count": 104,
   "metadata": {
    "collapsed": true,
    "deletable": true,
    "editable": true
   },
   "outputs": [],
   "source": [
    "######################################################################################################"
   ]
  },
  {
   "cell_type": "code",
   "execution_count": 105,
   "metadata": {
    "collapsed": true,
    "deletable": true,
    "editable": true
   },
   "outputs": [],
   "source": [
    "######################################################################################################"
   ]
  },
  {
   "cell_type": "code",
   "execution_count": 106,
   "metadata": {
    "collapsed": false,
    "deletable": true,
    "editable": true
   },
   "outputs": [],
   "source": [
    "#"
   ]
  },
  {
   "cell_type": "code",
   "execution_count": 107,
   "metadata": {
    "collapsed": true,
    "deletable": true,
    "editable": true
   },
   "outputs": [],
   "source": [
    "#######################         wave height constraint order 2           ############################"
   ]
  },
  {
   "cell_type": "code",
   "execution_count": 108,
   "metadata": {
    "collapsed": false,
    "deletable": true,
    "editable": true
   },
   "outputs": [
    {
     "name": "stdout",
     "output_type": "stream",
     "text": [
      "bb_2_1_0 + bb_2_1_1 + bb_2_1_2\n"
     ]
    }
   ],
   "source": [
    "eq_aa20=expand((f_eta(0,0,2)-f_eta(pi,0,2)-2*eps)/(2*eps^2))\n",
    "print(eq_aa20)"
   ]
  },
  {
   "cell_type": "code",
   "execution_count": 109,
   "metadata": {
    "collapsed": false,
    "deletable": true,
    "editable": true
   },
   "outputs": [
    {
     "name": "stdout",
     "output_type": "stream",
     "text": [
      "bb_2_1_1 + bb_2_2_1\n"
     ]
    }
   ],
   "source": [
    "eq_aa21=expand((f_eta(0,0,2)-f_eta(0,pi,2)-2*eps)/(2*eps^2))\n",
    "print(eq_aa21)"
   ]
  },
  {
   "cell_type": "code",
   "execution_count": 110,
   "metadata": {
    "collapsed": false,
    "deletable": true,
    "editable": true
   },
   "outputs": [],
   "source": [
    "#######################                kinematic BC order 2           ############################"
   ]
  },
  {
   "cell_type": "code",
   "execution_count": 111,
   "metadata": {
    "collapsed": false,
    "deletable": true,
    "editable": true
   },
   "outputs": [
    {
     "name": "stdout",
     "output_type": "stream",
     "text": [
      "2\n",
      "3\n",
      "4\n",
      "5\n"
     ]
    }
   ],
   "source": [
    "eq_aa1=f_eta_t(x,t,2)+f_u(x,t,2)*f_eta_x(x,t,2)-f_w(x,t,2)\n",
    "\n",
    "eq_aa2=eq_aa1.expand().coefficients(eps)\n",
    "\n",
    "for i in range(len(eq_aa2)):\n",
    "    print(eq_aa2[i][1])"
   ]
  },
  {
   "cell_type": "code",
   "execution_count": 112,
   "metadata": {
    "collapsed": false,
    "deletable": true,
    "editable": true
   },
   "outputs": [
    {
     "name": "stdout",
     "output_type": "stream",
     "text": [
      "-aa_2_1_2*q*cos(x)*sin(2*t) - aa_2_1_1*q*cos(x)*sin(t) - 2*bb_2_2_2*sqrt(q)*cos(2*x)*sin(2*t) - 2*bb_2_1_2*sqrt(q)*cos(x)*sin(2*t) - bb_2_2_1*sqrt(q)*cos(2*x)*sin(t) - bb_2_1_1*sqrt(q)*cos(x)*sin(t) + cos(t)*cos(x)^2*sin(t)/sqrt(q) - cos(t)*sin(t)*sin(x)^2/sqrt(q) - 4*aa_2_2_2*q*cos(2*x)*sin(2*t)/(q^2 + 1) - 4*aa_2_2_1*q*cos(2*x)*sin(t)/(q^2 + 1) - cc_2*cos(x)*sin(t)\n"
     ]
    }
   ],
   "source": [
    "eq_aa10=eq_aa2[0][0]\n",
    "print(eq_aa10)"
   ]
  },
  {
   "cell_type": "code",
   "execution_count": 113,
   "metadata": {
    "collapsed": false,
    "deletable": true,
    "editable": true
   },
   "outputs": [],
   "source": [
    "#obtain coefficients of double fourier series of the form a_kl*sin(kx)*sin(lt) using integration over domain\n",
    "counter_=0\n",
    "temp=0\n",
    "eq_ct_11=[0 for i in range(36)]\n",
    "for n1 in range(2+1):\n",
    "    for n2 in range (2+1):\n",
    "        if n1!=0 and n2!=0:\n",
    "            temp=expand(integral(integral(eq_aa10*sin(n1*x)*sin(n2*t)/pi^2,x,0,2*pi),t,0,2*pi))\n",
    "        if temp!=0:\n",
    "            eq_ct_11[counter_]=temp\n",
    "            counter_=counter_+1\n",
    "        if n1!=0:\n",
    "            temp=expand(integral(integral(eq_aa10*sin(n1*x)*cos(n2*t)/pi^2,x,0,2*pi),t,0,2*pi))\n",
    "        if temp!=0:\n",
    "            eq_ct_11[counter_]=temp\n",
    "            counter_=counter_+1\n",
    "        if n2!=0:\n",
    "            temp=expand(integral(integral(eq_aa10*cos(n1*x)*sin(n2*t)/pi^2,x,0,2*pi),t,0,2*pi))\n",
    "        if temp!=0:\n",
    "            eq_ct_11[counter_]=temp\n",
    "            counter_=counter_+1\n",
    "        temp=expand(integral(integral(eq_aa10*cos(n1*x)*cos(n2*t)/pi^2,x,0,2*pi),t,0,2*pi))\n",
    "        if temp!=0:\n",
    "            eq_ct_11[counter_]=temp\n",
    "            counter_=counter_+1\n",
    "eq_ct_12=[0 for i in range(counter_)]\n",
    "for i in range(counter_):\n",
    "    eq_ct_12[i]=eq_ct_11[i]"
   ]
  },
  {
   "cell_type": "code",
   "execution_count": 114,
   "metadata": {
    "collapsed": false,
    "deletable": true,
    "editable": true
   },
   "outputs": [
    {
     "name": "stdout",
     "output_type": "stream",
     "text": [
      "-aa_2_1_1*q - bb_2_1_1*sqrt(q) - cc_2\n",
      "-aa_2_1_2*q - 2*bb_2_1_2*sqrt(q)\n",
      "-bb_2_2_1*q^(5/2)/(q^2 + 1) - 4*aa_2_2_1*q/(q^2 + 1) - bb_2_2_1*sqrt(q)/(q^2 + 1)\n",
      "-2*bb_2_2_2*q^(5/2)/(q^2 + 1) - 4*aa_2_2_2*q/(q^2 + 1) - 2*bb_2_2_2*sqrt(q)/(q^2 + 1) + 1/2*q^(3/2)/(q^2 + 1) + 1/2/((q^2 + 1)*sqrt(q))\n"
     ]
    }
   ],
   "source": [
    "for i in range(len(eq_ct_12)):\n",
    "    print(eq_ct_12[i])"
   ]
  },
  {
   "cell_type": "code",
   "execution_count": 115,
   "metadata": {
    "collapsed": true,
    "deletable": true,
    "editable": true
   },
   "outputs": [],
   "source": [
    "#######################                dynamic BC order 2           ############################"
   ]
  },
  {
   "cell_type": "code",
   "execution_count": 116,
   "metadata": {
    "collapsed": false,
    "deletable": true,
    "editable": true
   },
   "outputs": [
    {
     "name": "stdout",
     "output_type": "stream",
     "text": [
      "2\n",
      "3\n",
      "4\n",
      "5\n"
     ]
    }
   ],
   "source": [
    "eq_aa30=f_phi_t(x,t,2)+1/2*(f_u(x,t,1)^2+f_w(x,t,1)^2)+f_eta(x,t,2)-fB(2)\n",
    "\n",
    "eq_aa31=eq_aa30.expand().coefficients(eps)\n",
    "\n",
    "for i in range(len(eq_aa2)):\n",
    "    print(eq_aa2[i][1])"
   ]
  },
  {
   "cell_type": "code",
   "execution_count": 117,
   "metadata": {
    "collapsed": false,
    "deletable": true,
    "editable": true
   },
   "outputs": [
    {
     "name": "stdout",
     "output_type": "stream",
     "text": [
      "-q*cos(t)^2*cos(x)^2 + 1/2*q*cos(x)^2*sin(t)^2 + 2*aa_2_2_2*sqrt(q)*cos(2*t)*cos(2*x) + aa_2_2_1*sqrt(q)*cos(t)*cos(2*x) + 2*aa_2_1_2*sqrt(q)*cos(2*t)*cos(x) + aa_2_1_1*sqrt(q)*cos(t)*cos(x) + bb_2_2_2*cos(2*t)*cos(2*x) + bb_2_2_1*cos(t)*cos(2*x) + bb_2_1_2*cos(2*t)*cos(x) + bb_2_1_1*cos(t)*cos(x) + 1/2*sin(t)^2*sin(x)^2/q + 2*aa_2_0_2*sqrt(q)*cos(2*t) + aa_2_0_1*sqrt(q)*cos(t) - cc_2*cos(t)*cos(x)/sqrt(q) + bb_2_2_0*cos(2*x) + bb_2_1_0*cos(x) - dd_2\n"
     ]
    }
   ],
   "source": [
    "eq_aa32=eq_aa31[0][0]\n",
    "print(eq_aa32)"
   ]
  },
  {
   "cell_type": "code",
   "execution_count": 118,
   "metadata": {
    "collapsed": false,
    "deletable": true,
    "editable": true
   },
   "outputs": [],
   "source": [
    "#obtain coefficients of double fourier series of the form a_kl*sin(kx)*sin(lt) using integration over domain\n",
    "counter_=0\n",
    "temp=0\n",
    "eq_aa33=[0 for i in range(36)]\n",
    "for n1 in range(2+1):\n",
    "    for n2 in range (2+1):\n",
    "        if n1!=0 and n2!=0:\n",
    "            temp=expand(integral(integral(eq_aa32*sin(n1*x)*sin(n2*t)/pi^2,x,0,2*pi),t,0,2*pi))\n",
    "        if temp!=0:\n",
    "            eq_aa33[counter_]=temp\n",
    "            counter_=counter_+1\n",
    "        if n1!=0:\n",
    "            temp=expand(integral(integral(eq_aa32*sin(n1*x)*cos(n2*t)/pi^2,x,0,2*pi),t,0,2*pi))\n",
    "        if temp!=0:\n",
    "            eq_aa33[counter_]=temp\n",
    "            counter_=counter_+1\n",
    "        if n2!=0:\n",
    "            temp=expand(integral(integral(eq_aa32*cos(n1*x)*sin(n2*t)/pi^2,x,0,2*pi),t,0,2*pi))\n",
    "        if temp!=0:\n",
    "            eq_aa33[counter_]=temp\n",
    "            counter_=counter_+1\n",
    "        temp=expand(integral(integral(eq_aa32*cos(n1*x)*cos(n2*t)/pi^2,x,0,2*pi),t,0,2*pi))\n",
    "        if temp!=0:\n",
    "            eq_aa33[counter_]=temp\n",
    "            counter_=counter_+1\n",
    "eq_aa_34=[0 for i in range(counter_)]\n",
    "for i in range(counter_):\n",
    "    eq_aa_34[i]=eq_aa33[i]"
   ]
  },
  {
   "cell_type": "code",
   "execution_count": 119,
   "metadata": {
    "collapsed": false,
    "deletable": true,
    "editable": true
   },
   "outputs": [
    {
     "data": {
      "text/plain": [
       "[-4*dd_2 - 1/2*q + 1/2/q,\n",
       " -4*dd_2 - 1/2*q + 1/2/q,\n",
       " -4*dd_2 - 1/2*q + 1/2/q,\n",
       " 2*aa_2_0_1*sqrt(q),\n",
       " 2*aa_2_0_1*sqrt(q),\n",
       " 2*aa_2_0_1*sqrt(q),\n",
       " 4*aa_2_0_2*sqrt(q) - 3/4*q - 1/4/q,\n",
       " 4*aa_2_0_2*sqrt(q) - 3/4*q - 1/4/q,\n",
       " 2*bb_2_1_0,\n",
       " aa_2_1_1*sqrt(q) + bb_2_1_1 - cc_2/sqrt(q),\n",
       " 2*aa_2_1_2*sqrt(q) + bb_2_1_2,\n",
       " 2*aa_2_1_2*sqrt(q) + bb_2_1_2,\n",
       " 2*bb_2_2_0 - 1/4*q - 1/4/q,\n",
       " aa_2_2_1*sqrt(q) + bb_2_2_1,\n",
       " 2*aa_2_2_2*sqrt(q) + bb_2_2_2 - 3/8*q + 1/8/q]"
      ]
     },
     "execution_count": 119,
     "metadata": {},
     "output_type": "execute_result"
    }
   ],
   "source": [
    "eq_aa_34"
   ]
  },
  {
   "cell_type": "code",
   "execution_count": 120,
   "metadata": {
    "collapsed": true,
    "deletable": true,
    "editable": true
   },
   "outputs": [],
   "source": [
    "#######################                combine BCs-O2           ############################"
   ]
  },
  {
   "cell_type": "code",
   "execution_count": 121,
   "metadata": {
    "collapsed": false,
    "deletable": true,
    "editable": true
   },
   "outputs": [],
   "source": [
    "counter_=0\n",
    "eq_order=[0 for i in range(2+len(eq_ct_12)+len(eq_aa_34))]\n",
    "eq_order[0]=eq_aa20\n",
    "eq_order[1]=eq_aa21\n",
    "for i in range(len(eq_ct_12)):\n",
    "    eq_order[i+2]=eq_ct_12[i]\n",
    "for i in range(len(eq_aa_34)):\n",
    "    eq_order[i+2+len(eq_ct_12)]=eq_aa_34[i]"
   ]
  },
  {
   "cell_type": "code",
   "execution_count": 122,
   "metadata": {
    "collapsed": false,
    "deletable": true,
    "editable": true
   },
   "outputs": [
    {
     "data": {
      "text/plain": [
       "[bb_2_1_0 + bb_2_1_1 + bb_2_1_2,\n",
       " bb_2_1_1 + bb_2_2_1,\n",
       " -aa_2_1_1*q - bb_2_1_1*sqrt(q) - cc_2,\n",
       " -aa_2_1_2*q - 2*bb_2_1_2*sqrt(q),\n",
       " -bb_2_2_1*q^(5/2)/(q^2 + 1) - 4*aa_2_2_1*q/(q^2 + 1) - bb_2_2_1*sqrt(q)/(q^2 + 1),\n",
       " -2*bb_2_2_2*q^(5/2)/(q^2 + 1) - 4*aa_2_2_2*q/(q^2 + 1) - 2*bb_2_2_2*sqrt(q)/(q^2 + 1) + 1/2*q^(3/2)/(q^2 + 1) + 1/2/((q^2 + 1)*sqrt(q)),\n",
       " -4*dd_2 - 1/2*q + 1/2/q,\n",
       " -4*dd_2 - 1/2*q + 1/2/q,\n",
       " -4*dd_2 - 1/2*q + 1/2/q,\n",
       " 2*aa_2_0_1*sqrt(q),\n",
       " 2*aa_2_0_1*sqrt(q),\n",
       " 2*aa_2_0_1*sqrt(q),\n",
       " 4*aa_2_0_2*sqrt(q) - 3/4*q - 1/4/q,\n",
       " 4*aa_2_0_2*sqrt(q) - 3/4*q - 1/4/q,\n",
       " 2*bb_2_1_0,\n",
       " aa_2_1_1*sqrt(q) + bb_2_1_1 - cc_2/sqrt(q),\n",
       " 2*aa_2_1_2*sqrt(q) + bb_2_1_2,\n",
       " 2*aa_2_1_2*sqrt(q) + bb_2_1_2,\n",
       " 2*bb_2_2_0 - 1/4*q - 1/4/q,\n",
       " aa_2_2_1*sqrt(q) + bb_2_2_1,\n",
       " 2*aa_2_2_2*sqrt(q) + bb_2_2_2 - 3/8*q + 1/8/q]"
      ]
     },
     "execution_count": 122,
     "metadata": {},
     "output_type": "execute_result"
    }
   ],
   "source": [
    "eq_order"
   ]
  },
  {
   "cell_type": "code",
   "execution_count": 123,
   "metadata": {
    "collapsed": true,
    "deletable": true,
    "editable": true
   },
   "outputs": [],
   "source": [
    "#######################                list of vars-O2         ############################"
   ]
  },
  {
   "cell_type": "code",
   "execution_count": 124,
   "metadata": {
    "collapsed": false,
    "deletable": true,
    "editable": true
   },
   "outputs": [],
   "source": [
    "#flattening the equations to remove the list property to be able to extract variable names\n",
    "eps1=var('eps1')\n",
    "temp=0\n",
    "for i in range(len(eq_order)):\n",
    "    temp=temp+eq_order[i]*eps1^i"
   ]
  },
  {
   "cell_type": "code",
   "execution_count": 125,
   "metadata": {
    "collapsed": true,
    "deletable": true,
    "editable": true
   },
   "outputs": [],
   "source": [
    "list_var=temp.variables()"
   ]
  },
  {
   "cell_type": "code",
   "execution_count": 126,
   "metadata": {
    "collapsed": false,
    "deletable": true,
    "editable": true
   },
   "outputs": [],
   "source": [
    "#list_var"
   ]
  },
  {
   "cell_type": "code",
   "execution_count": 127,
   "metadata": {
    "collapsed": true,
    "deletable": true,
    "editable": true
   },
   "outputs": [],
   "source": [
    "list_var2=[0 for i in range(len(list_var)-2)]"
   ]
  },
  {
   "cell_type": "code",
   "execution_count": 128,
   "metadata": {
    "collapsed": true,
    "deletable": true,
    "editable": true
   },
   "outputs": [],
   "source": [
    "#copy variable list, leave out eps1 & q\n",
    "ii=var('ii')\n",
    "ii=0\n",
    "for i in range(len(list_var)):\n",
    "    if list_var[i]!=eps1 and list_var[i]!=q:\n",
    "        list_var2[ii]=list_var[i]\n",
    "        ii=ii+1"
   ]
  },
  {
   "cell_type": "code",
   "execution_count": 129,
   "metadata": {
    "collapsed": false,
    "deletable": true,
    "editable": true
   },
   "outputs": [
    {
     "data": {
      "text/plain": [
       "[aa_2_0_1,\n",
       " aa_2_0_2,\n",
       " aa_2_1_1,\n",
       " aa_2_1_2,\n",
       " aa_2_2_1,\n",
       " aa_2_2_2,\n",
       " bb_2_1_0,\n",
       " bb_2_1_1,\n",
       " bb_2_1_2,\n",
       " bb_2_2_0,\n",
       " bb_2_2_1,\n",
       " bb_2_2_2,\n",
       " cc_2,\n",
       " dd_2]"
      ]
     },
     "execution_count": 129,
     "metadata": {},
     "output_type": "execute_result"
    }
   ],
   "source": [
    "list_var2"
   ]
  },
  {
   "cell_type": "code",
   "execution_count": 130,
   "metadata": {
    "collapsed": false,
    "deletable": true,
    "editable": true
   },
   "outputs": [
    {
     "data": {
      "text/plain": [
       "(21, 14)"
      ]
     },
     "execution_count": 130,
     "metadata": {},
     "output_type": "execute_result"
    }
   ],
   "source": [
    "len(eq_order),len(list_var2)"
   ]
  },
  {
   "cell_type": "code",
   "execution_count": 131,
   "metadata": {
    "collapsed": true,
    "deletable": true,
    "editable": true
   },
   "outputs": [],
   "source": [
    "sol=solve(eq_order,list_var2)[0][:]"
   ]
  },
  {
   "cell_type": "code",
   "execution_count": 132,
   "metadata": {
    "collapsed": false,
    "deletable": true,
    "editable": true
   },
   "outputs": [
    {
     "data": {
      "text/plain": [
       "[aa_2_0_1 == 0,\n",
       " aa_2_0_2 == 1/16*(3*q^2 + 1)/q^(3/2),\n",
       " aa_2_1_1 == 0,\n",
       " aa_2_1_2 == 0,\n",
       " aa_2_2_1 == 0,\n",
       " aa_2_2_2 == 3/16*(q^4 - 1)/q^(7/2),\n",
       " bb_2_1_0 == 0,\n",
       " bb_2_1_1 == 0,\n",
       " bb_2_1_2 == 0,\n",
       " bb_2_2_0 == 1/8*(q^2 + 1)/q,\n",
       " bb_2_2_1 == 0,\n",
       " bb_2_2_2 == -1/8*(q^2 - 3)/q^3,\n",
       " cc_2 == 0,\n",
       " dd_2 == -1/8*(q^2 - 1)/q]"
      ]
     },
     "execution_count": 132,
     "metadata": {},
     "output_type": "execute_result"
    }
   ],
   "source": [
    "sol"
   ]
  },
  {
   "cell_type": "code",
   "execution_count": 133,
   "metadata": {
    "collapsed": false,
    "deletable": true,
    "editable": true
   },
   "outputs": [
    {
     "data": {
      "text/plain": [
       "aa_2_0_2"
      ]
     },
     "execution_count": 133,
     "metadata": {},
     "output_type": "execute_result"
    }
   ],
   "source": [
    "sol[1].lhs()"
   ]
  },
  {
   "cell_type": "code",
   "execution_count": 134,
   "metadata": {
    "collapsed": true,
    "deletable": true,
    "editable": true
   },
   "outputs": [],
   "source": [
    "#######################            var substitution-O2         ############################"
   ]
  },
  {
   "cell_type": "code",
   "execution_count": 135,
   "metadata": {
    "collapsed": true,
    "deletable": true,
    "editable": true
   },
   "outputs": [],
   "source": [
    "#from list of solve results, compare left hand sides of expressions to variable names aa, bb, cc, and dd\n",
    "#if there was a match, assign the right hand side of solve results to A, B, C, D \n",
    "#therefore aa, bb, cc and dd are intact\n",
    "for ii in range(len(sol)):\n",
    "    for i in range(1,6):\n",
    "        if var('cc_'+str(i))==sol[ii].lhs():\n",
    "            C[i]=sol[ii].rhs()\n",
    "        if var('dd_'+str(i))==sol[ii].lhs():\n",
    "            D[i]=sol[ii].rhs()            \n",
    "        for j in range(6):\n",
    "            for m in range(6):\n",
    "                if var('aa_'+str(i)+'_'+str(j)+'_'+str(m))==sol[ii].lhs():\n",
    "                    A[i][j][m]=sol[ii].rhs()\n",
    "                if var('bb_'+str(i)+'_'+str(j)+'_'+str(m))==sol[ii].lhs():\n",
    "                    B[i][j][m]=sol[ii].rhs()   "
   ]
  },
  {
   "cell_type": "code",
   "execution_count": 136,
   "metadata": {
    "collapsed": false,
    "deletable": true,
    "editable": true
   },
   "outputs": [
    {
     "name": "stdout",
     "output_type": "stream",
     "text": [
      "('A[2,0,2]', 1/16*(3*q^2 + 1)/q^(3/2))\n",
      "('A[2,2,2]', 3/16*(q^4 - 1)/q^(7/2))\n",
      "('B[2,2,0]', 1/8*(q^2 + 1)/q)\n",
      "('B[2,2,2]', -1/8*(q^2 - 3)/q^3)\n",
      "('C[2]', 0, 'D[2]', -1/8*(q^2 - 1)/q)\n"
     ]
    }
   ],
   "source": [
    "print(\"A[2,0,2]\",A[2][0][2])\n",
    "print(\"A[2,2,2]\",A[2][2][2])\n",
    "print(\"B[2,2,0]\",B[2][2][0])\n",
    "print(\"B[2,2,2]\",B[2][2][2])\n",
    "print(\"C[2]\",C[2],\"D[2]\",D[2])"
   ]
  },
  {
   "cell_type": "code",
   "execution_count": 137,
   "metadata": {
    "collapsed": true,
    "deletable": true,
    "editable": true
   },
   "outputs": [],
   "source": [
    "##############################      verify lateral - O2          ###################################"
   ]
  },
  {
   "cell_type": "code",
   "execution_count": 138,
   "metadata": {
    "collapsed": false,
    "deletable": true,
    "editable": true
   },
   "outputs": [
    {
     "data": {
      "text/plain": [
       "0"
      ]
     },
     "execution_count": 138,
     "metadata": {},
     "output_type": "execute_result"
    }
   ],
   "source": [
    "#eq_aa20=\n",
    "expand((f_eta(0,0,2)-f_eta(pi,0,2)-2*eps)/(2*eps^2))"
   ]
  },
  {
   "cell_type": "code",
   "execution_count": 139,
   "metadata": {
    "collapsed": false,
    "deletable": true,
    "editable": true
   },
   "outputs": [
    {
     "data": {
      "text/plain": [
       "0"
      ]
     },
     "execution_count": 139,
     "metadata": {},
     "output_type": "execute_result"
    }
   ],
   "source": [
    "#eq_aa21=\n",
    "expand((f_eta(0,0,2)-f_eta(0,pi,2)-2*eps)/(2*eps^2))"
   ]
  },
  {
   "cell_type": "code",
   "execution_count": 140,
   "metadata": {
    "collapsed": true,
    "deletable": true,
    "editable": true
   },
   "outputs": [],
   "source": [
    "#################################### verify kinematic BC - o2 #####################################"
   ]
  },
  {
   "cell_type": "code",
   "execution_count": 141,
   "metadata": {
    "collapsed": false,
    "deletable": true,
    "editable": true
   },
   "outputs": [],
   "source": [
    "#eq_aa1=\n",
    "expr=f_eta_t(x,t,2)+f_u(x,t,1)*f_eta_x(x,t,1)-f_w(x,t,2)"
   ]
  },
  {
   "cell_type": "code",
   "execution_count": 142,
   "metadata": {
    "collapsed": false,
    "deletable": true,
    "editable": true
   },
   "outputs": [],
   "source": [
    "expr1=expr.expand().coefficients(eps)"
   ]
  },
  {
   "cell_type": "code",
   "execution_count": 143,
   "metadata": {
    "collapsed": false,
    "deletable": true,
    "editable": true
   },
   "outputs": [
    {
     "name": "stdout",
     "output_type": "stream",
     "text": [
      "2\n",
      "3\n"
     ]
    }
   ],
   "source": [
    "#suppress to save memory\n",
    "#expr1\n",
    "for i in range(len(expr1)):\n",
    "    print(expr1[i][1])"
   ]
  },
  {
   "cell_type": "code",
   "execution_count": 144,
   "metadata": {
    "collapsed": false,
    "deletable": true,
    "editable": true
   },
   "outputs": [
    {
     "name": "stdout",
     "output_type": "stream",
     "text": [
      "0\n"
     ]
    }
   ],
   "source": [
    "expr2=expr1[0][0]\n",
    "print(expr2.simplify_full())"
   ]
  },
  {
   "cell_type": "code",
   "execution_count": 145,
   "metadata": {
    "collapsed": true,
    "deletable": true,
    "editable": true
   },
   "outputs": [],
   "source": [
    "#################################### verify dynamic BC - o2 #####################################"
   ]
  },
  {
   "cell_type": "code",
   "execution_count": 146,
   "metadata": {
    "collapsed": true,
    "deletable": true,
    "editable": true
   },
   "outputs": [],
   "source": [
    "eq_aa30=f_phi_t(x,t,2)+1/2*(f_u(x,t,2)^2+f_w(x,t,2)^2)+f_eta(x,t,2)-fB(2)"
   ]
  },
  {
   "cell_type": "code",
   "execution_count": 147,
   "metadata": {
    "collapsed": false,
    "deletable": true,
    "editable": true
   },
   "outputs": [],
   "source": [
    "expr1=eq_aa30.expand().coefficients(eps)"
   ]
  },
  {
   "cell_type": "code",
   "execution_count": 148,
   "metadata": {
    "collapsed": false,
    "deletable": true,
    "editable": true
   },
   "outputs": [
    {
     "name": "stdout",
     "output_type": "stream",
     "text": [
      "2\n",
      "3\n",
      "4\n",
      "5\n",
      "6\n"
     ]
    }
   ],
   "source": [
    "for i in range(len(expr1)):\n",
    "    print(expr1[i][1])"
   ]
  },
  {
   "cell_type": "code",
   "execution_count": 149,
   "metadata": {
    "collapsed": false,
    "deletable": true,
    "editable": true
   },
   "outputs": [
    {
     "name": "stdout",
     "output_type": "stream",
     "text": [
      "0\n"
     ]
    }
   ],
   "source": [
    "expr2=expr1[0][0]\n",
    "print(expr2.simplify_full())"
   ]
  },
  {
   "cell_type": "code",
   "execution_count": 150,
   "metadata": {
    "collapsed": true,
    "deletable": true,
    "editable": true
   },
   "outputs": [],
   "source": [
    "######################################################################################################\n",
    "######################################################################################################\n",
    "######################################################################################################\n",
    "##############################           order 3                   ###################################\n",
    "######################################################################################################\n",
    "######################################################################################################\n",
    "######################################################################################################"
   ]
  },
  {
   "cell_type": "code",
   "execution_count": 151,
   "metadata": {
    "collapsed": true,
    "deletable": true,
    "editable": true
   },
   "outputs": [],
   "source": [
    "#BCs"
   ]
  },
  {
   "cell_type": "code",
   "execution_count": 152,
   "metadata": {
    "collapsed": true,
    "deletable": true,
    "editable": true
   },
   "outputs": [],
   "source": [
    "#######################         wave height constraint order 3           ############################"
   ]
  },
  {
   "cell_type": "code",
   "execution_count": 153,
   "metadata": {
    "collapsed": true,
    "deletable": true,
    "editable": true
   },
   "outputs": [],
   "source": [
    "eq_aa20=expand((f_eta(0,0,3)-f_eta(pi,0,3)-2*eps)/(2*eps^3))"
   ]
  },
  {
   "cell_type": "code",
   "execution_count": 154,
   "metadata": {
    "collapsed": false,
    "deletable": true,
    "editable": true
   },
   "outputs": [
    {
     "data": {
      "text/plain": [
       "bb_3_1_0 + bb_3_1_1 + bb_3_1_2 + bb_3_1_3 + bb_3_3_0 + bb_3_3_1 + bb_3_3_2 + bb_3_3_3"
      ]
     },
     "execution_count": 154,
     "metadata": {},
     "output_type": "execute_result"
    }
   ],
   "source": [
    "eq_aa20"
   ]
  },
  {
   "cell_type": "code",
   "execution_count": 155,
   "metadata": {
    "collapsed": true,
    "deletable": true,
    "editable": true
   },
   "outputs": [],
   "source": [
    "eq_aa21=expand((f_eta(0,0,3)-f_eta(0,pi,3)-2*eps)/(2*eps^3))"
   ]
  },
  {
   "cell_type": "code",
   "execution_count": 156,
   "metadata": {
    "collapsed": false,
    "deletable": true,
    "editable": true
   },
   "outputs": [
    {
     "data": {
      "text/plain": [
       "bb_3_1_1 + bb_3_1_3 + bb_3_2_1 + bb_3_2_3 + bb_3_3_1 + bb_3_3_3"
      ]
     },
     "execution_count": 156,
     "metadata": {},
     "output_type": "execute_result"
    }
   ],
   "source": [
    "eq_aa21"
   ]
  },
  {
   "cell_type": "code",
   "execution_count": 157,
   "metadata": {
    "collapsed": true,
    "deletable": true,
    "editable": true
   },
   "outputs": [],
   "source": [
    "#######################                kinematic BC order 3           ############################"
   ]
  },
  {
   "cell_type": "code",
   "execution_count": 158,
   "metadata": {
    "collapsed": true,
    "deletable": true,
    "editable": true
   },
   "outputs": [],
   "source": [
    "eq_aa1=f_eta_t(x,t,3)+f_u(x,t,2)*f_eta_x(x,t,2)-f_w(x,t,3)"
   ]
  },
  {
   "cell_type": "code",
   "execution_count": 159,
   "metadata": {
    "collapsed": false,
    "deletable": true,
    "editable": true
   },
   "outputs": [],
   "source": [
    "eq_aa2=eq_aa1.expand().coefficients(eps)"
   ]
  },
  {
   "cell_type": "code",
   "execution_count": 160,
   "metadata": {
    "collapsed": false,
    "deletable": true,
    "editable": true
   },
   "outputs": [
    {
     "name": "stdout",
     "output_type": "stream",
     "text": [
      "2\n",
      "3\n",
      "4\n",
      "5\n"
     ]
    }
   ],
   "source": [
    "#suppress to save memory\n",
    "#eq_aa2\n",
    "for i in range(len(eq_aa2)):\n",
    "    print(eq_aa2[i][1])"
   ]
  },
  {
   "cell_type": "code",
   "execution_count": 161,
   "metadata": {
    "collapsed": false,
    "deletable": true,
    "editable": true
   },
   "outputs": [
    {
     "data": {
      "text/plain": [
       "0"
      ]
     },
     "execution_count": 161,
     "metadata": {},
     "output_type": "execute_result"
    }
   ],
   "source": [
    "eq_aa2[0][0].simplify_full()"
   ]
  },
  {
   "cell_type": "code",
   "execution_count": 162,
   "metadata": {
    "collapsed": true,
    "deletable": true,
    "editable": true
   },
   "outputs": [],
   "source": [
    "eq_aa10=eq_aa2[1][0]"
   ]
  },
  {
   "cell_type": "code",
   "execution_count": 163,
   "metadata": {
    "collapsed": false,
    "deletable": true,
    "editable": true
   },
   "outputs": [],
   "source": [
    "#eq_aa10"
   ]
  },
  {
   "cell_type": "code",
   "execution_count": 164,
   "metadata": {
    "collapsed": false,
    "deletable": true,
    "editable": true
   },
   "outputs": [],
   "source": [
    "#obtain coefficients of double fourier series of the form a_kl*sin(kx)*sin(lt) using integration over domain\n",
    "counter_=0\n",
    "temp=0\n",
    "eq_ct_11=[0 for i in range(100)]\n",
    "for n1 in range(3+1):\n",
    "    for n2 in range (3+1):\n",
    "        if n1!=0 and n2!=0:\n",
    "            temp=expand(integral(integral(eq_aa10*sin(n1*x)*sin(n2*t)/pi^2,x,0,2*pi),t,0,2*pi))\n",
    "        if temp!=0:\n",
    "            eq_ct_11[counter_]=temp\n",
    "            counter_=counter_+1\n",
    "        if n1!=0:\n",
    "            temp=expand(integral(integral(eq_aa10*sin(n1*x)*cos(n2*t)/pi^2,x,0,2*pi),t,0,2*pi))\n",
    "        if temp!=0:\n",
    "            eq_ct_11[counter_]=temp\n",
    "            counter_=counter_+1\n",
    "        if n2!=0:\n",
    "            temp=expand(integral(integral(eq_aa10*cos(n1*x)*sin(n2*t)/pi^2,x,0,2*pi),t,0,2*pi))\n",
    "        if temp!=0:\n",
    "            eq_ct_11[counter_]=temp\n",
    "            counter_=counter_+1\n",
    "        temp=expand(integral(integral(eq_aa10*cos(n1*x)*cos(n2*t)/pi^2,x,0,2*pi),t,0,2*pi))\n",
    "        if temp!=0:\n",
    "            eq_ct_11[counter_]=temp\n",
    "            counter_=counter_+1\n",
    "eq_ct_12=[0 for i in range(counter_)]\n",
    "for i in range(counter_):\n",
    "    eq_ct_12[i]=eq_ct_11[i]"
   ]
  },
  {
   "cell_type": "code",
   "execution_count": 165,
   "metadata": {
    "collapsed": false,
    "deletable": true,
    "editable": true
   },
   "outputs": [
    {
     "data": {
      "text/plain": [
       "[-aa_3_1_1*q - bb_3_1_1*sqrt(q) - cc_3 - 1/8*sqrt(q) - 3/32/q^(3/2) + 3/16/q^(7/2),\n",
       " -aa_3_1_2*q - 2*bb_3_1_2*sqrt(q),\n",
       " -aa_3_1_3*q - 3*bb_3_1_3*sqrt(q) - 1/16*sqrt(q) + 1/32/q^(3/2),\n",
       " -bb_3_2_1*q^(5/2)/(q^2 + 1) - 4*aa_3_2_1*q/(q^2 + 1) - bb_3_2_1*sqrt(q)/(q^2 + 1),\n",
       " -2*bb_3_2_2*q^(5/2)/(q^2 + 1) - 4*aa_3_2_2*q/(q^2 + 1) - 2*bb_3_2_2*sqrt(q)/(q^2 + 1),\n",
       " -3*bb_3_2_3*q^(5/2)/(q^2 + 1) - 4*aa_3_2_3*q/(q^2 + 1) - 3*bb_3_2_3*sqrt(q)/(q^2 + 1),\n",
       " -3*aa_3_3_1*q^7/(3*q^6 + q^4) - 3*bb_3_3_1*q^(13/2)/(3*q^6 + q^4) - 9*aa_3_3_1*q^5/(3*q^6 + q^4) - bb_3_3_1*q^(9/2)/(3*q^6 + q^4) + 27/32*q^(9/2)/(3*q^6 + q^4) + 9/32*q^(5/2)/(3*q^6 + q^4),\n",
       " -3*aa_3_3_2*q^7/(3*q^6 + q^4) - 6*bb_3_3_2*q^(13/2)/(3*q^6 + q^4) - 9*aa_3_3_2*q^5/(3*q^6 + q^4) - 2*bb_3_3_2*q^(9/2)/(3*q^6 + q^4),\n",
       " -3*aa_3_3_3*q^7/(3*q^6 + q^4) - 9*bb_3_3_3*q^(13/2)/(3*q^6 + q^4) - 9/16*q^(13/2)/(3*q^6 + q^4) - 9*aa_3_3_3*q^5/(3*q^6 + q^4) - 3*bb_3_3_3*q^(9/2)/(3*q^6 + q^4) - 15/32*q^(9/2)/(3*q^6 + q^4) + 51/32*q^(5/2)/(3*q^6 + q^4) + 9/16*sqrt(q)/(3*q^6 + q^4)]"
      ]
     },
     "execution_count": 165,
     "metadata": {},
     "output_type": "execute_result"
    }
   ],
   "source": [
    "eq_ct_12"
   ]
  },
  {
   "cell_type": "code",
   "execution_count": 166,
   "metadata": {
    "collapsed": false,
    "deletable": true,
    "editable": true
   },
   "outputs": [],
   "source": [
    "#######################                dynamic BC order 3           ############################"
   ]
  },
  {
   "cell_type": "code",
   "execution_count": 167,
   "metadata": {
    "collapsed": false,
    "deletable": true,
    "editable": true
   },
   "outputs": [],
   "source": [
    "eq_aa30=f_phi_t(x,t,3)+1/2*(f_u(x,t,2)^2+f_w(x,t,2)^2)+f_eta(x,t,3)-fB(3)"
   ]
  },
  {
   "cell_type": "code",
   "execution_count": 168,
   "metadata": {
    "collapsed": false,
    "deletable": true,
    "editable": true
   },
   "outputs": [],
   "source": [
    "eq_aa31=eq_aa30.simplify_full().coefficients(eps)"
   ]
  },
  {
   "cell_type": "code",
   "execution_count": 169,
   "metadata": {
    "collapsed": false,
    "deletable": true,
    "editable": true
   },
   "outputs": [],
   "source": [
    "#suppress to save memory\n",
    "#eq_aa31"
   ]
  },
  {
   "cell_type": "code",
   "execution_count": 170,
   "metadata": {
    "collapsed": false,
    "deletable": true,
    "editable": true
   },
   "outputs": [
    {
     "name": "stdout",
     "output_type": "stream",
     "text": [
      "2\n",
      "3\n",
      "4\n",
      "5\n",
      "6\n",
      "7\n"
     ]
    }
   ],
   "source": [
    "for i in range(len(eq_aa31)):\n",
    "    print(eq_aa31[i][1])"
   ]
  },
  {
   "cell_type": "code",
   "execution_count": 171,
   "metadata": {
    "collapsed": false,
    "deletable": true,
    "editable": true
   },
   "outputs": [
    {
     "data": {
      "text/plain": [
       "0"
      ]
     },
     "execution_count": 171,
     "metadata": {},
     "output_type": "execute_result"
    }
   ],
   "source": [
    "eq_aa31[0][0].simplify_full()"
   ]
  },
  {
   "cell_type": "code",
   "execution_count": 172,
   "metadata": {
    "collapsed": true,
    "deletable": true,
    "editable": true
   },
   "outputs": [],
   "source": [
    "eq_aa32=eq_aa31[1][0].simplify_full().trig_reduce()"
   ]
  },
  {
   "cell_type": "code",
   "execution_count": 173,
   "metadata": {
    "collapsed": false,
    "deletable": true,
    "editable": true
   },
   "outputs": [
    {
     "data": {
      "text/plain": [
       "1/64*(32*(6*aa_3_0_3*q^4*cos(3*t) + 4*aa_3_0_2*q^4*cos(2*t) + 3*aa_3_3_3*q^4*cos(3*t + 3*x) + 3*aa_3_2_3*q^4*cos(3*t + 2*x) + 3*aa_3_1_3*q^4*cos(3*t + x) + 2*aa_3_3_2*q^4*cos(2*t + 3*x) + 2*aa_3_2_2*q^4*cos(2*t + 2*x) + 2*aa_3_1_2*q^4*cos(2*t + x) + aa_3_3_1*q^4*cos(t + 3*x) + aa_3_2_1*q^4*cos(t + 2*x) + aa_3_1_1*q^4*cos(t + x) + 2*aa_3_0_1*q^4*cos(t) + aa_3_3_1*q^4*cos(-t + 3*x) + aa_3_2_1*q^4*cos(-t + 2*x) + aa_3_1_1*q^4*cos(-t + x) + 2*aa_3_3_2*q^4*cos(-2*t + 3*x) + 2*aa_3_2_2*q^4*cos(-2*t + 2*x) + 2*aa_3_1_2*q^4*cos(-2*t + x) + 3*aa_3_3_3*q^4*cos(-3*t + 3*x) + 3*aa_3_2_3*q^4*cos(-3*t + 2*x) + 3*aa_3_1_3*q^4*cos(-3*t + x))*q^5 + (32*bb_3_2_3*q^4*cos(3*t + 2*x) + 32*bb_3_3_2*q^4*cos(2*t + 3*x) + 32*bb_3_2_2*q^4*cos(2*t + 2*x) + 32*bb_3_1_2*q^4*cos(2*t + x) + 32*bb_3_2_1*q^4*cos(t + 2*x) + 32*bb_3_2_1*q^4*cos(-t + 2*x) + 32*bb_3_3_2*q^4*cos(-2*t + 3*x) + 32*bb_3_2_2*q^4*cos(-2*t + 2*x) + 32*bb_3_1_2*q^4*cos(-2*t + x) + 32*bb_3_2_3*q^4*cos(-3*t + 2*x) + 64*bb_3_3_0*q^4*cos(3*x) + 64*bb_3_2_0*q^4*cos(2*x) + 64*bb_3_1_0*q^4*cos(x) - 64*dd_3*q^4 + ((32*bb_3_3_3 + 15)*q^4 - 21*q^2 + 3)*cos(3*t + 3*x) + ((32*bb_3_1_3 + 11)*q^4 - 21*q^2 - 3)*cos(3*t + x) - (2*q^6 - (32*bb_3_3_1 + 5)*q^4 + 9*q^2 + 3)*cos(t + 3*x) - (2*q^6 - (32*bb_3_1_1 + 1)*q^4 + 9*q^2 - 3)*cos(t + x) - (2*q^6 - (32*bb_3_3_1 + 5)*q^4 + 9*q^2 + 3)*cos(-t + 3*x) - (2*q^6 - (32*bb_3_1_1 + 1)*q^4 + 9*q^2 - 3)*cos(-t + x) + ((32*bb_3_3_3 + 15)*q^4 - 21*q^2 + 3)*cos(-3*t + 3*x) + ((32*bb_3_1_3 + 11)*q^4 - 21*q^2 - 3)*cos(-3*t + x))*q^(9/2) - 32*(cc_3*q^4*cos(t + x) + cc_3*q^4*cos(-t + x))*q^4)/q^(17/2)"
      ]
     },
     "execution_count": 173,
     "metadata": {},
     "output_type": "execute_result"
    }
   ],
   "source": [
    "eq_aa32"
   ]
  },
  {
   "cell_type": "code",
   "execution_count": 174,
   "metadata": {
    "collapsed": true,
    "deletable": true,
    "editable": true
   },
   "outputs": [],
   "source": [
    "#obtain coefficients of double fourier series of the form a_kl*sin(kx)*sin(lt) using integration over domain\n",
    "counter_=0\n",
    "temp=0\n",
    "eq_aa33=[0 for i in range(40)]\n",
    "for n1 in range(3+1):\n",
    "    for n2 in range (3+1):\n",
    "        if n1!=0 and n2!=0:\n",
    "            temp=integral(integral(eq_aa32*sin(n1*x)*sin(n2*t)/pi^2,x,0,2*pi),t,0,2*pi)\n",
    "        if temp!=0:\n",
    "            eq_aa33[counter_]=temp.simplify_full()\n",
    "            counter_=counter_+1\n",
    "        if n1!=0:\n",
    "            temp=integral(integral(eq_aa32*sin(n1*x)*cos(n2*t)/pi^2,x,0,2*pi),t,0,2*pi)\n",
    "        if temp!=0:\n",
    "            eq_aa33[counter_]=temp.simplify_full()\n",
    "            counter_=counter_+1\n",
    "        if n2!=0:\n",
    "            temp=integral(integral(eq_aa32*cos(n1*x)*sin(n2*t)/pi^2,x,0,2*pi),t,0,2*pi)\n",
    "        if temp!=0:\n",
    "            eq_aa33[counter_]=temp.simplify_full()\n",
    "            counter_=counter_+1\n",
    "        temp=integral(integral(eq_aa32*cos(n1*x)*cos(n2*t)/pi^2,x,0,2*pi),t,0,2*pi)\n",
    "        if temp!=0:\n",
    "            eq_aa33[counter_]=temp.simplify_full()\n",
    "            counter_=counter_+1\n",
    "eq_aa_34=[0 for i in range(counter_)]\n",
    "for i in range(counter_):\n",
    "    eq_aa_34[i]=eq_aa33[i]"
   ]
  },
  {
   "cell_type": "code",
   "execution_count": 175,
   "metadata": {
    "collapsed": false,
    "deletable": true,
    "editable": true
   },
   "outputs": [
    {
     "data": {
      "text/plain": [
       "[-4*dd_3,\n",
       " -4*dd_3,\n",
       " -4*dd_3,\n",
       " 2*aa_3_0_1*sqrt(q),\n",
       " 2*aa_3_0_1*sqrt(q),\n",
       " 2*aa_3_0_1*sqrt(q),\n",
       " 4*aa_3_0_2*sqrt(q),\n",
       " 4*aa_3_0_2*sqrt(q),\n",
       " 4*aa_3_0_2*sqrt(q),\n",
       " 6*aa_3_0_3*sqrt(q),\n",
       " 6*aa_3_0_3*sqrt(q),\n",
       " 2*bb_3_1_0,\n",
       " 1/32*(32*aa_3_1_1*q^5 - 32*cc_3*q^4 - (2*q^6 - (32*bb_3_1_1 + 1)*q^4 + 9*q^2 - 3)*sqrt(q))/q^(9/2),\n",
       " (2*aa_3_1_2*q + bb_3_1_2*sqrt(q))/sqrt(q),\n",
       " 1/32*(96*aa_3_1_3*q^5 + ((32*bb_3_1_3 + 11)*q^4 - 21*q^2 - 3)*sqrt(q))/q^(9/2),\n",
       " 1/32*(96*aa_3_1_3*q^5 + ((32*bb_3_1_3 + 11)*q^4 - 21*q^2 - 3)*sqrt(q))/q^(9/2),\n",
       " 2*bb_3_2_0,\n",
       " (aa_3_2_1*q + bb_3_2_1*sqrt(q))/sqrt(q),\n",
       " (2*aa_3_2_2*q + bb_3_2_2*sqrt(q))/sqrt(q),\n",
       " (3*aa_3_2_3*q + bb_3_2_3*sqrt(q))/sqrt(q),\n",
       " (3*aa_3_2_3*q + bb_3_2_3*sqrt(q))/sqrt(q),\n",
       " 2*bb_3_3_0,\n",
       " 1/32*(32*aa_3_3_1*q^5 - (2*q^6 - (32*bb_3_3_1 + 5)*q^4 + 9*q^2 + 3)*sqrt(q))/q^(9/2),\n",
       " (2*aa_3_3_2*q + bb_3_3_2*sqrt(q))/sqrt(q),\n",
       " 1/32*(96*aa_3_3_3*q^5 + ((32*bb_3_3_3 + 15)*q^4 - 21*q^2 + 3)*sqrt(q))/q^(9/2)]"
      ]
     },
     "execution_count": 175,
     "metadata": {},
     "output_type": "execute_result"
    }
   ],
   "source": [
    "eq_aa_34"
   ]
  },
  {
   "cell_type": "code",
   "execution_count": 176,
   "metadata": {
    "collapsed": true,
    "deletable": true,
    "editable": true
   },
   "outputs": [],
   "source": [
    "#######################                combine BCs-O3           ############################"
   ]
  },
  {
   "cell_type": "code",
   "execution_count": 179,
   "metadata": {
    "collapsed": true,
    "deletable": true,
    "editable": true
   },
   "outputs": [],
   "source": [
    "counter_=0\n",
    "eq_order=[0 for i in range(2+len(eq_ct_12)+len(eq_aa_34))]\n",
    "eq_order[0]=eq_aa20\n",
    "eq_order[1]=eq_aa21\n",
    "for i in range(len(eq_ct_12)):\n",
    "    eq_order[i+2]=eq_ct_12[i]\n",
    "for i in range(len(eq_aa_34)):\n",
    "    eq_order[i+2+len(eq_ct_12)]=eq_aa_34[i]"
   ]
  },
  {
   "cell_type": "code",
   "execution_count": 180,
   "metadata": {
    "collapsed": false,
    "deletable": true,
    "editable": true
   },
   "outputs": [
    {
     "data": {
      "text/plain": [
       "[bb_3_1_0 + bb_3_1_1 + bb_3_1_2 + bb_3_1_3 + bb_3_3_0 + bb_3_3_1 + bb_3_3_2 + bb_3_3_3,\n",
       " bb_3_1_1 + bb_3_1_3 + bb_3_2_1 + bb_3_2_3 + bb_3_3_1 + bb_3_3_3,\n",
       " -aa_3_1_1*q - bb_3_1_1*sqrt(q) - cc_3 - 1/8*sqrt(q) - 3/32/q^(3/2) + 3/16/q^(7/2),\n",
       " -aa_3_1_2*q - 2*bb_3_1_2*sqrt(q),\n",
       " -aa_3_1_3*q - 3*bb_3_1_3*sqrt(q) - 1/16*sqrt(q) + 1/32/q^(3/2),\n",
       " -bb_3_2_1*q^(5/2)/(q^2 + 1) - 4*aa_3_2_1*q/(q^2 + 1) - bb_3_2_1*sqrt(q)/(q^2 + 1),\n",
       " -2*bb_3_2_2*q^(5/2)/(q^2 + 1) - 4*aa_3_2_2*q/(q^2 + 1) - 2*bb_3_2_2*sqrt(q)/(q^2 + 1),\n",
       " -3*bb_3_2_3*q^(5/2)/(q^2 + 1) - 4*aa_3_2_3*q/(q^2 + 1) - 3*bb_3_2_3*sqrt(q)/(q^2 + 1),\n",
       " -3*aa_3_3_1*q^7/(3*q^6 + q^4) - 3*bb_3_3_1*q^(13/2)/(3*q^6 + q^4) - 9*aa_3_3_1*q^5/(3*q^6 + q^4) - bb_3_3_1*q^(9/2)/(3*q^6 + q^4) + 27/32*q^(9/2)/(3*q^6 + q^4) + 9/32*q^(5/2)/(3*q^6 + q^4),\n",
       " -3*aa_3_3_2*q^7/(3*q^6 + q^4) - 6*bb_3_3_2*q^(13/2)/(3*q^6 + q^4) - 9*aa_3_3_2*q^5/(3*q^6 + q^4) - 2*bb_3_3_2*q^(9/2)/(3*q^6 + q^4),\n",
       " -3*aa_3_3_3*q^7/(3*q^6 + q^4) - 9*bb_3_3_3*q^(13/2)/(3*q^6 + q^4) - 9/16*q^(13/2)/(3*q^6 + q^4) - 9*aa_3_3_3*q^5/(3*q^6 + q^4) - 3*bb_3_3_3*q^(9/2)/(3*q^6 + q^4) - 15/32*q^(9/2)/(3*q^6 + q^4) + 51/32*q^(5/2)/(3*q^6 + q^4) + 9/16*sqrt(q)/(3*q^6 + q^4),\n",
       " -4*dd_3,\n",
       " -4*dd_3,\n",
       " -4*dd_3,\n",
       " 2*aa_3_0_1*sqrt(q),\n",
       " 2*aa_3_0_1*sqrt(q),\n",
       " 2*aa_3_0_1*sqrt(q),\n",
       " 4*aa_3_0_2*sqrt(q),\n",
       " 4*aa_3_0_2*sqrt(q),\n",
       " 4*aa_3_0_2*sqrt(q),\n",
       " 6*aa_3_0_3*sqrt(q),\n",
       " 6*aa_3_0_3*sqrt(q),\n",
       " 2*bb_3_1_0,\n",
       " 1/32*(32*aa_3_1_1*q^5 - 32*cc_3*q^4 - (2*q^6 - (32*bb_3_1_1 + 1)*q^4 + 9*q^2 - 3)*sqrt(q))/q^(9/2),\n",
       " (2*aa_3_1_2*q + bb_3_1_2*sqrt(q))/sqrt(q),\n",
       " 1/32*(96*aa_3_1_3*q^5 + ((32*bb_3_1_3 + 11)*q^4 - 21*q^2 - 3)*sqrt(q))/q^(9/2),\n",
       " 1/32*(96*aa_3_1_3*q^5 + ((32*bb_3_1_3 + 11)*q^4 - 21*q^2 - 3)*sqrt(q))/q^(9/2),\n",
       " 2*bb_3_2_0,\n",
       " (aa_3_2_1*q + bb_3_2_1*sqrt(q))/sqrt(q),\n",
       " (2*aa_3_2_2*q + bb_3_2_2*sqrt(q))/sqrt(q),\n",
       " (3*aa_3_2_3*q + bb_3_2_3*sqrt(q))/sqrt(q),\n",
       " (3*aa_3_2_3*q + bb_3_2_3*sqrt(q))/sqrt(q),\n",
       " 2*bb_3_3_0,\n",
       " 1/32*(32*aa_3_3_1*q^5 - (2*q^6 - (32*bb_3_3_1 + 5)*q^4 + 9*q^2 + 3)*sqrt(q))/q^(9/2),\n",
       " (2*aa_3_3_2*q + bb_3_3_2*sqrt(q))/sqrt(q),\n",
       " 1/32*(96*aa_3_3_3*q^5 + ((32*bb_3_3_3 + 15)*q^4 - 21*q^2 + 3)*sqrt(q))/q^(9/2)]"
      ]
     },
     "execution_count": 180,
     "metadata": {},
     "output_type": "execute_result"
    }
   ],
   "source": [
    "eq_order"
   ]
  },
  {
   "cell_type": "code",
   "execution_count": 181,
   "metadata": {
    "collapsed": true,
    "deletable": true,
    "editable": true
   },
   "outputs": [],
   "source": [
    "#######################                list of vars-O3         ############################"
   ]
  },
  {
   "cell_type": "code",
   "execution_count": 182,
   "metadata": {
    "collapsed": true,
    "deletable": true,
    "editable": true
   },
   "outputs": [],
   "source": [
    "#flattening the equations to remove the list property to be able to extract variable names\n",
    "eps1=var('eps1')\n",
    "temp=0\n",
    "for i in range(len(eq_order)):\n",
    "    temp=temp+eq_order[i]*eps1^i"
   ]
  },
  {
   "cell_type": "code",
   "execution_count": 183,
   "metadata": {
    "collapsed": true,
    "deletable": true,
    "editable": true
   },
   "outputs": [],
   "source": [
    "list_var=temp.variables()"
   ]
  },
  {
   "cell_type": "code",
   "execution_count": 184,
   "metadata": {
    "collapsed": true,
    "deletable": true,
    "editable": true
   },
   "outputs": [],
   "source": [
    "#list_var"
   ]
  },
  {
   "cell_type": "code",
   "execution_count": 185,
   "metadata": {
    "collapsed": true,
    "deletable": true,
    "editable": true
   },
   "outputs": [],
   "source": [
    "list_var2=[0 for i in range(len(list_var)-2)]"
   ]
  },
  {
   "cell_type": "code",
   "execution_count": 186,
   "metadata": {
    "collapsed": true,
    "deletable": true,
    "editable": true
   },
   "outputs": [],
   "source": [
    "#copy variable list, leave out eps1 & q\n",
    "ii=var('ii')\n",
    "ii=0\n",
    "for i in range(len(list_var)):\n",
    "    if list_var[i]!=eps1 and list_var[i]!=q:\n",
    "        list_var2[ii]=list_var[i]\n",
    "        ii=ii+1"
   ]
  },
  {
   "cell_type": "code",
   "execution_count": 187,
   "metadata": {
    "collapsed": false,
    "deletable": true,
    "editable": true
   },
   "outputs": [
    {
     "data": {
      "text/plain": [
       "[aa_3_0_1,\n",
       " aa_3_0_2,\n",
       " aa_3_0_3,\n",
       " aa_3_1_1,\n",
       " aa_3_1_2,\n",
       " aa_3_1_3,\n",
       " aa_3_2_1,\n",
       " aa_3_2_2,\n",
       " aa_3_2_3,\n",
       " aa_3_3_1,\n",
       " aa_3_3_2,\n",
       " aa_3_3_3,\n",
       " bb_3_1_0,\n",
       " bb_3_1_1,\n",
       " bb_3_1_2,\n",
       " bb_3_1_3,\n",
       " bb_3_2_0,\n",
       " bb_3_2_1,\n",
       " bb_3_2_2,\n",
       " bb_3_2_3,\n",
       " bb_3_3_0,\n",
       " bb_3_3_1,\n",
       " bb_3_3_2,\n",
       " bb_3_3_3,\n",
       " cc_3,\n",
       " dd_3]"
      ]
     },
     "execution_count": 187,
     "metadata": {},
     "output_type": "execute_result"
    }
   ],
   "source": [
    "list_var2"
   ]
  },
  {
   "cell_type": "code",
   "execution_count": 188,
   "metadata": {
    "collapsed": false,
    "deletable": true,
    "editable": true
   },
   "outputs": [
    {
     "data": {
      "text/plain": [
       "(36, 26)"
      ]
     },
     "execution_count": 188,
     "metadata": {},
     "output_type": "execute_result"
    }
   ],
   "source": [
    "len(eq_order),len(list_var2)"
   ]
  },
  {
   "cell_type": "code",
   "execution_count": null,
   "metadata": {
    "collapsed": true,
    "deletable": true,
    "editable": true
   },
   "outputs": [],
   "source": []
  },
  {
   "cell_type": "code",
   "execution_count": 189,
   "metadata": {
    "collapsed": false,
    "deletable": true,
    "editable": true
   },
   "outputs": [],
   "source": [
    "sol=solve(eq_order,list_var2)[0][:]"
   ]
  },
  {
   "cell_type": "code",
   "execution_count": 190,
   "metadata": {
    "collapsed": false,
    "deletable": true,
    "editable": true
   },
   "outputs": [
    {
     "data": {
      "text/plain": [
       "[aa_3_0_1 == 0,\n",
       " aa_3_0_2 == 0,\n",
       " aa_3_0_3 == 0,\n",
       " aa_3_1_1 == 1/256*(6*q^10 + 11*q^8 - 63*q^6 + 96*q^4 + 27*q^2 + 27)/q^(13/2),\n",
       " aa_3_1_2 == 0,\n",
       " aa_3_1_3 == -1/256*(31*q^4 - 62*q^2 - 9)/q^(9/2),\n",
       " aa_3_2_1 == 0,\n",
       " aa_3_2_2 == 0,\n",
       " aa_3_2_3 == 0,\n",
       " aa_3_3_1 == -1/256*(6*q^8 - 13*q^6 - 5*q^4 + 9*q^2 + 3)/q^(9/2),\n",
       " aa_3_3_2 == 0,\n",
       " aa_3_3_3 == -1/256*(39*q^6 - 53*q^4 + 5*q^2 + 9)/q^(13/2),\n",
       " bb_3_1_0 == 0,\n",
       " bb_3_1_1 == -1/256*(6*q^10 + 3*q^8 - 43*q^6 + 72*q^4 + 15*q^2 + 27)/q^6,\n",
       " bb_3_1_2 == 0,\n",
       " bb_3_1_3 == 1/256*(5*q^4 - 18*q^2 - 3)/q^4,\n",
       " bb_3_2_0 == 0,\n",
       " bb_3_2_1 == 0,\n",
       " bb_3_2_2 == 0,\n",
       " bb_3_2_3 == 0,\n",
       " bb_3_3_0 == 0,\n",
       " bb_3_3_1 == 3/256*(2*q^8 + q^6 - 15*q^4 + 27*q^2 + 9)/q^4,\n",
       " bb_3_3_2 == 0,\n",
       " bb_3_3_3 == -3/256*(q^6 - 3*q^4 + 3*q^2 - 9)/q^6,\n",
       " cc_3 == -1/64*(2*q^6 + 3*q^4 + 12*q^2 - 9)/q^(7/2),\n",
       " dd_3 == 0]"
      ]
     },
     "execution_count": 190,
     "metadata": {},
     "output_type": "execute_result"
    }
   ],
   "source": [
    "sol"
   ]
  },
  {
   "cell_type": "code",
   "execution_count": 191,
   "metadata": {
    "collapsed": true,
    "deletable": true,
    "editable": true
   },
   "outputs": [],
   "source": [
    "#######################            var substitution-O3         ############################"
   ]
  },
  {
   "cell_type": "code",
   "execution_count": 192,
   "metadata": {
    "collapsed": true,
    "deletable": true,
    "editable": true
   },
   "outputs": [],
   "source": [
    "#from list of solve results, compare left hand sides of expressions to variable names aa, bb, cc, and dd\n",
    "#if there was a match, assign the right hand side of solve results to A, B, C, D \n",
    "#therefore aa, bb, cc and dd are intact\n",
    "for ii in range(len(sol)):\n",
    "    for i in range(1,6):\n",
    "        if var('cc_'+str(i))==sol[ii].lhs():\n",
    "            C[i]=sol[ii].rhs()\n",
    "        if var('dd_'+str(i))==sol[ii].lhs():\n",
    "            D[i]=sol[ii].rhs()            \n",
    "        for j in range(6):\n",
    "            for m in range(6):\n",
    "                if var('aa_'+str(i)+'_'+str(j)+'_'+str(m))==sol[ii].lhs():\n",
    "                    A[i][j][m]=sol[ii].rhs()\n",
    "                if var('bb_'+str(i)+'_'+str(j)+'_'+str(m))==sol[ii].lhs():\n",
    "                    B[i][j][m]=sol[ii].rhs()   "
   ]
  },
  {
   "cell_type": "code",
   "execution_count": 193,
   "metadata": {
    "collapsed": false,
    "deletable": true,
    "editable": true
   },
   "outputs": [
    {
     "name": "stdout",
     "output_type": "stream",
     "text": [
      "('A[3,1,1]', 1/256*(6*q^10 + 11*q^8 - 63*q^6 + 96*q^4 + 27*q^2 + 27)/q^(13/2))\n",
      "('A[3,1,3]', -1/256*(31*q^4 - 62*q^2 - 9)/q^(9/2))\n",
      "('A[3,3,1]', -1/256*(6*q^8 - 13*q^6 - 5*q^4 + 9*q^2 + 3)/q^(9/2))\n",
      "('A[3,3,3]', -1/256*(39*q^6 - 53*q^4 + 5*q^2 + 9)/q^(13/2))\n",
      "('B[3,1,1]', -1/256*(6*q^10 + 3*q^8 - 43*q^6 + 72*q^4 + 15*q^2 + 27)/q^6)\n",
      "('B[3,1,3]', 1/256*(5*q^4 - 18*q^2 - 3)/q^4)\n",
      "('B[3,3,1]', 3/256*(2*q^8 + q^6 - 15*q^4 + 27*q^2 + 9)/q^4)\n",
      "('B[3,3,3]', -3/256*(q^6 - 3*q^4 + 3*q^2 - 9)/q^6)\n",
      "('C[3]', -1/64*(2*q^6 + 3*q^4 + 12*q^2 - 9)/q^(7/2), 'D[3]', 0)\n"
     ]
    }
   ],
   "source": [
    "print(\"A[3,1,1]\",A[3][1][1])\n",
    "print(\"A[3,1,3]\",A[3][1][3])\n",
    "print(\"A[3,3,1]\",A[3][3][1])\n",
    "print(\"A[3,3,3]\",A[3][3][3])\n",
    "print(\"B[3,1,1]\",B[3][1][1])\n",
    "print(\"B[3,1,3]\",B[3][1][3])\n",
    "print(\"B[3,3,1]\",B[3][3][1])\n",
    "print(\"B[3,3,3]\",B[3][3][3])\n",
    "print(\"C[3]\",C[3],\"D[3]\",D[3])"
   ]
  },
  {
   "cell_type": "code",
   "execution_count": 194,
   "metadata": {
    "collapsed": true,
    "deletable": true,
    "editable": true
   },
   "outputs": [],
   "source": [
    "##############################      verify lateral - O3          ###################################"
   ]
  },
  {
   "cell_type": "code",
   "execution_count": 195,
   "metadata": {
    "collapsed": false,
    "deletable": true,
    "editable": true
   },
   "outputs": [
    {
     "data": {
      "text/plain": [
       "0"
      ]
     },
     "execution_count": 195,
     "metadata": {},
     "output_type": "execute_result"
    }
   ],
   "source": [
    "#eq_aa20=\n",
    "expand((f_eta(0,0,3)-f_eta(pi,0,3)-2*eps)/(2*eps^3))"
   ]
  },
  {
   "cell_type": "code",
   "execution_count": 196,
   "metadata": {
    "collapsed": false,
    "deletable": true,
    "editable": true
   },
   "outputs": [
    {
     "data": {
      "text/plain": [
       "0"
      ]
     },
     "execution_count": 196,
     "metadata": {},
     "output_type": "execute_result"
    }
   ],
   "source": [
    "#eq_aa21=\n",
    "expand((f_eta(0,0,3)-f_eta(0,pi,3)-2*eps)/(2*eps^3))"
   ]
  },
  {
   "cell_type": "code",
   "execution_count": 197,
   "metadata": {
    "collapsed": true,
    "deletable": true,
    "editable": true
   },
   "outputs": [],
   "source": [
    "#################################### verify kinematic BC - o3 #####################################"
   ]
  },
  {
   "cell_type": "code",
   "execution_count": 198,
   "metadata": {
    "collapsed": false,
    "deletable": true,
    "editable": true
   },
   "outputs": [],
   "source": [
    "#eq_aa1=\n",
    "expr1=f_eta_t(x,t,3)+f_u(x,t,2)*f_eta_x(x,t,2)-f_w(x,t,3)"
   ]
  },
  {
   "cell_type": "code",
   "execution_count": 199,
   "metadata": {
    "collapsed": true,
    "deletable": true,
    "editable": true
   },
   "outputs": [],
   "source": [
    "expr=expr1.simplify_full().coefficients(eps)"
   ]
  },
  {
   "cell_type": "code",
   "execution_count": 200,
   "metadata": {
    "collapsed": false,
    "deletable": true,
    "editable": true
   },
   "outputs": [],
   "source": [
    "#suppress to save memory\n",
    "#expr"
   ]
  },
  {
   "cell_type": "code",
   "execution_count": 201,
   "metadata": {
    "collapsed": false,
    "deletable": true,
    "editable": true
   },
   "outputs": [
    {
     "name": "stdout",
     "output_type": "stream",
     "text": [
      "4\n",
      "5\n"
     ]
    }
   ],
   "source": [
    "for i in range(len(expr)):\n",
    "    print(expr[i][1])"
   ]
  },
  {
   "cell_type": "code",
   "execution_count": 202,
   "metadata": {
    "collapsed": true,
    "deletable": true,
    "editable": true
   },
   "outputs": [],
   "source": [
    "#################################### verify dynamic BC - o3 #####################################"
   ]
  },
  {
   "cell_type": "code",
   "execution_count": 203,
   "metadata": {
    "collapsed": true,
    "deletable": true,
    "editable": true
   },
   "outputs": [],
   "source": [
    "#eq_aa30=\n",
    "expr1=f_phi_t(x,t,3)+1/2*(f_u(x,t,2)^2+f_w(x,t,2)^2)+f_eta(x,t,3)-fB(3)"
   ]
  },
  {
   "cell_type": "code",
   "execution_count": 204,
   "metadata": {
    "collapsed": true,
    "deletable": true,
    "editable": true
   },
   "outputs": [],
   "source": [
    "expr=expr1.simplify_full().coefficients(eps)"
   ]
  },
  {
   "cell_type": "code",
   "execution_count": 205,
   "metadata": {
    "collapsed": false,
    "deletable": true,
    "editable": true
   },
   "outputs": [],
   "source": [
    "#suppress to save memory\n",
    "#expr"
   ]
  },
  {
   "cell_type": "code",
   "execution_count": 206,
   "metadata": {
    "collapsed": false,
    "deletable": true,
    "editable": true
   },
   "outputs": [
    {
     "name": "stdout",
     "output_type": "stream",
     "text": [
      "4\n",
      "5\n",
      "6\n",
      "7\n"
     ]
    }
   ],
   "source": [
    "for i in range(len(expr)):\n",
    "    print(expr[i][1])"
   ]
  },
  {
   "cell_type": "code",
   "execution_count": 207,
   "metadata": {
    "collapsed": true,
    "deletable": true,
    "editable": true
   },
   "outputs": [],
   "source": [
    "######################################################################################################\n",
    "######################################################################################################\n",
    "######################################################################################################\n",
    "##############################           order 4                   ###################################\n",
    "######################################################################################################\n",
    "######################################################################################################\n",
    "######################################################################################################"
   ]
  },
  {
   "cell_type": "code",
   "execution_count": 208,
   "metadata": {
    "collapsed": true,
    "deletable": true,
    "editable": true
   },
   "outputs": [],
   "source": [
    "#BCs"
   ]
  },
  {
   "cell_type": "code",
   "execution_count": 209,
   "metadata": {
    "collapsed": true,
    "deletable": true,
    "editable": true
   },
   "outputs": [],
   "source": [
    "#######################         wave height constraint order 4           ############################"
   ]
  },
  {
   "cell_type": "code",
   "execution_count": 210,
   "metadata": {
    "collapsed": true,
    "deletable": true,
    "editable": true
   },
   "outputs": [],
   "source": [
    "eq_aa20=expand((f_eta(0,0,4)-f_eta(pi,0,4)-2*eps)/(2*eps^4))"
   ]
  },
  {
   "cell_type": "code",
   "execution_count": 211,
   "metadata": {
    "collapsed": false,
    "deletable": true,
    "editable": true
   },
   "outputs": [
    {
     "data": {
      "text/plain": [
       "bb_4_1_0 + bb_4_1_1 + bb_4_1_2 + bb_4_1_3 + bb_4_1_4 + bb_4_3_0 + bb_4_3_1 + bb_4_3_2 + bb_4_3_3 + bb_4_3_4"
      ]
     },
     "execution_count": 211,
     "metadata": {},
     "output_type": "execute_result"
    }
   ],
   "source": [
    "eq_aa20"
   ]
  },
  {
   "cell_type": "code",
   "execution_count": 212,
   "metadata": {
    "collapsed": true,
    "deletable": true,
    "editable": true
   },
   "outputs": [],
   "source": [
    "eq_aa21=expand((f_eta(0,0,4)-f_eta(0,pi,4)-2*eps)/(2*eps^4))"
   ]
  },
  {
   "cell_type": "code",
   "execution_count": 213,
   "metadata": {
    "collapsed": false,
    "deletable": true,
    "editable": true
   },
   "outputs": [
    {
     "data": {
      "text/plain": [
       "bb_4_1_1 + bb_4_1_3 + bb_4_2_1 + bb_4_2_3 + bb_4_3_1 + bb_4_3_3 + bb_4_4_1 + bb_4_4_3"
      ]
     },
     "execution_count": 213,
     "metadata": {},
     "output_type": "execute_result"
    }
   ],
   "source": [
    "eq_aa21"
   ]
  },
  {
   "cell_type": "code",
   "execution_count": 214,
   "metadata": {
    "collapsed": true,
    "deletable": true,
    "editable": true
   },
   "outputs": [],
   "source": [
    "#######################                kinematic BC order 4           ############################"
   ]
  },
  {
   "cell_type": "code",
   "execution_count": 215,
   "metadata": {
    "collapsed": true,
    "deletable": true,
    "editable": true
   },
   "outputs": [],
   "source": [
    "eq_aa1=f_eta_t(x,t,4)+f_u(x,t,3)*f_eta_x(x,t,3)-f_w(x,t,4)"
   ]
  },
  {
   "cell_type": "code",
   "execution_count": 216,
   "metadata": {
    "collapsed": true,
    "deletable": true,
    "editable": true
   },
   "outputs": [],
   "source": [
    "#coefficient & coefficients produce erroneous results, therefore a new method is used\n",
    "#this is based on calculating the remainder of a polynomial with respect to another polynomial"
   ]
  },
  {
   "cell_type": "code",
   "execution_count": 217,
   "metadata": {
    "collapsed": true,
    "deletable": true,
    "editable": true
   },
   "outputs": [],
   "source": [
    "eq_aa2=eq_aa1.simplify_full().coefficients(eps)"
   ]
  },
  {
   "cell_type": "code",
   "execution_count": 218,
   "metadata": {
    "collapsed": false,
    "deletable": true,
    "editable": true
   },
   "outputs": [
    {
     "name": "stdout",
     "output_type": "stream",
     "text": [
      "4\n",
      "5\n",
      "6\n",
      "7\n",
      "8\n"
     ]
    }
   ],
   "source": [
    "for i in range(len(eq_aa2)):\n",
    "    print(eq_aa2[i][1])\n",
    "#this means that orders 1 to 3 are zero because they are not shown"
   ]
  },
  {
   "cell_type": "code",
   "execution_count": 219,
   "metadata": {
    "collapsed": true,
    "deletable": true,
    "editable": true
   },
   "outputs": [],
   "source": [
    "eq_aa10=eq_aa2[0][0].trig_reduce().simplify_full()"
   ]
  },
  {
   "cell_type": "code",
   "execution_count": 220,
   "metadata": {
    "collapsed": false,
    "deletable": true,
    "editable": true
   },
   "outputs": [],
   "source": [
    "#eq_aa10"
   ]
  },
  {
   "cell_type": "code",
   "execution_count": 221,
   "metadata": {
    "collapsed": false,
    "deletable": true,
    "editable": true
   },
   "outputs": [],
   "source": [
    "#obtain coefficients of double fourier series of the form a_kl*sin(kx)*sin(lt) using integration over domain\n",
    "counter_=0\n",
    "temp=0\n",
    "eq_ct_11=[0 for i in range(200)]\n",
    "for n1 in range(4+1):\n",
    "    for n2 in range (4+1):\n",
    "        temp=expand(integral(integral(eq_aa10*sin(n1*x)*sin(n2*t)/pi^2,x,0,2*pi),t,0,2*pi))\n",
    "        if temp!=0:\n",
    "            eq_ct_11[counter_]=temp\n",
    "            counter_=counter_+1\n",
    "        temp=expand(integral(integral(eq_aa10*sin(n1*x)*cos(n2*t)/pi^2,x,0,2*pi),t,0,2*pi))\n",
    "        if temp!=0:\n",
    "            eq_ct_11[counter_]=temp\n",
    "            counter_=counter_+1\n",
    "        temp=expand(integral(integral(eq_aa10*cos(n1*x)*sin(n2*t)/pi^2,x,0,2*pi),t,0,2*pi))\n",
    "        if temp!=0:\n",
    "            eq_ct_11[counter_]=temp\n",
    "            counter_=counter_+1\n",
    "        temp=expand(integral(integral(eq_aa10*cos(n1*x)*cos(n2*t)/pi^2,x,0,2*pi),t,0,2*pi))\n",
    "        if temp!=0:\n",
    "            eq_ct_11[counter_]=temp\n",
    "            counter_=counter_+1\n",
    "eq_ct_12=[0 for i in range(counter_)]\n",
    "for i in range(counter_):\n",
    "    eq_ct_12[i]=eq_ct_11[i]"
   ]
  },
  {
   "cell_type": "code",
   "execution_count": 222,
   "metadata": {
    "collapsed": false,
    "deletable": true,
    "editable": true
   },
   "outputs": [
    {
     "data": {
      "text/plain": [
       "16"
      ]
     },
     "execution_count": 222,
     "metadata": {},
     "output_type": "execute_result"
    }
   ],
   "source": [
    "len(eq_ct_12)"
   ]
  },
  {
   "cell_type": "code",
   "execution_count": 223,
   "metadata": {
    "collapsed": false,
    "deletable": true,
    "editable": true
   },
   "outputs": [],
   "source": [
    "#eq_ct_12"
   ]
  },
  {
   "cell_type": "code",
   "execution_count": 224,
   "metadata": {
    "collapsed": true,
    "deletable": true,
    "editable": true
   },
   "outputs": [],
   "source": [
    "#######################                dynamic BC order 4           ############################"
   ]
  },
  {
   "cell_type": "code",
   "execution_count": 225,
   "metadata": {
    "collapsed": false,
    "deletable": true,
    "editable": true
   },
   "outputs": [],
   "source": [
    "eq_aa30=f_phi_t(x,t,4)+1/2*(f_u(x,t,3)^2+f_w(x,t,3)^2)+f_eta(x,t,4)-fB(4)"
   ]
  },
  {
   "cell_type": "code",
   "execution_count": 226,
   "metadata": {
    "collapsed": true,
    "deletable": true,
    "editable": true
   },
   "outputs": [],
   "source": [
    "eq_aa31=eq_aa30.simplify_full().expand().coefficients(eps)"
   ]
  },
  {
   "cell_type": "code",
   "execution_count": 227,
   "metadata": {
    "collapsed": false,
    "deletable": true,
    "editable": true
   },
   "outputs": [
    {
     "name": "stdout",
     "output_type": "stream",
     "text": [
      "4\n",
      "5\n",
      "6\n",
      "7\n",
      "8\n",
      "9\n",
      "10\n"
     ]
    }
   ],
   "source": [
    "for i in range(len(eq_aa31)):\n",
    "    print(eq_aa31[i][1])"
   ]
  },
  {
   "cell_type": "code",
   "execution_count": 228,
   "metadata": {
    "collapsed": true,
    "deletable": true,
    "editable": true
   },
   "outputs": [],
   "source": [
    "eq_aa32=eq_aa31[0][0].trig_reduce().simplify_full()"
   ]
  },
  {
   "cell_type": "code",
   "execution_count": 229,
   "metadata": {
    "collapsed": false,
    "deletable": true,
    "editable": true
   },
   "outputs": [],
   "source": [
    "#eq_aa32"
   ]
  },
  {
   "cell_type": "code",
   "execution_count": 230,
   "metadata": {
    "collapsed": true,
    "deletable": true,
    "editable": true
   },
   "outputs": [],
   "source": [
    "#obtain coefficients of double fourier series of the form a_kl*sin(kx)*sin(lt) using integration over domain\n",
    "counter_=0\n",
    "temp=0\n",
    "eq_aa33=[0 for i in range(200)]\n",
    "for n1 in range(4+1):\n",
    "    for n2 in range (4+1):\n",
    "        temp=expand(integral(integral(eq_aa32*sin(n1*x)*sin(n2*t)/pi^2,x,0,2*pi),t,0,2*pi))\n",
    "        if temp!=0:\n",
    "            eq_aa33[counter_]=temp\n",
    "            counter_=counter_+1\n",
    "        temp=expand(integral(integral(eq_aa32*sin(n1*x)*cos(n2*t)/pi^2,x,0,2*pi),t,0,2*pi))\n",
    "        if temp!=0:\n",
    "            eq_aa33[counter_]=temp\n",
    "            counter_=counter_+1\n",
    "        temp=expand(integral(integral(eq_aa32*cos(n1*x)*sin(n2*t)/pi^2,x,0,2*pi),t,0,2*pi))\n",
    "        if temp!=0:\n",
    "            eq_aa33[counter_]=temp\n",
    "            counter_=counter_+1\n",
    "        temp=expand(integral(integral(eq_aa32*cos(n1*x)*cos(n2*t)/pi^2,x,0,2*pi),t,0,2*pi))\n",
    "        if temp!=0:\n",
    "            eq_aa33[counter_]=temp\n",
    "            counter_=counter_+1\n",
    "eq_aa_34=[0 for i in range(counter_)]\n",
    "for i in range(counter_):\n",
    "    eq_aa_34[i]=eq_aa33[i]"
   ]
  },
  {
   "cell_type": "code",
   "execution_count": 231,
   "metadata": {
    "collapsed": false,
    "deletable": true,
    "editable": true
   },
   "outputs": [
    {
     "data": {
      "text/plain": [
       "(25,\n",
       " [3/128*q^5 + 5/256*q^3 - 4*dd_4 - 7/32*q + 87/256/q + 39/256/q^3 - 9/32/q^5 - 9/256/q^7,\n",
       "  2*aa_4_0_1*abs(q)^(15/2)*cos(15/2*arctan2(0, q))/q^7 + 2*I*aa_4_0_1*abs(q)^(15/2)*sin(15/2*arctan2(0, q))/q^7,\n",
       "  9/256*q^5 + 27/512*q^3 + 4*aa_4_0_2*sqrt(q) - 91/512*q + 43/64/q - 61/256/q^3 + 117/512/q^5 + 27/512/q^7,\n",
       "  6*aa_4_0_3*sqrt(q),\n",
       "  8*aa_4_0_4*sqrt(q) - 67/512*q + 235/512/q + 185/512/q^3 - 207/512/q^5 - 9/256/q^7,\n",
       "  2*bb_4_1_0,\n",
       "  aa_4_1_1*sqrt(q) + bb_4_1_1 - cc_4/sqrt(q),\n",
       "  2*aa_4_1_2*sqrt(q) + bb_4_1_2,\n",
       "  3*aa_4_1_3*sqrt(q) + bb_4_1_3,\n",
       "  4*aa_4_1_4*sqrt(q) + bb_4_1_4,\n",
       "  1/16*q^3 + 2*bb_4_2_0 + 9/256*q - 23/512/q + 27/512/q^3 + 63/512/q^5 + 27/512/q^7,\n",
       "  aa_4_2_1*sqrt(q) + bb_4_2_1,\n",
       "  -3/256*q^3 + 2*aa_4_2_2*sqrt(q) + bb_4_2_2 - 151/1536*q + 55/256/q + 5/64/q^3 - 3/64/q^5 - 27/512/q^7,\n",
       "  3*aa_4_2_3*sqrt(q) + bb_4_2_3,\n",
       "  4*aa_4_2_4*sqrt(q) + bb_4_2_4 - 199/1536*q + 79/1024/q + 397/1024/q^3 - 375/1024/q^5 - 27/1024/q^7,\n",
       "  2*bb_4_3_0,\n",
       "  aa_4_3_1*sqrt(q) + bb_4_3_1,\n",
       "  2*aa_4_3_2*sqrt(q) + bb_4_3_2,\n",
       "  3*aa_4_3_3*sqrt(q) + bb_4_3_3,\n",
       "  4*aa_4_3_4*sqrt(q) + bb_4_3_4,\n",
       "  -3/256*q^5 - 21/512*q^3 + 2*bb_4_4_0 + 33/256*q - 1/256/q - 33/256/q^3 - 81/512/q^5 - 9/256/q^7,\n",
       "  aa_4_4_1*sqrt(q) + bb_4_4_1,\n",
       "  -9/512*q^5 + 9/1024*q^3 + 2*aa_4_4_2*sqrt(q) + bb_4_4_2 + 559/3072*q - 171/512/q + 27/128/q^3 - 195/1024/q^5 - 27/1024/q^7,\n",
       "  3*aa_4_4_3*sqrt(q) + bb_4_4_3,\n",
       "  4*aa_4_4_4*sqrt(q) + bb_4_4_4 - 197/3072*q - 1/4/q + 393/512/q^3 - 69/128/q^5 + 45/1024/q^7])"
      ]
     },
     "execution_count": 231,
     "metadata": {},
     "output_type": "execute_result"
    }
   ],
   "source": [
    "len(eq_aa_34),eq_aa_34"
   ]
  },
  {
   "cell_type": "code",
   "execution_count": 241,
   "metadata": {
    "collapsed": true,
    "deletable": true,
    "editable": true
   },
   "outputs": [],
   "source": [
    "#######################                combine BCs-O4           ############################"
   ]
  },
  {
   "cell_type": "code",
   "execution_count": 242,
   "metadata": {
    "collapsed": true,
    "deletable": true,
    "editable": true
   },
   "outputs": [],
   "source": [
    "counter_=0\n",
    "eq_order=[0 for i in range(2+len(eq_ct_12)+len(eq_aa_34))]\n",
    "eq_order[0]=eq_aa20\n",
    "eq_order[1]=eq_aa21\n",
    "for i in range(len(eq_ct_12)):\n",
    "    eq_order[i+2]=eq_ct_12[i]\n",
    "for i in range(len(eq_aa_34)):\n",
    "    eq_order[i+2+len(eq_ct_12)]=eq_aa_34[i]"
   ]
  },
  {
   "cell_type": "code",
   "execution_count": 243,
   "metadata": {
    "collapsed": false,
    "deletable": true,
    "editable": true
   },
   "outputs": [],
   "source": [
    "#eq_order"
   ]
  },
  {
   "cell_type": "code",
   "execution_count": 244,
   "metadata": {
    "collapsed": true,
    "deletable": true,
    "editable": true
   },
   "outputs": [],
   "source": [
    "#######################                list of vars-O4         ############################"
   ]
  },
  {
   "cell_type": "code",
   "execution_count": 245,
   "metadata": {
    "collapsed": true,
    "deletable": true,
    "editable": true
   },
   "outputs": [],
   "source": [
    "#flattening the equations to remove the list property to be able to extract variable names\n",
    "eps1=var('eps1')\n",
    "temp=0\n",
    "for i in range(len(eq_order)):\n",
    "    temp=temp+eq_order[i]*eps1^i"
   ]
  },
  {
   "cell_type": "code",
   "execution_count": 246,
   "metadata": {
    "collapsed": true,
    "deletable": true,
    "editable": true
   },
   "outputs": [],
   "source": [
    "list_var=temp.variables()"
   ]
  },
  {
   "cell_type": "code",
   "execution_count": null,
   "metadata": {
    "collapsed": false,
    "deletable": true,
    "editable": true
   },
   "outputs": [],
   "source": []
  },
  {
   "cell_type": "code",
   "execution_count": 247,
   "metadata": {
    "collapsed": true,
    "deletable": true,
    "editable": true
   },
   "outputs": [],
   "source": [
    "list_var2=[0 for i in range(len(list_var)-2)]"
   ]
  },
  {
   "cell_type": "code",
   "execution_count": 248,
   "metadata": {
    "collapsed": true,
    "deletable": true,
    "editable": true
   },
   "outputs": [],
   "source": [
    "#copy variable list, leave out eps1 & q\n",
    "ii=var('ii')\n",
    "ii=0\n",
    "for i in range(len(list_var)):\n",
    "    if list_var[i]!=eps1 and list_var[i]!=q:\n",
    "        list_var2[ii]=list_var[i]\n",
    "        ii=ii+1"
   ]
  },
  {
   "cell_type": "code",
   "execution_count": 249,
   "metadata": {
    "collapsed": false,
    "deletable": true,
    "editable": true
   },
   "outputs": [
    {
     "data": {
      "text/plain": [
       "[aa_4_0_1,\n",
       " aa_4_0_2,\n",
       " aa_4_0_3,\n",
       " aa_4_0_4,\n",
       " aa_4_1_1,\n",
       " aa_4_1_2,\n",
       " aa_4_1_3,\n",
       " aa_4_1_4,\n",
       " aa_4_2_1,\n",
       " aa_4_2_2,\n",
       " aa_4_2_3,\n",
       " aa_4_2_4,\n",
       " aa_4_3_1,\n",
       " aa_4_3_2,\n",
       " aa_4_3_3,\n",
       " aa_4_3_4,\n",
       " aa_4_4_1,\n",
       " aa_4_4_2,\n",
       " aa_4_4_3,\n",
       " aa_4_4_4,\n",
       " bb_4_1_0,\n",
       " bb_4_1_1,\n",
       " bb_4_1_2,\n",
       " bb_4_1_3,\n",
       " bb_4_1_4,\n",
       " bb_4_2_0,\n",
       " bb_4_2_1,\n",
       " bb_4_2_2,\n",
       " bb_4_2_3,\n",
       " bb_4_2_4,\n",
       " bb_4_3_0,\n",
       " bb_4_3_1,\n",
       " bb_4_3_2,\n",
       " bb_4_3_3,\n",
       " bb_4_3_4,\n",
       " bb_4_4_0,\n",
       " bb_4_4_1,\n",
       " bb_4_4_2,\n",
       " bb_4_4_3,\n",
       " bb_4_4_4,\n",
       " cc_4,\n",
       " dd_4]"
      ]
     },
     "execution_count": 249,
     "metadata": {},
     "output_type": "execute_result"
    }
   ],
   "source": [
    "list_var2"
   ]
  },
  {
   "cell_type": "code",
   "execution_count": 250,
   "metadata": {
    "collapsed": false,
    "deletable": true,
    "editable": true
   },
   "outputs": [
    {
     "data": {
      "text/plain": [
       "(43, 42)"
      ]
     },
     "execution_count": 250,
     "metadata": {},
     "output_type": "execute_result"
    }
   ],
   "source": [
    "len(eq_order),len(list_var2)"
   ]
  },
  {
   "cell_type": "code",
   "execution_count": 251,
   "metadata": {
    "collapsed": true,
    "deletable": true,
    "editable": true
   },
   "outputs": [],
   "source": [
    "sol=solve(eq_order,list_var2)[0][:]"
   ]
  },
  {
   "cell_type": "code",
   "execution_count": 252,
   "metadata": {
    "collapsed": false,
    "deletable": true,
    "editable": true
   },
   "outputs": [
    {
     "data": {
      "text/plain": [
       "[aa_4_0_1 == 0,\n",
       " aa_4_0_2 == -1/2048*(18*q^12 + 27*q^10 - 91*q^8 + 344*q^6 - 122*q^4 + 117*q^2 + 27)/q^(15/2),\n",
       " aa_4_0_3 == 0,\n",
       " aa_4_0_4 == 1/4096*(67*q^8 - 235*q^6 - 185*q^4 + 207*q^2 + 18)/q^(15/2),\n",
       " aa_4_1_1 == 0,\n",
       " aa_4_1_2 == 0,\n",
       " aa_4_1_3 == 0,\n",
       " aa_4_1_4 == 0,\n",
       " aa_4_2_1 == 0,\n",
       " aa_4_2_2 == 1/3072*(18*q^12 + 259*q^10 - 240*q^8 - 256*q^6 + 252*q^4 + 189*q^2 + 162)/q^(19/2),\n",
       " aa_4_2_3 == 0,\n",
       " aa_4_2_4 == 1/3072*(398*q^10 + 63*q^8 - 1298*q^6 + 144*q^4 + 1188*q^2 + 81)*sqrt(q)/(4*q^10 + 3*q^8),\n",
       " aa_4_3_1 == 0,\n",
       " aa_4_3_2 == 0,\n",
       " aa_4_3_3 == 0,\n",
       " aa_4_3_4 == 0,\n",
       " aa_4_4_1 == 0,\n",
       " aa_4_4_2 == 1/6144*(54*q^14 + 207*q^12 - 1060*q^10 - 1743*q^8 + 4502*q^6 - 207*q^4 - 648*q^2 - 81)*sqrt(q)/(q^10 + 3*q^8),\n",
       " aa_4_4_3 == 0,\n",
       " aa_4_4_4 == 1/12288*(197*q^12 + 1732*q^10 + 1481*q^8 - 9872*q^6 + 7623*q^4 - 756*q^2 - 405)*sqrt(q)/(q^12 + 5*q^10),\n",
       " bb_4_1_0 == 0,\n",
       " bb_4_1_1 == 0,\n",
       " bb_4_1_2 == 0,\n",
       " bb_4_1_3 == 0,\n",
       " bb_4_1_4 == 0,\n",
       " bb_4_2_0 == -1/1024*(32*q^10 + 18*q^8 - 23*q^6 + 27*q^4 + 63*q^2 + 27)/q^7,\n",
       " bb_4_2_1 == 0,\n",
       " bb_4_2_2 == -1/768*(54*q^10 + 45*q^8 - 68*q^6 + 90*q^4 + 54*q^2 + 81)/q^9,\n",
       " bb_4_2_3 == 0,\n",
       " bb_4_2_4 == -1/3072*(6*q^8 + 283*q^6 - 351*q^4 + 1053*q^2 + 81)/(4*q^9 + 3*q^7),\n",
       " bb_4_3_0 == 0,\n",
       " bb_4_3_1 == 0,\n",
       " bb_4_3_2 == 0,\n",
       " bb_4_3_3 == 0,\n",
       " bb_4_3_4 == 0,\n",
       " bb_4_4_0 == 1/1024*(6*q^12 + 21*q^10 - 66*q^8 + 2*q^6 + 66*q^4 + 81*q^2 + 18)/q^7,\n",
       " bb_4_4_1 == 0,\n",
       " bb_4_4_2 == -1/768*(18*q^12 - 105*q^10 - 273*q^8 + 518*q^6 + 288*q^4 - 621*q^2 - 81)/(q^9 + 3*q^7),\n",
       " bb_4_4_3 == 0,\n",
       " bb_4_4_4 == 1/3072*(21*q^10 + q^8 - 262*q^6 + 522*q^4 + 81*q^2 + 405)/(q^11 + 5*q^9),\n",
       " cc_4 == 0,\n",
       " dd_4 == 1/1024*(6*q^12 + 5*q^10 - 56*q^8 + 87*q^6 + 39*q^4 - 72*q^2 - 9)/q^7]"
      ]
     },
     "execution_count": 252,
     "metadata": {},
     "output_type": "execute_result"
    }
   ],
   "source": [
    "sol"
   ]
  },
  {
   "cell_type": "code",
   "execution_count": 253,
   "metadata": {
    "collapsed": true,
    "deletable": true,
    "editable": true
   },
   "outputs": [],
   "source": [
    "#######################            var substitution-O4         ############################"
   ]
  },
  {
   "cell_type": "code",
   "execution_count": 254,
   "metadata": {
    "collapsed": false,
    "deletable": true,
    "editable": true
   },
   "outputs": [
    {
     "name": "stdout",
     "output_type": "stream",
     "text": [
      "('A', 4, 0, 2, -1/2048*(18*q^12 + 27*q^10 - 91*q^8 + 344*q^6 - 122*q^4 + 117*q^2 + 27)/q^(15/2))\n",
      "('A', 4, 0, 4, 1/4096*(67*q^8 - 235*q^6 - 185*q^4 + 207*q^2 + 18)/q^(15/2))\n",
      "('A', 4, 2, 2, 1/3072*(18*q^12 + 259*q^10 - 240*q^8 - 256*q^6 + 252*q^4 + 189*q^2 + 162)/q^(19/2))\n",
      "('A', 4, 2, 4, 1/3072*(398*q^10 + 63*q^8 - 1298*q^6 + 144*q^4 + 1188*q^2 + 81)*sqrt(q)/(4*q^10 + 3*q^8))\n",
      "('A', 4, 4, 2, 1/6144*(54*q^14 + 207*q^12 - 1060*q^10 - 1743*q^8 + 4502*q^6 - 207*q^4 - 648*q^2 - 81)*sqrt(q)/(q^10 + 3*q^8))\n",
      "('A', 4, 4, 4, 1/12288*(197*q^12 + 1732*q^10 + 1481*q^8 - 9872*q^6 + 7623*q^4 - 756*q^2 - 405)*sqrt(q)/(q^12 + 5*q^10))\n",
      "('B', 4, 2, 0, -1/1024*(32*q^10 + 18*q^8 - 23*q^6 + 27*q^4 + 63*q^2 + 27)/q^7)\n",
      "('B', 4, 2, 2, -1/768*(54*q^10 + 45*q^8 - 68*q^6 + 90*q^4 + 54*q^2 + 81)/q^9)\n",
      "('B', 4, 2, 4, -1/3072*(6*q^8 + 283*q^6 - 351*q^4 + 1053*q^2 + 81)/(4*q^9 + 3*q^7))\n",
      "('B', 4, 4, 0, 1/1024*(6*q^12 + 21*q^10 - 66*q^8 + 2*q^6 + 66*q^4 + 81*q^2 + 18)/q^7)\n",
      "('B', 4, 4, 2, -1/768*(18*q^12 - 105*q^10 - 273*q^8 + 518*q^6 + 288*q^4 - 621*q^2 - 81)/(q^9 + 3*q^7))\n",
      "('B', 4, 4, 4, 1/3072*(21*q^10 + q^8 - 262*q^6 + 522*q^4 + 81*q^2 + 405)/(q^11 + 5*q^9))\n",
      "('D', 4, 1/1024*(6*q^12 + 5*q^10 - 56*q^8 + 87*q^6 + 39*q^4 - 72*q^2 - 9)/q^7)\n"
     ]
    }
   ],
   "source": [
    "#from list of solve results, compare left hand sides of expressions to variable names aa, bb, cc, and dd\n",
    "#if there was a match, assign the right hand side of solve results to A, B, C, D \n",
    "#therefore aa, bb, cc and dd are intact\n",
    "for ii in range(len(sol)):\n",
    "    for i in range(1,6):\n",
    "        if var('cc_'+str(i))==sol[ii].lhs():\n",
    "            C[i]=sol[ii].rhs()\n",
    "            if C[i]!=0:\n",
    "                print(\"C\",i,C[i])\n",
    "        if var('dd_'+str(i))==sol[ii].lhs():\n",
    "            if D[i]!=0:\n",
    "                D[i]=sol[ii].rhs()\n",
    "            print(\"D\",i,D[i])\n",
    "        for j in range(6):\n",
    "            for m in range(6):\n",
    "                if var('aa_'+str(i)+'_'+str(j)+'_'+str(m))==sol[ii].lhs():\n",
    "                    A[i][j][m]=sol[ii].rhs()\n",
    "                    if A[i][j][m]!=0:\n",
    "                        print(\"A\",i,j,m,A[i][j][m])\n",
    "                if var('bb_'+str(i)+'_'+str(j)+'_'+str(m))==sol[ii].lhs():\n",
    "                    B[i][j][m]=sol[ii].rhs()\n",
    "                    if B[i][j][m]!=0:\n",
    "                        print(\"B\",i,j,m,B[i][j][m])"
   ]
  },
  {
   "cell_type": "code",
   "execution_count": 255,
   "metadata": {
    "collapsed": false,
    "deletable": true,
    "editable": true
   },
   "outputs": [],
   "source": [
    "##############################      verify lateral - O4          ###################################"
   ]
  },
  {
   "cell_type": "code",
   "execution_count": 256,
   "metadata": {
    "collapsed": false,
    "deletable": true,
    "editable": true
   },
   "outputs": [
    {
     "data": {
      "text/plain": [
       "0"
      ]
     },
     "execution_count": 256,
     "metadata": {},
     "output_type": "execute_result"
    }
   ],
   "source": [
    "#eq_aa20=\n",
    "expand((f_eta(0,0,4)-f_eta(pi,0,4)-2*eps)/(2*eps^4))"
   ]
  },
  {
   "cell_type": "code",
   "execution_count": 257,
   "metadata": {
    "collapsed": false,
    "deletable": true,
    "editable": true
   },
   "outputs": [
    {
     "data": {
      "text/plain": [
       "0"
      ]
     },
     "execution_count": 257,
     "metadata": {},
     "output_type": "execute_result"
    }
   ],
   "source": [
    "#eq_aa21=\n",
    "expand((f_eta(0,0,4)-f_eta(0,pi,4)-2*eps)/(2*eps^4))"
   ]
  },
  {
   "cell_type": "code",
   "execution_count": 258,
   "metadata": {
    "collapsed": true,
    "deletable": true,
    "editable": true
   },
   "outputs": [],
   "source": [
    "#################################### verify kinematic BC - o4 #####################################"
   ]
  },
  {
   "cell_type": "code",
   "execution_count": 259,
   "metadata": {
    "collapsed": false,
    "deletable": true,
    "editable": true
   },
   "outputs": [
    {
     "name": "stdout",
     "output_type": "stream",
     "text": [
      "5\n",
      "6\n",
      "7\n",
      "8\n"
     ]
    }
   ],
   "source": [
    "expr=(f_eta_t(x,t,4)+f_u(x,t,3)*f_eta_x(x,t,3)-f_w(x,t,4)).simplify_full().coefficients(eps)\n",
    "for i in range(len(expr)):\n",
    "    print(expr[i][1])"
   ]
  },
  {
   "cell_type": "code",
   "execution_count": 260,
   "metadata": {
    "collapsed": true,
    "deletable": true,
    "editable": true
   },
   "outputs": [],
   "source": [
    "#################################### verify dynamic BC - o4 #####################################"
   ]
  },
  {
   "cell_type": "code",
   "execution_count": 261,
   "metadata": {
    "collapsed": false,
    "deletable": true,
    "editable": true,
    "scrolled": true
   },
   "outputs": [
    {
     "name": "stdout",
     "output_type": "stream",
     "text": [
      "5\n",
      "6\n",
      "7\n",
      "8\n",
      "9\n",
      "10\n"
     ]
    }
   ],
   "source": [
    "expr=(f_phi_t(x,t,4)+1/2*(f_u(x,t,3)^2+f_w(x,t,3)^2)+f_eta(x,t,4)-fB(4)).simplify_full().coefficients(eps)\n",
    "for i in range(len(expr)):\n",
    "    print(expr[i][1])"
   ]
  },
  {
   "cell_type": "code",
   "execution_count": 262,
   "metadata": {
    "collapsed": true,
    "deletable": true,
    "editable": true
   },
   "outputs": [],
   "source": [
    "#check point, about 20 minutes"
   ]
  },
  {
   "cell_type": "code",
   "execution_count": 263,
   "metadata": {
    "collapsed": true,
    "deletable": true,
    "editable": true
   },
   "outputs": [],
   "source": [
    "#check point"
   ]
  },
  {
   "cell_type": "code",
   "execution_count": 264,
   "metadata": {
    "collapsed": true,
    "deletable": true,
    "editable": true
   },
   "outputs": [],
   "source": [
    "######################################################################################################\n",
    "######################################################################################################\n",
    "######################################################################################################\n",
    "##############################           order 5                   ###################################\n",
    "######################################################################################################\n",
    "######################################################################################################\n",
    "######################################################################################################"
   ]
  },
  {
   "cell_type": "code",
   "execution_count": 265,
   "metadata": {
    "collapsed": true,
    "deletable": true,
    "editable": true
   },
   "outputs": [],
   "source": [
    "#BCs"
   ]
  },
  {
   "cell_type": "code",
   "execution_count": 266,
   "metadata": {
    "collapsed": true,
    "deletable": true,
    "editable": true
   },
   "outputs": [],
   "source": [
    "#######################         wave height constraint order 5           ############################"
   ]
  },
  {
   "cell_type": "code",
   "execution_count": 267,
   "metadata": {
    "collapsed": true,
    "deletable": true,
    "editable": true
   },
   "outputs": [],
   "source": [
    "eq_aa20=expand((f_eta(0,0,5)-f_eta(pi,0,5)-2*eps)/(2*eps^5))"
   ]
  },
  {
   "cell_type": "code",
   "execution_count": 268,
   "metadata": {
    "collapsed": false,
    "deletable": true,
    "editable": true
   },
   "outputs": [
    {
     "data": {
      "text/plain": [
       "bb_5_1_0 + bb_5_1_1 + bb_5_1_2 + bb_5_1_3 + bb_5_1_4 + bb_5_1_5 + bb_5_3_0 + bb_5_3_1 + bb_5_3_2 + bb_5_3_3 + bb_5_3_4 + bb_5_3_5 + bb_5_5_0 + bb_5_5_1 + bb_5_5_2 + bb_5_5_3 + bb_5_5_4 + bb_5_5_5"
      ]
     },
     "execution_count": 268,
     "metadata": {},
     "output_type": "execute_result"
    }
   ],
   "source": [
    "eq_aa20"
   ]
  },
  {
   "cell_type": "code",
   "execution_count": 269,
   "metadata": {
    "collapsed": true,
    "deletable": true,
    "editable": true
   },
   "outputs": [],
   "source": [
    "eq_aa21=expand((f_eta(0,0,5)-f_eta(0,pi,5)-2*eps)/(2*eps^5))"
   ]
  },
  {
   "cell_type": "code",
   "execution_count": 270,
   "metadata": {
    "collapsed": false,
    "deletable": true,
    "editable": true
   },
   "outputs": [
    {
     "data": {
      "text/plain": [
       "bb_5_1_1 + bb_5_1_3 + bb_5_1_5 + bb_5_2_1 + bb_5_2_3 + bb_5_2_5 + bb_5_3_1 + bb_5_3_3 + bb_5_3_5 + bb_5_4_1 + bb_5_4_3 + bb_5_4_5 + bb_5_5_1 + bb_5_5_3 + bb_5_5_5"
      ]
     },
     "execution_count": 270,
     "metadata": {},
     "output_type": "execute_result"
    }
   ],
   "source": [
    "eq_aa21"
   ]
  },
  {
   "cell_type": "code",
   "execution_count": 271,
   "metadata": {
    "collapsed": true,
    "deletable": true,
    "editable": true
   },
   "outputs": [],
   "source": [
    "#######################                kinematic BC order 5           ############################"
   ]
  },
  {
   "cell_type": "code",
   "execution_count": 272,
   "metadata": {
    "collapsed": true,
    "deletable": true,
    "editable": true
   },
   "outputs": [],
   "source": [
    "eq_aa1=f_eta_t(x,t,5)+f_u(x,t,4)*f_eta_x(x,t,4)-f_w(x,t,5)"
   ]
  },
  {
   "cell_type": "code",
   "execution_count": 273,
   "metadata": {
    "collapsed": false,
    "deletable": true,
    "editable": true
   },
   "outputs": [
    {
     "name": "stdout",
     "output_type": "stream",
     "text": [
      "5\n",
      "6\n",
      "7\n",
      "8\n",
      "9\n",
      "10\n",
      "11\n"
     ]
    }
   ],
   "source": [
    "eq_aa2=eq_aa1.simplify_full().coefficients(eps)\n",
    "for i in range(len(eq_aa2)):\n",
    "    print(eq_aa2[i][1])"
   ]
  },
  {
   "cell_type": "code",
   "execution_count": 274,
   "metadata": {
    "collapsed": false,
    "deletable": true,
    "editable": true
   },
   "outputs": [],
   "source": [
    "#bottleneck\n",
    "eq_aa10=eq_aa2[0][0].trig_reduce().simplify()"
   ]
  },
  {
   "cell_type": "code",
   "execution_count": 275,
   "metadata": {
    "collapsed": false,
    "deletable": true,
    "editable": true
   },
   "outputs": [],
   "source": [
    "eq_aa10_=eq_aa10.simplify_full()"
   ]
  },
  {
   "cell_type": "code",
   "execution_count": null,
   "metadata": {
    "collapsed": true,
    "deletable": true,
    "editable": true
   },
   "outputs": [],
   "source": []
  },
  {
   "cell_type": "code",
   "execution_count": 276,
   "metadata": {
    "collapsed": false,
    "deletable": true,
    "editable": true
   },
   "outputs": [
    {
     "name": "stdout",
     "output_type": "stream",
     "text": [
      "(0, 1, 1)\n",
      "-1/49152*(49152*aa_5_1_1*q^11 + 49152*cc_5*q^10 + (36*q^16 - 360*q^14 - 951*q^12 + 3*(16384*bb_5_1_1 + 1589)*q^10 - 2283*q^8 - 4450*q^6 + 4023*q^4 + 3051*q^2 + 1863)*sqrt(q))/q^10\n",
      " \n",
      "(1, 1, 2)\n",
      "-aa_5_1_2*q - 2*bb_5_1_2*sqrt(q)\n",
      " \n",
      "(2, 1, 3)\n",
      "-1/16384*(65536*aa_5_1_3*q^11 + 49152*aa_5_1_3*q^9 - (192*q^14 - 88*q^12 - 2*(98304*bb_5_1_3 + 925)*q^10 - 3*(49152*bb_5_1_3 - 1697)*q^8 - 1388*q^6 - 2628*q^4 - 2142*q^2 - 675)*sqrt(q))/(4*q^10 + 3*q^8)\n",
      " \n",
      "(3, 1, 4)\n",
      "-aa_5_1_4*q - 4*bb_5_1_4*sqrt(q)\n",
      " \n",
      "(4, 1, 5)\n",
      "-1/24576*(98304*aa_5_1_5*q^11 + 73728*aa_5_1_5*q^9 + (24*(20480*bb_5_1_5 + 27)*q^10 + 12*(30720*bb_5_1_5 - 79)*q^8 - 4522*q^6 + 3123*q^4 + 2376*q^2 - 405)*sqrt(q))/(4*q^10 + 3*q^8)\n",
      " \n",
      "(5, 2, 1)\n",
      "-(4*aa_5_2_1*q + (bb_5_2_1*q^2 + bb_5_2_1)*sqrt(q))/(q^2 + 1)\n",
      " \n",
      "(6, 2, 2)\n",
      "-2*(2*aa_5_2_2*q + (bb_5_2_2*q^2 + bb_5_2_2)*sqrt(q))/(q^2 + 1)\n",
      " \n",
      "(7, 2, 3)\n",
      "-(4*aa_5_2_3*q + 3*(bb_5_2_3*q^2 + bb_5_2_3)*sqrt(q))/(q^2 + 1)\n",
      " \n",
      "(8, 2, 4)\n",
      "-4*(aa_5_2_4*q + (bb_5_2_4*q^2 + bb_5_2_4)*sqrt(q))/(q^2 + 1)\n",
      " \n",
      "(9, 2, 5)\n",
      "-(4*aa_5_2_5*q + 5*(bb_5_2_5*q^2 + bb_5_2_5)*sqrt(q))/(q^2 + 1)\n",
      " \n",
      "(10, 3, 1)\n",
      "-1/16384*(49152*aa_5_3_1*q^13 + 294912*aa_5_3_1*q^11 + 442368*aa_5_3_1*q^9 - (36*q^18 - 1104*q^16 - 11091*q^14 - 3*(16384*bb_5_3_1 - 2049)*q^12 - 5*(32768*bb_5_3_1 - 11061)*q^10 - 3*(16384*bb_5_3_1 + 28871)*q^8 - 87225*q^6 - 6831*q^4 - 11745*q^2 - 5103)*sqrt(q))/(3*q^12 + 10*q^10 + 3*q^8)\n",
      " \n",
      "(11, 3, 2)\n",
      "-(3*aa_5_3_2*q^3 + 9*aa_5_3_2*q + 2*(3*bb_5_3_2*q^2 + bb_5_3_2)*sqrt(q))/(3*q^2 + 1)\n",
      " \n",
      "(12, 3, 3)\n",
      "-3/16384*(65536*aa_5_3_3*q^19 + 770048*aa_5_3_3*q^17 + 3096576*aa_5_3_3*q^15 + 4866048*aa_5_3_3*q^13 + 2211840*aa_5_3_3*q^11 + (864*q^22 + 8400*q^20 + 2*(98304*bb_5_3_3 + 9221)*q^18 + (1785856*bb_5_3_3 + 4115)*q^16 + 2*(2351104*bb_5_3_3 + 82091)*q^14 + 2*(1794048*bb_5_3_3 + 248561)*q^12 + 24*(30720*bb_5_3_3 + 7883)*q^10 + 440982*q^8 + 754470*q^6 + 579474*q^4 + 289170*q^2 + 54675)*sqrt(q))/(12*q^18 + 109*q^16 + 287*q^14 + 219*q^12 + 45*q^10)\n",
      " \n",
      "(13, 3, 4)\n",
      "-(3*aa_5_3_4*q^3 + 9*aa_5_3_4*q + 4*(3*bb_5_3_4*q^2 + bb_5_3_4)*sqrt(q))/(3*q^2 + 1)\n",
      " \n",
      "(14, 3, 5)\n",
      "-1/8192*(98304*aa_5_3_5*q^11 + 368640*aa_5_3_5*q^9 + 221184*aa_5_3_5*q^7 + (384*(1280*bb_5_3_5 + 9)*q^10 + 2*(266240*bb_5_3_5 + 4023)*q^8 + 3*(40960*bb_5_3_5 - 7727)*q^6 - 69*q^4 + 37557*q^2 + 11583)*sqrt(q))/(12*q^10 + 13*q^8 + 3*q^6)\n",
      " \n",
      "(15, 4, 1)\n",
      "-(16*aa_5_4_1*q^3 + 16*aa_5_4_1*q + (bb_5_4_1*q^4 + 6*bb_5_4_1*q^2 + bb_5_4_1)*sqrt(q))/(q^4 + 6*q^2 + 1)\n",
      " \n",
      "(16, 4, 2)\n",
      "-2*(8*aa_5_4_2*q^3 + 8*aa_5_4_2*q + (bb_5_4_2*q^4 + 6*bb_5_4_2*q^2 + bb_5_4_2)*sqrt(q))/(q^4 + 6*q^2 + 1)\n",
      " \n",
      "(17, 4, 3)\n",
      "-(16*aa_5_4_3*q^3 + 16*aa_5_4_3*q + 3*(bb_5_4_3*q^4 + 6*bb_5_4_3*q^2 + bb_5_4_3)*sqrt(q))/(q^4 + 6*q^2 + 1)\n",
      " \n",
      "(18, 4, 4)\n",
      "-4*(4*aa_5_4_4*q^3 + 4*aa_5_4_4*q + (bb_5_4_4*q^4 + 6*bb_5_4_4*q^2 + bb_5_4_4)*sqrt(q))/(q^4 + 6*q^2 + 1)\n",
      " \n",
      "(19, 4, 5)\n",
      "-(16*aa_5_4_5*q^3 + 16*aa_5_4_5*q + 5*(bb_5_4_5*q^4 + 6*bb_5_4_5*q^2 + bb_5_4_5)*sqrt(q))/(q^4 + 6*q^2 + 1)\n",
      " \n",
      "(20, 5, 1)\n",
      "-1/24576*(122880*aa_5_5_1*q^15 + 1597440*aa_5_5_1*q^13 + 4300800*aa_5_5_1*q^11 + 1843200*aa_5_5_1*q^9 - (5250*q^16 - 15*(8192*bb_5_5_1 - 4535)*q^14 - 75*(8192*bb_5_5_1 - 1449)*q^12 - (761856*bb_5_5_1 + 281695)*q^10 - (73728*bb_5_5_1 + 345785)*q^8 + 398155*q^6 + 130905*q^4 + 66555*q^2 + 6075)*sqrt(q))/(5*q^14 + 25*q^12 + 31*q^10 + 3*q^8)\n",
      " \n",
      "(21, 5, 2)\n",
      "-(5*aa_5_5_2*q^5 + 50*aa_5_5_2*q^3 + 25*aa_5_5_2*q + 2*(5*bb_5_5_2*q^4 + 10*bb_5_5_2*q^2 + bb_5_5_2)*sqrt(q))/(5*q^4 + 10*q^2 + 1)\n",
      " \n",
      "(22, 5, 3)\n",
      "-1/8192*(40960*aa_5_5_3*q^15 + 532480*aa_5_5_3*q^13 + 1433600*aa_5_5_3*q^11 + 614400*aa_5_5_3*q^9 + (1500*q^18 + 10500*q^16 + 15*(8192*bb_5_5_3 - 1865)*q^14 + 50*(12288*bb_5_5_3 - 3185)*q^12 + (761856*bb_5_5_3 + 47795)*q^10 + 12*(6144*bb_5_5_3 + 33205)*q^8 - 23605*q^6 - 169830*q^4 - 68355*q^2 - 5400)*sqrt(q))/(5*q^14 + 25*q^12 + 31*q^10 + 3*q^8)\n",
      " \n",
      "(23, 5, 4)\n",
      "-(5*aa_5_5_4*q^5 + 50*aa_5_5_4*q^3 + 25*aa_5_5_4*q + 4*(5*bb_5_5_4*q^4 + 10*bb_5_5_4*q^2 + bb_5_5_4)*sqrt(q))/(5*q^4 + 10*q^2 + 1)\n",
      " \n",
      "(24, 5, 5)\n",
      "-5/24576*(24576*aa_5_5_5*q^17 + 368640*aa_5_5_5*q^15 + 1351680*aa_5_5_5*q^13 + 614400*aa_5_5_5*q^11 + (30*(4096*bb_5_5_5 + 21)*q^16 + 15*(57344*bb_5_5_5 + 659)*q^14 + 32*(39168*bb_5_5_5 + 893)*q^12 + 5*(24576*bb_5_5_5 - 9295)*q^10 - 73440*q^8 + 106795*q^6 - 27396*q^4 - 42525*q^2 - 4050)*sqrt(q))/(5*q^16 + 35*q^14 + 51*q^12 + 5*q^10)\n",
      " \n"
     ]
    }
   ],
   "source": [
    "#obtain coefficients of double fourier series of the form a_kl*sin(kx)*sin(lt) using integration over domain\n",
    "counter_=0\n",
    "temp=0\n",
    "eq_ct_11=[0 for i in range(300)]\n",
    "for n1 in range(5+1):\n",
    "    for n2 in range (5+1):\n",
    "        temp=(integral(integral(eq_aa10_*sin(n1*x)*sin(n2*t)/pi^2,x,0,2*pi),t,0,2*pi)).simplify_full()\n",
    "        if temp!=0:\n",
    "            eq_ct_11[counter_]=temp\n",
    "            print(counter_,n1,n2)\n",
    "            print(temp)\n",
    "            print(\" \")\n",
    "            counter_=counter_+1\n",
    "        temp=(integral(integral(eq_aa10_*sin(n1*x)*cos(n2*t)/pi^2,x,0,2*pi),t,0,2*pi)).simplify_full()\n",
    "        if temp!=0:\n",
    "            eq_ct_11[counter_]=temp\n",
    "            print(counter_,n1,n2)\n",
    "            print(temp)\n",
    "            print(\" \")            \n",
    "            counter_=counter_+1\n",
    "        temp=(integral(integral(eq_aa10_*cos(n1*x)*sin(n2*t)/pi^2,x,0,2*pi),t,0,2*pi)).simplify_full()\n",
    "        if temp!=0:\n",
    "            eq_ct_11[counter_]=temp\n",
    "            print(counter_,n1,n2)\n",
    "            print(temp)\n",
    "            print(\" \")            \n",
    "            counter_=counter_+1\n",
    "        temp=(integral(integral(eq_aa10_*cos(n1*x)*cos(n2*t)/pi^2,x,0,2*pi),t,0,2*pi)).simplify_full()\n",
    "        if temp!=0:\n",
    "            eq_ct_11[counter_]=temp\n",
    "            print(counter_,n1,n2)\n",
    "            print(temp)\n",
    "            print(\" \")            \n",
    "            counter_=counter_+1\n",
    "eq_ct_12=[0 for i in range(counter_)]\n",
    "for i in range(counter_):\n",
    "    eq_ct_12[i]=eq_ct_11[i]"
   ]
  },
  {
   "cell_type": "code",
   "execution_count": 277,
   "metadata": {
    "collapsed": false,
    "deletable": true,
    "editable": true
   },
   "outputs": [
    {
     "data": {
      "text/plain": [
       "25"
      ]
     },
     "execution_count": 277,
     "metadata": {},
     "output_type": "execute_result"
    }
   ],
   "source": [
    "len(eq_ct_12)"
   ]
  },
  {
   "cell_type": "code",
   "execution_count": 278,
   "metadata": {
    "collapsed": false,
    "deletable": true,
    "editable": true
   },
   "outputs": [],
   "source": [
    "#eq_ct_12"
   ]
  },
  {
   "cell_type": "code",
   "execution_count": 279,
   "metadata": {
    "collapsed": true,
    "deletable": true,
    "editable": true
   },
   "outputs": [],
   "source": [
    "#######################                dynamic BC order 5           ############################"
   ]
  },
  {
   "cell_type": "code",
   "execution_count": 280,
   "metadata": {
    "collapsed": true,
    "deletable": true,
    "editable": true
   },
   "outputs": [],
   "source": [
    "eq_aa30=f_phi_t(x,t,5)+1/2*(f_u(x,t,4)^2+f_w(x,t,4)^2)+f_eta(x,t,5)-fB(5)"
   ]
  },
  {
   "cell_type": "code",
   "execution_count": 281,
   "metadata": {
    "collapsed": false,
    "deletable": true,
    "editable": true
   },
   "outputs": [
    {
     "name": "stdout",
     "output_type": "stream",
     "text": [
      "5\n",
      "6\n",
      "7\n",
      "8\n",
      "9\n",
      "10\n",
      "11\n",
      "12\n",
      "13\n",
      "14\n"
     ]
    }
   ],
   "source": [
    "eq_aa31=eq_aa30.simplify_full().coefficients(eps)\n",
    "for i in range(len(eq_aa31)):\n",
    "    print(eq_aa31[i][1])"
   ]
  },
  {
   "cell_type": "code",
   "execution_count": 282,
   "metadata": {
    "collapsed": false,
    "deletable": true,
    "editable": true
   },
   "outputs": [
    {
     "data": {
      "text/plain": [
       "aa_5_5_5"
      ]
     },
     "execution_count": 282,
     "metadata": {},
     "output_type": "execute_result"
    }
   ],
   "source": [
    "#eq_aa31[0][0]\n",
    "A[5][5][5]"
   ]
  },
  {
   "cell_type": "code",
   "execution_count": 283,
   "metadata": {
    "collapsed": true,
    "deletable": true,
    "editable": true
   },
   "outputs": [],
   "source": [
    "eq_aa32=eq_aa31[0][0].trig_reduce().simplify()"
   ]
  },
  {
   "cell_type": "code",
   "execution_count": 284,
   "metadata": {
    "collapsed": false,
    "deletable": true,
    "editable": true
   },
   "outputs": [],
   "source": [
    "eq_aa32_1=eq_aa32.simplify_full()"
   ]
  },
  {
   "cell_type": "code",
   "execution_count": 285,
   "metadata": {
    "collapsed": false,
    "deletable": true,
    "editable": true
   },
   "outputs": [],
   "source": [
    "eq_aa32_2=eq_aa32_1.trig_reduce()"
   ]
  },
  {
   "cell_type": "code",
   "execution_count": 286,
   "metadata": {
    "collapsed": false,
    "deletable": true,
    "editable": true
   },
   "outputs": [
    {
     "name": "stdout",
     "output_type": "stream",
     "text": [
      "(1, 0, 0, 4)\n",
      "-4*dd_5\n",
      " \n",
      "(2, 0, 1, 4)\n",
      "2*pi^2*aa_5_0_1*sqrt(q)\n",
      " \n",
      "(3, 0, 2, 4)\n",
      "4*aa_5_0_2*sqrt(q)\n",
      " \n",
      "(4, 0, 3, 4)\n",
      "6*aa_5_0_3*sqrt(q)\n",
      " \n",
      "(5, 0, 4, 4)\n",
      "8*aa_5_0_4*sqrt(q)\n",
      " \n",
      "(6, 0, 5, 4)\n",
      "10*aa_5_0_5*sqrt(q)\n",
      " \n",
      "(7, 1, 0, 4)\n",
      "2*bb_5_1_0\n",
      " \n",
      "(8, 1, 1, 4)\n",
      "-1/49152*(36*q^16 - 696*q^14 - 3135*q^12 - 3*(16384*bb_5_1_1 + 1187)*q^10 + 3957*q^8 - 1418*q^6 - 5697*q^4 + 27*q^2 - 49152*(aa_5_1_1*q^10 - cc_5*q^9)*sqrt(q) + 567)/q^10\n",
      " \n",
      "(9, 1, 2, 4)\n",
      "2*aa_5_1_2*sqrt(q) + bb_5_1_2\n",
      " \n",
      "(10, 1, 3, 4)\n",
      "-1/49152*(576*q^16 - 17160*q^14 - 6*(32768*bb_5_1_3 + 8473)*q^12 - (147456*bb_5_1_3 - 529)*q^10 - 17054*q^8 - 70968*q^6 - 34830*q^4 - 51597*q^2 - 147456*(4*aa_5_1_3*q^12 + 3*aa_5_1_3*q^10)*sqrt(q) - 5346)/(4*q^12 + 3*q^10)\n",
      " \n",
      "(11, 1, 4, 4)\n",
      "4*aa_5_1_4*sqrt(q) + bb_5_1_4\n",
      " \n",
      "(12, 1, 5, 4)\n",
      "1/24576*(12*(8192*bb_5_1_5 + 285)*q^12 + 12*(6144*bb_5_1_5 + 37)*q^10 - 20267*q^8 + 65043*q^6 - 594*q^4 - 14661*q^2 + 122880*(4*aa_5_1_5*q^12 + 3*aa_5_1_5*q^10)*sqrt(q) - 729)/(4*q^12 + 3*q^10)\n",
      " \n",
      "(13, 2, 0, 4)\n",
      "2*bb_5_2_0\n",
      " \n",
      "(14, 2, 1, 4)\n",
      "aa_5_2_1*sqrt(q) + bb_5_2_1\n",
      " \n",
      "(15, 2, 2, 4)\n",
      "2*aa_5_2_2*sqrt(q) + bb_5_2_2\n",
      " \n",
      "(16, 2, 3, 4)\n",
      "3*aa_5_2_3*sqrt(q) + bb_5_2_3\n",
      " \n",
      "(17, 2, 4, 4)\n",
      "4*aa_5_2_4*sqrt(q) + bb_5_2_4\n",
      " \n",
      "(18, 2, 5, 4)\n",
      "5*aa_5_2_5*sqrt(q) + bb_5_2_5\n",
      " \n",
      "(19, 3, 0, 4)\n",
      "2*bb_5_3_0\n",
      " \n",
      "(20, 3, 1, 4)\n",
      "-1/16384*(12*q^18 - 444*q^16 + 407*q^14 - 2*(8192*bb_5_3_1 + 745)*q^12 - 3*(16384*bb_5_3_1 + 3955)*q^10 + 9670*q^8 - 8863*q^6 - 2178*q^4 - 8235*q^2 - 16384*(aa_5_3_1*q^12 + 3*aa_5_3_1*q^10)*sqrt(q) - 1782)/(q^12 + 3*q^10)\n",
      " \n",
      "(21, 3, 2, 4)\n",
      "2*aa_5_3_2*sqrt(q) + bb_5_3_2\n",
      " \n",
      "(22, 3, 3, 4)\n",
      "1/16384*(3888*q^20 + 10116*q^18 + 4*(16384*bb_5_3_3 - 22155)*q^16 + (573440*bb_5_3_3 - 150909)*q^14 + 3*(458752*bb_5_3_3 + 114433)*q^12 + 9*(81920*bb_5_3_3 + 27899)*q^10 + 46653*q^8 + 443349*q^6 + 247617*q^4 + 49329*q^2 + 49152*(4*aa_5_3_3*q^16 + 35*aa_5_3_3*q^14 + 84*aa_5_3_3*q^12 + 45*aa_5_3_3*q^10)*sqrt(q) - 32805)/(4*q^16 + 35*q^14 + 84*q^12 + 45*q^10)\n",
      " \n",
      "(23, 3, 4, 4)\n",
      "4*aa_5_3_4*sqrt(q) + bb_5_3_4\n",
      " \n",
      "(24, 3, 5, 4)\n",
      "1/8192*(64*(512*bb_5_3_5 + 85)*q^14 + (188416*bb_5_3_5 + 24153)*q^12 + 6*(20480*bb_5_3_5 - 6609)*q^10 - 65737*q^8 + 101861*q^6 + 1494*q^4 - 20547*q^2 + 40960*(4*aa_5_3_5*q^14 + 23*aa_5_3_5*q^12 + 15*aa_5_3_5*q^10)*sqrt(q) - 810)/(4*q^14 + 23*q^12 + 15*q^10)\n",
      " \n",
      "(25, 4, 0, 4)\n",
      "2*bb_5_4_0\n",
      " \n",
      "(26, 4, 1, 4)\n",
      "aa_5_4_1*sqrt(q) + bb_5_4_1\n",
      " \n",
      "(27, 4, 2, 4)\n",
      "2*aa_5_4_2*sqrt(q) + bb_5_4_2\n",
      " \n",
      "(28, 4, 3, 4)\n",
      "3*aa_5_4_3*sqrt(q) + bb_5_4_3\n",
      " \n",
      "(29, 4, 4, 4)\n",
      "4*aa_5_4_4*sqrt(q) + bb_5_4_4\n",
      " \n",
      "(30, 4, 5, 4)\n",
      "5*aa_5_4_5*sqrt(q) + bb_5_4_5\n",
      " \n",
      "(31, 5, 0, 4)\n",
      "2*bb_5_5_0\n",
      " \n",
      "(32, 5, 1, 4)\n",
      "-1/24576*(108*q^18 - 432*q^16 + 1095*q^14 - 12*(2048*bb_5_5_1 - 889)*q^12 - 24*(3072*bb_5_5_1 + 247)*q^10 - 31571*q^8 + 19647*q^6 + 9126*q^4 + 6318*q^2 - 24576*(aa_5_5_1*q^12 + 3*aa_5_5_1*q^10)*sqrt(q) + 729)/(q^12 + 3*q^10)\n",
      " \n",
      "(33, 5, 2, 4)\n",
      "2*aa_5_5_2*sqrt(q) + bb_5_5_2\n",
      " \n",
      "(34, 5, 3, 4)\n",
      "1/24576*(2358*q^18 + 7563*q^16 + 48*(512*bb_5_5_3 - 945)*q^14 + 2*(98304*bb_5_5_3 - 45605)*q^12 + 3*(122880*bb_5_5_3 + 60683)*q^10 + 133225*q^8 - 178194*q^6 + 27540*q^4 - 34101*q^2 + 73728*(aa_5_5_3*q^14 + 8*aa_5_5_3*q^12 + 15*aa_5_5_3*q^10)*sqrt(q) - 2430)/(q^14 + 8*q^12 + 15*q^10)\n",
      " \n",
      "(35, 5, 4, 4)\n",
      "4*aa_5_5_4*sqrt(q) + bb_5_5_4\n",
      " \n",
      "(36, 5, 5, 4)\n",
      "1/24576*(3*(8192*bb_5_5_5 + 1125)*q^12 + 15*(8192*bb_5_5_5 + 995)*q^10 - 26095*q^8 - 32960*q^6 + 73395*q^4 - 37665*q^2 + 122880*(aa_5_5_5*q^12 + 5*aa_5_5_5*q^10)*sqrt(q) + 2025)/(q^12 + 5*q^10)\n",
      " \n"
     ]
    }
   ],
   "source": [
    "#obtain coefficients of double fourier series of the form a_kl*sin(kx)*sin(lt) using integration over domain\n",
    "counter_=0\n",
    "temp=0\n",
    "eq_aa33=[0 for i in range(300)]\n",
    "for n1 in range(5+1):\n",
    "    for n2 in range (5+1):\n",
    "        \n",
    "        if n1!=0 or n2!=0:\n",
    "            temp=integral(integral(eq_aa32_1*sin(n1*x)*sin(n2*t)/pi^2,x,0,2*pi),t,0,2*pi)\n",
    "        if temp!=0:\n",
    "            eq_aa33[counter_]=temp.simplify_full()\n",
    "            counter_=counter_+1\n",
    "            print(counter_,n1,n2,1)\n",
    "            print(eq_aa33[counter_-1])\n",
    "            print(\" \")\n",
    "        if n1!=0:\n",
    "            temp=integral(integral(eq_aa32_1*sin(n1*x)*cos(n2*t)/pi^2,x,0,2*pi),t,0,2*pi)\n",
    "        if temp!=0:\n",
    "            eq_aa33[counter_]=temp.simplify_full()\n",
    "            counter_=counter_+1\n",
    "            print(counter_,n1,n2,2)\n",
    "            print(eq_aa33[counter_-1])\n",
    "            print(\" \")\n",
    "        if n2!=0:\n",
    "            temp=integral(integral(eq_aa32_1*cos(n1*x)*sin(n2*t)/pi^2,x,0,2*pi),t,0,2*pi)\n",
    "        if temp!=0:\n",
    "            eq_aa33[counter_]=temp.simplify_full()\n",
    "            counter_=counter_+1\n",
    "            print(counter_,n1,n2,3)\n",
    "            print(eq_aa33[counter_-1])\n",
    "            print(\" \")   \n",
    "        if n1==0 and n2==1:\n",
    "            temp=integral(integral(eq_aa32_2,x,0,2*pi)*cos(t),t,0,2*pi)\n",
    "        else:\n",
    "            temp=integral(integral(eq_aa32_1*cos(n1*x)*cos(n2*t)/pi^2,x,0,2*pi),t,0,2*pi)\n",
    "        if temp!=0:\n",
    "            eq_aa33[counter_]=temp.simplify_full()\n",
    "            counter_=counter_+1\n",
    "            print(counter_,n1,n2,4)\n",
    "            print(eq_aa33[counter_-1])\n",
    "            print(\" \")            \n",
    "eq_aa_34=[0 for i in range(counter_)]\n",
    "for i in range(counter_):\n",
    "    eq_aa_34[i]=eq_aa33[i]"
   ]
  },
  {
   "cell_type": "code",
   "execution_count": 287,
   "metadata": {
    "collapsed": false,
    "deletable": true,
    "editable": true
   },
   "outputs": [
    {
     "data": {
      "text/plain": [
       "36"
      ]
     },
     "execution_count": 287,
     "metadata": {},
     "output_type": "execute_result"
    }
   ],
   "source": [
    "len(eq_aa_34)"
   ]
  },
  {
   "cell_type": "code",
   "execution_count": 288,
   "metadata": {
    "collapsed": false,
    "deletable": true,
    "editable": true
   },
   "outputs": [
    {
     "data": {
      "text/plain": [
       "[-4*dd_5,\n",
       " 2*pi^2*aa_5_0_1*sqrt(q),\n",
       " 4*aa_5_0_2*sqrt(q),\n",
       " 6*aa_5_0_3*sqrt(q),\n",
       " 8*aa_5_0_4*sqrt(q),\n",
       " 10*aa_5_0_5*sqrt(q),\n",
       " 2*bb_5_1_0,\n",
       " -1/49152*(36*q^16 - 696*q^14 - 3135*q^12 - 3*(16384*bb_5_1_1 + 1187)*q^10 + 3957*q^8 - 1418*q^6 - 5697*q^4 + 27*q^2 - 49152*(aa_5_1_1*q^10 - cc_5*q^9)*sqrt(q) + 567)/q^10,\n",
       " 2*aa_5_1_2*sqrt(q) + bb_5_1_2,\n",
       " -1/49152*(576*q^16 - 17160*q^14 - 6*(32768*bb_5_1_3 + 8473)*q^12 - (147456*bb_5_1_3 - 529)*q^10 - 17054*q^8 - 70968*q^6 - 34830*q^4 - 51597*q^2 - 147456*(4*aa_5_1_3*q^12 + 3*aa_5_1_3*q^10)*sqrt(q) - 5346)/(4*q^12 + 3*q^10),\n",
       " 4*aa_5_1_4*sqrt(q) + bb_5_1_4,\n",
       " 1/24576*(12*(8192*bb_5_1_5 + 285)*q^12 + 12*(6144*bb_5_1_5 + 37)*q^10 - 20267*q^8 + 65043*q^6 - 594*q^4 - 14661*q^2 + 122880*(4*aa_5_1_5*q^12 + 3*aa_5_1_5*q^10)*sqrt(q) - 729)/(4*q^12 + 3*q^10),\n",
       " 2*bb_5_2_0,\n",
       " aa_5_2_1*sqrt(q) + bb_5_2_1,\n",
       " 2*aa_5_2_2*sqrt(q) + bb_5_2_2,\n",
       " 3*aa_5_2_3*sqrt(q) + bb_5_2_3,\n",
       " 4*aa_5_2_4*sqrt(q) + bb_5_2_4,\n",
       " 5*aa_5_2_5*sqrt(q) + bb_5_2_5,\n",
       " 2*bb_5_3_0,\n",
       " -1/16384*(12*q^18 - 444*q^16 + 407*q^14 - 2*(8192*bb_5_3_1 + 745)*q^12 - 3*(16384*bb_5_3_1 + 3955)*q^10 + 9670*q^8 - 8863*q^6 - 2178*q^4 - 8235*q^2 - 16384*(aa_5_3_1*q^12 + 3*aa_5_3_1*q^10)*sqrt(q) - 1782)/(q^12 + 3*q^10),\n",
       " 2*aa_5_3_2*sqrt(q) + bb_5_3_2,\n",
       " 1/16384*(3888*q^20 + 10116*q^18 + 4*(16384*bb_5_3_3 - 22155)*q^16 + (573440*bb_5_3_3 - 150909)*q^14 + 3*(458752*bb_5_3_3 + 114433)*q^12 + 9*(81920*bb_5_3_3 + 27899)*q^10 + 46653*q^8 + 443349*q^6 + 247617*q^4 + 49329*q^2 + 49152*(4*aa_5_3_3*q^16 + 35*aa_5_3_3*q^14 + 84*aa_5_3_3*q^12 + 45*aa_5_3_3*q^10)*sqrt(q) - 32805)/(4*q^16 + 35*q^14 + 84*q^12 + 45*q^10),\n",
       " 4*aa_5_3_4*sqrt(q) + bb_5_3_4,\n",
       " 1/8192*(64*(512*bb_5_3_5 + 85)*q^14 + (188416*bb_5_3_5 + 24153)*q^12 + 6*(20480*bb_5_3_5 - 6609)*q^10 - 65737*q^8 + 101861*q^6 + 1494*q^4 - 20547*q^2 + 40960*(4*aa_5_3_5*q^14 + 23*aa_5_3_5*q^12 + 15*aa_5_3_5*q^10)*sqrt(q) - 810)/(4*q^14 + 23*q^12 + 15*q^10),\n",
       " 2*bb_5_4_0,\n",
       " aa_5_4_1*sqrt(q) + bb_5_4_1,\n",
       " 2*aa_5_4_2*sqrt(q) + bb_5_4_2,\n",
       " 3*aa_5_4_3*sqrt(q) + bb_5_4_3,\n",
       " 4*aa_5_4_4*sqrt(q) + bb_5_4_4,\n",
       " 5*aa_5_4_5*sqrt(q) + bb_5_4_5,\n",
       " 2*bb_5_5_0,\n",
       " -1/24576*(108*q^18 - 432*q^16 + 1095*q^14 - 12*(2048*bb_5_5_1 - 889)*q^12 - 24*(3072*bb_5_5_1 + 247)*q^10 - 31571*q^8 + 19647*q^6 + 9126*q^4 + 6318*q^2 - 24576*(aa_5_5_1*q^12 + 3*aa_5_5_1*q^10)*sqrt(q) + 729)/(q^12 + 3*q^10),\n",
       " 2*aa_5_5_2*sqrt(q) + bb_5_5_2,\n",
       " 1/24576*(2358*q^18 + 7563*q^16 + 48*(512*bb_5_5_3 - 945)*q^14 + 2*(98304*bb_5_5_3 - 45605)*q^12 + 3*(122880*bb_5_5_3 + 60683)*q^10 + 133225*q^8 - 178194*q^6 + 27540*q^4 - 34101*q^2 + 73728*(aa_5_5_3*q^14 + 8*aa_5_5_3*q^12 + 15*aa_5_5_3*q^10)*sqrt(q) - 2430)/(q^14 + 8*q^12 + 15*q^10),\n",
       " 4*aa_5_5_4*sqrt(q) + bb_5_5_4,\n",
       " 1/24576*(3*(8192*bb_5_5_5 + 1125)*q^12 + 15*(8192*bb_5_5_5 + 995)*q^10 - 26095*q^8 - 32960*q^6 + 73395*q^4 - 37665*q^2 + 122880*(aa_5_5_5*q^12 + 5*aa_5_5_5*q^10)*sqrt(q) + 2025)/(q^12 + 5*q^10)]"
      ]
     },
     "execution_count": 288,
     "metadata": {},
     "output_type": "execute_result"
    }
   ],
   "source": [
    "eq_aa_34"
   ]
  },
  {
   "cell_type": "code",
   "execution_count": 289,
   "metadata": {
    "collapsed": true,
    "deletable": true,
    "editable": true
   },
   "outputs": [],
   "source": [
    "#######################                combine BCs-O5           ############################"
   ]
  },
  {
   "cell_type": "code",
   "execution_count": 290,
   "metadata": {
    "collapsed": false,
    "deletable": true,
    "editable": true
   },
   "outputs": [],
   "source": [
    "counter_=0\n",
    "eq_order=[0 for i in range(len(eq_ct_12)+len(eq_aa_34)+2)]\n",
    "eq_order[0]=eq_aa20\n",
    "eq_order[0]=eq_aa21\n",
    "for i in range(len(eq_ct_12)):\n",
    "    eq_order[i+2]=eq_ct_12[i]\n",
    "for i in range(len(eq_aa_34)):\n",
    "    eq_order[i+2+len(eq_ct_12)]=eq_aa_34[i]"
   ]
  },
  {
   "cell_type": "code",
   "execution_count": 291,
   "metadata": {
    "collapsed": false,
    "deletable": true,
    "editable": true
   },
   "outputs": [
    {
     "data": {
      "text/plain": [
       "63"
      ]
     },
     "execution_count": 291,
     "metadata": {},
     "output_type": "execute_result"
    }
   ],
   "source": [
    "#eq_order\n",
    "len(eq_order)"
   ]
  },
  {
   "cell_type": "code",
   "execution_count": null,
   "metadata": {
    "collapsed": false,
    "deletable": true,
    "editable": true
   },
   "outputs": [],
   "source": []
  },
  {
   "cell_type": "code",
   "execution_count": 292,
   "metadata": {
    "collapsed": true,
    "deletable": true,
    "editable": true
   },
   "outputs": [],
   "source": [
    "#######################                list of vars-O5         ############################"
   ]
  },
  {
   "cell_type": "code",
   "execution_count": 293,
   "metadata": {
    "collapsed": true,
    "deletable": true,
    "editable": true
   },
   "outputs": [],
   "source": [
    "#flattening the equations to remove the list property to be able to extract variable names\n",
    "eps1=var('eps1')\n",
    "temp=0\n",
    "for i in range(len(eq_order)):\n",
    "    temp=temp+eq_order[i]*eps1^i"
   ]
  },
  {
   "cell_type": "code",
   "execution_count": 294,
   "metadata": {
    "collapsed": true,
    "deletable": true,
    "editable": true
   },
   "outputs": [],
   "source": [
    "list_var=temp.variables()"
   ]
  },
  {
   "cell_type": "code",
   "execution_count": 295,
   "metadata": {
    "collapsed": false,
    "deletable": true,
    "editable": true
   },
   "outputs": [
    {
     "data": {
      "text/plain": [
       "64"
      ]
     },
     "execution_count": 295,
     "metadata": {},
     "output_type": "execute_result"
    }
   ],
   "source": [
    "len(list_var)"
   ]
  },
  {
   "cell_type": "code",
   "execution_count": 296,
   "metadata": {
    "collapsed": true,
    "deletable": true,
    "editable": true
   },
   "outputs": [],
   "source": [
    "list_var2=[0 for i in range(len(list_var)-2)]"
   ]
  },
  {
   "cell_type": "code",
   "execution_count": 297,
   "metadata": {
    "collapsed": true,
    "deletable": true,
    "editable": true
   },
   "outputs": [],
   "source": [
    "#copy variable list, leave out eps1 & q\n",
    "ii=var('ii')\n",
    "ii=0\n",
    "for i in range(len(list_var)):\n",
    "    if list_var[i]!=eps1 and list_var[i]!=q:\n",
    "        list_var2[ii]=list_var[i]\n",
    "        ii=ii+1"
   ]
  },
  {
   "cell_type": "code",
   "execution_count": 298,
   "metadata": {
    "collapsed": false,
    "deletable": true,
    "editable": true
   },
   "outputs": [
    {
     "data": {
      "text/plain": [
       "([aa_5_0_1,\n",
       "  aa_5_0_2,\n",
       "  aa_5_0_3,\n",
       "  aa_5_0_4,\n",
       "  aa_5_0_5,\n",
       "  aa_5_1_1,\n",
       "  aa_5_1_2,\n",
       "  aa_5_1_3,\n",
       "  aa_5_1_4,\n",
       "  aa_5_1_5,\n",
       "  aa_5_2_1,\n",
       "  aa_5_2_2,\n",
       "  aa_5_2_3,\n",
       "  aa_5_2_4,\n",
       "  aa_5_2_5,\n",
       "  aa_5_3_1,\n",
       "  aa_5_3_2,\n",
       "  aa_5_3_3,\n",
       "  aa_5_3_4,\n",
       "  aa_5_3_5,\n",
       "  aa_5_4_1,\n",
       "  aa_5_4_2,\n",
       "  aa_5_4_3,\n",
       "  aa_5_4_4,\n",
       "  aa_5_4_5,\n",
       "  aa_5_5_1,\n",
       "  aa_5_5_2,\n",
       "  aa_5_5_3,\n",
       "  aa_5_5_4,\n",
       "  aa_5_5_5,\n",
       "  bb_5_1_0,\n",
       "  bb_5_1_1,\n",
       "  bb_5_1_2,\n",
       "  bb_5_1_3,\n",
       "  bb_5_1_4,\n",
       "  bb_5_1_5,\n",
       "  bb_5_2_0,\n",
       "  bb_5_2_1,\n",
       "  bb_5_2_2,\n",
       "  bb_5_2_3,\n",
       "  bb_5_2_4,\n",
       "  bb_5_2_5,\n",
       "  bb_5_3_0,\n",
       "  bb_5_3_1,\n",
       "  bb_5_3_2,\n",
       "  bb_5_3_3,\n",
       "  bb_5_3_4,\n",
       "  bb_5_3_5,\n",
       "  bb_5_4_0,\n",
       "  bb_5_4_1,\n",
       "  bb_5_4_2,\n",
       "  bb_5_4_3,\n",
       "  bb_5_4_4,\n",
       "  bb_5_4_5,\n",
       "  bb_5_5_0,\n",
       "  bb_5_5_1,\n",
       "  bb_5_5_2,\n",
       "  bb_5_5_3,\n",
       "  bb_5_5_4,\n",
       "  bb_5_5_5,\n",
       "  cc_5,\n",
       "  dd_5],\n",
       " 62,\n",
       " 63)"
      ]
     },
     "execution_count": 298,
     "metadata": {},
     "output_type": "execute_result"
    }
   ],
   "source": [
    "list_var2,len(list_var2),len(eq_order)"
   ]
  },
  {
   "cell_type": "code",
   "execution_count": 299,
   "metadata": {
    "collapsed": false,
    "deletable": true,
    "editable": true
   },
   "outputs": [],
   "source": [
    "sol=solve(eq_order,list_var2)[0][:]"
   ]
  },
  {
   "cell_type": "code",
   "execution_count": 300,
   "metadata": {
    "collapsed": false,
    "deletable": true,
    "editable": true
   },
   "outputs": [
    {
     "name": "stdout",
     "output_type": "stream",
     "text": [
      "('A', 5, 0, 1, 0)\n",
      "('A', 5, 0, 2, 0)\n",
      "('A', 5, 0, 3, 0)\n",
      "('A', 5, 0, 4, 0)\n",
      "('A', 5, 0, 5, 0)\n",
      "('A', 5, 1, 1, 1/65536*(97200*q^34 + 969300*q^32 + 10312920*q^30 + 40437585*q^28 - 99942680*q^26 - 718547767*q^24 - 1053139982*q^22 - 468613281*q^20 - 625150182*q^18 - 1543359636*q^16 - 1317006294*q^14 - 610724583*q^12 - 538477502*q^10 - 434987253*q^8 - 119464668*q^6 + 24483303*q^4 + 17432820*q^2 + 2259900)*sqrt(q)/(2700*q^27 + 24945*q^25 + 73990*q^23 + 93072*q^21 + 46690*q^19 + 1267*q^17 - 5220*q^15 - 900*q^13))\n",
      "('A', 5, 1, 1, 1/65536*(97200*q^34 + 969300*q^32 + 10312920*q^30 + 40437585*q^28 - 99942680*q^26 - 718547767*q^24 - 1053139982*q^22 - 468613281*q^20 - 625150182*q^18 - 1543359636*q^16 - 1317006294*q^14 - 610724583*q^12 - 538477502*q^10 - 434987253*q^8 - 119464668*q^6 + 24483303*q^4 + 17432820*q^2 + 2259900)*sqrt(q)/(2700*q^27 + 24945*q^25 + 73990*q^23 + 93072*q^21 + 46690*q^19 + 1267*q^17 - 5220*q^15 - 900*q^13))\n",
      "('A', 5, 1, 2, 0)\n",
      "('A', 5, 1, 3, 1/65536*(192*q^16 - 8536*q^14 - 24494*q^12 - 2281*q^10 - 7833*q^8 - 34170*q^6 - 16344*q^4 - 25461*q^2 - 2673)*sqrt(q)/(4*q^13 + 3*q^11))\n",
      "('A', 5, 1, 3, 1/65536*(192*q^16 - 8536*q^14 - 24494*q^12 - 2281*q^10 - 7833*q^8 - 34170*q^6 - 16344*q^4 - 25461*q^2 - 2673)*sqrt(q)/(4*q^13 + 3*q^11))\n",
      "('A', 5, 1, 4, 0)\n",
      "('A', 5, 1, 5, -1/65536*(1828*q^12 + 352*q^10 - 10757*q^8 + 35788*q^6 - 594*q^4 - 8100*q^2 - 405)*sqrt(q)/(4*q^13 + 3*q^11))\n",
      "('A', 5, 1, 5, -1/65536*(1828*q^12 + 352*q^10 - 10757*q^8 + 35788*q^6 - 594*q^4 - 8100*q^2 - 405)*sqrt(q)/(4*q^13 + 3*q^11))\n",
      "('A', 5, 2, 1, 0)\n",
      "('A', 5, 2, 2, 0)\n",
      "('A', 5, 2, 3, 0)\n",
      "('A', 5, 2, 4, 0)\n",
      "('A', 5, 2, 5, 0)\n",
      "('A', 5, 3, 1, 1/65536*(108*q^18 - 5934*q^16 + 5105*q^14 + 46195*q^12 - 51879*q^10 - 35153*q^8 + 4283*q^6 + 7569*q^4 + 4239*q^2 + 891)*sqrt(q)/(q^13 + 3*q^11))\n",
      "('A', 5, 3, 1, 1/65536*(108*q^18 - 5934*q^16 + 5105*q^14 + 46195*q^12 - 51879*q^10 - 35153*q^8 + 4283*q^6 + 7569*q^4 + 4239*q^2 + 891)*sqrt(q)/(q^13 + 3*q^11))\n",
      "('A', 5, 3, 2, 0)\n",
      "('A', 5, 3, 3, -1/65536*(5400*q^22 + 12918*q^20 - 137093*q^18 - 272731*q^16 + 357403*q^14 + 299725*q^12 + 100929*q^10 + 467859*q^8 + 215865*q^6 - 91935*q^4 - 169128*q^2 - 43740)*sqrt(q)/(4*q^19 + 35*q^17 + 84*q^15 + 45*q^13))\n",
      "('A', 5, 3, 3, -1/65536*(5400*q^22 + 12918*q^20 - 137093*q^18 - 272731*q^16 + 357403*q^14 + 299725*q^12 + 100929*q^10 + 467859*q^8 + 215865*q^6 - 91935*q^4 - 169128*q^2 - 43740)*sqrt(q)/(4*q^19 + 35*q^17 + 84*q^15 + 45*q^13))\n",
      "('A', 5, 3, 4, 0)\n",
      "('A', 5, 3, 5, -1/65536*(78144*q^16 + 364169*q^14 - 491094*q^12 - 1068351*q^10 + 1162018*q^8 + 332347*q^6 - 358650*q^4 - 114885*q^2 - 4050)*sqrt(q)/(36*q^17 + 215*q^15 + 181*q^13 + 30*q^11))\n",
      "('A', 5, 3, 5, -1/65536*(78144*q^16 + 364169*q^14 - 491094*q^12 - 1068351*q^10 + 1162018*q^8 + 332347*q^6 - 358650*q^4 - 114885*q^2 - 4050)*sqrt(q)/(36*q^17 + 215*q^15 + 181*q^13 + 30*q^11))\n",
      "('A', 5, 4, 1, 0)\n",
      "('A', 5, 4, 2, 0)\n",
      "('A', 5, 4, 3, 0)\n",
      "('A', 5, 4, 4, 0)\n",
      "('A', 5, 4, 5, 0)\n",
      "('A', 5, 5, 1, -1/65536*(180*q^22 - 360*q^20 - 1329*q^18 - 1389*q^16 - 10180*q^14 + 25076*q^12 + 40794*q^10 - 62542*q^8 + 3864*q^6 + 3132*q^4 + 2511*q^2 + 243)*sqrt(q)/(5*q^15 + 18*q^13 + 9*q^11))\n",
      "('A', 5, 5, 1, -1/65536*(180*q^22 - 360*q^20 - 1329*q^18 - 1389*q^16 - 10180*q^14 + 25076*q^12 + 40794*q^10 - 62542*q^8 + 3864*q^6 + 3132*q^4 + 2511*q^2 + 243)*sqrt(q)/(5*q^15 + 18*q^13 + 9*q^11))\n",
      "('A', 5, 5, 2, 0)\n",
      "('A', 5, 5, 3, -1/65536*(10290*q^22 + 43395*q^20 - 173337*q^18 - 602962*q^16 + 701240*q^14 + 1757970*q^12 - 1345366*q^10 - 1223160*q^8 + 844206*q^6 + 21555*q^4 - 31401*q^2 - 2430)*sqrt(q)/(5*q^19 + 45*q^17 + 113*q^15 + 59*q^13 - 30*q^11))\n",
      "('A', 5, 5, 3, -1/65536*(10290*q^22 + 43395*q^20 - 173337*q^18 - 602962*q^16 + 701240*q^14 + 1757970*q^12 - 1345366*q^10 - 1223160*q^8 + 844206*q^6 + 21555*q^4 - 31401*q^2 - 2430)*sqrt(q)/(5*q^19 + 45*q^17 + 113*q^15 + 59*q^13 - 30*q^11))\n",
      "('A', 5, 5, 4, 0)\n",
      "('A', 5, 5, 5, -1/65536*(5415*q^16 + 32830*q^14 - 2142*q^12 - 121450*q^10 + 28240*q^8 + 135290*q^6 - 88578*q^4 + 8370*q^2 + 2025)*sqrt(q)/(3*q^17 + 20*q^15 + 25*q^13))\n",
      "('A', 5, 5, 5, -1/65536*(5415*q^16 + 32830*q^14 - 2142*q^12 - 121450*q^10 + 28240*q^8 + 135290*q^6 - 88578*q^4 + 8370*q^2 + 2025)*sqrt(q)/(3*q^17 + 20*q^15 + 25*q^13))\n",
      "('B', 5, 1, 0, 0)\n",
      "('B', 5, 1, 1, -1/196608*(291600*q^34 + 2907900*q^32 + 32753160*q^30 + 149869395*q^28 - 96175800*q^26 - 1388122677*q^24 - 1816814730*q^22 - 673012947*q^20 - 2204709010*q^18 - 4183229964*q^16 - 2019366082*q^14 - 127366501*q^12 - 1024292202*q^10 - 1272297663*q^8 - 404176500*q^6 + 54476469*q^4 + 49965660*q^2 + 6779700)/(2700*q^26 + 24945*q^24 + 73990*q^22 + 93072*q^20 + 46690*q^18 + 1267*q^16 - 5220*q^14 - 900*q^12))\n",
      "('B', 5, 1, 1, -1/196608*(291600*q^34 + 2907900*q^32 + 32753160*q^30 + 149869395*q^28 - 96175800*q^26 - 1388122677*q^24 - 1816814730*q^22 - 673012947*q^20 - 2204709010*q^18 - 4183229964*q^16 - 2019366082*q^14 - 127366501*q^12 - 1024292202*q^10 - 1272297663*q^8 - 404176500*q^6 + 54476469*q^4 + 49965660*q^2 + 6779700)/(2700*q^26 + 24945*q^24 + 73990*q^22 + 93072*q^20 + 46690*q^18 + 1267*q^16 - 5220*q^14 - 900*q^12))\n",
      "('B', 5, 1, 2, 0)\n",
      "('B', 5, 1, 3, 1/196608*(576*q^16 + 8184*q^14 + 17094*q^12 + 22645*q^10 + 2281*q^8 + 23658*q^6 + 7776*q^4 + 22761*q^2 + 2673)/(4*q^12 + 3*q^10))\n",
      "('B', 5, 1, 3, 1/196608*(576*q^16 + 8184*q^14 + 17094*q^12 + 22645*q^10 + 2281*q^8 + 23658*q^6 + 7776*q^4 + 22761*q^2 + 2673)/(4*q^12 + 3*q^10))\n",
      "('B', 5, 1, 4, 0)\n",
      "('B', 5, 1, 5, 1/196608*(60*q^12 + 1728*q^10 + 781*q^8 + 16476*q^6 - 4158*q^4 - 4212*q^2 - 243)/(4*q^12 + 3*q^10))\n",
      "('B', 5, 1, 5, 1/196608*(60*q^12 + 1728*q^10 + 781*q^8 + 16476*q^6 - 4158*q^4 - 4212*q^2 - 243)/(4*q^12 + 3*q^10))\n",
      "('B', 5, 2, 0, 0)\n",
      "('B', 5, 2, 1, 0)\n",
      "('B', 5, 2, 2, 0)\n",
      "('B', 5, 2, 3, 0)\n",
      "('B', 5, 2, 4, 0)\n",
      "('B', 5, 2, 5, 0)\n",
      "('B', 5, 3, 0, 0)\n",
      "('B', 5, 3, 1, -3/65536*(20*q^18 - 1386*q^16 + 1159*q^14 + 17385*q^12 - 1473*q^10 - 24611*q^8 + 13245*q^6 + 5427*q^4 + 12393*q^2 + 2673)/(q^12 + 3*q^10))\n",
      "('B', 5, 3, 1, -3/65536*(20*q^18 - 1386*q^16 + 1159*q^14 + 17385*q^12 - 1473*q^10 - 24611*q^8 + 13245*q^6 + 5427*q^4 + 12393*q^2 + 2673)/(q^12 + 3*q^10))\n",
      "('B', 5, 3, 2, 0)\n",
      "('B', 5, 3, 3, 3/65536*(216*q^22 - 570*q^20 - 18933*q^18 - 71519*q^16 - 100329*q^14 - 35063*q^12 + 38725*q^10 - 123273*q^8 - 114291*q^6 - 157707*q^4 - 125388*q^2 - 43740)/(4*q^18 + 35*q^16 + 84*q^14 + 45*q^12))\n",
      "('B', 5, 3, 3, 3/65536*(216*q^22 - 570*q^20 - 18933*q^18 - 71519*q^16 - 100329*q^14 - 35063*q^12 + 38725*q^10 - 123273*q^8 - 114291*q^6 - 157707*q^4 - 125388*q^2 - 43740)/(4*q^18 + 35*q^16 + 84*q^14 + 45*q^12))\n",
      "('B', 5, 3, 4, 0)\n",
      "('B', 5, 3, 5, -3/65536*(320*q^16 + 1737*q^14 - 4390*q^12 - 8591*q^10 + 157370*q^8 + 25203*q^6 + 112590*q^4 + 62451*q^2 + 2430)/(36*q^16 + 215*q^14 + 181*q^12 + 30*q^10))\n",
      "('B', 5, 3, 5, -3/65536*(320*q^16 + 1737*q^14 - 4390*q^12 - 8591*q^10 + 157370*q^8 + 25203*q^6 + 112590*q^4 + 62451*q^2 + 2430)/(36*q^16 + 215*q^14 + 181*q^12 + 30*q^10))\n",
      "('B', 5, 4, 0, 0)\n",
      "('B', 5, 4, 1, 0)\n",
      "('B', 5, 4, 2, 0)\n",
      "('B', 5, 4, 3, 0)\n",
      "('B', 5, 4, 4, 0)\n",
      "('B', 5, 4, 5, 0)\n",
      "('B', 5, 5, 0, 0)\n",
      "('B', 5, 5, 1, 5/196608*(108*q^22 + 648*q^20 - 3735*q^18 + 5853*q^16 + 84492*q^14 + 18828*q^12 - 256546*q^10 - 31890*q^8 + 169632*q^6 + 96228*q^4 + 37665*q^2 + 3645)/(5*q^14 + 18*q^12 + 9*q^10))\n",
      "('B', 5, 5, 1, 5/196608*(108*q^22 + 648*q^20 - 3735*q^18 + 5853*q^16 + 84492*q^14 + 18828*q^12 - 256546*q^10 - 31890*q^8 + 169632*q^6 + 96228*q^4 + 37665*q^2 + 3645)/(5*q^14 + 18*q^12 + 9*q^10))\n",
      "('B', 5, 5, 2, 0)\n",
      "('B', 5, 5, 3, -5/196608*(342*q^22 + 1257*q^20 + 2085*q^18 - 31430*q^16 - 390368*q^14 - 350282*q^12 + 1479350*q^10 + 570136*q^8 - 1001838*q^6 - 419175*q^4 + 146205*q^2 + 12150)/(5*q^18 + 45*q^16 + 113*q^14 + 59*q^12 - 30*q^10))\n",
      "('B', 5, 5, 3, -5/196608*(342*q^22 + 1257*q^20 + 2085*q^18 - 31430*q^16 - 390368*q^14 - 350282*q^12 + 1479350*q^10 + 570136*q^8 - 1001838*q^6 - 419175*q^4 + 146205*q^2 + 12150)/(5*q^18 + 45*q^16 + 113*q^14 + 59*q^12 - 30*q^10))\n",
      "('B', 5, 5, 4, 0)\n",
      "('B', 5, 5, 5, 5/196608*(45*q^16 - 150*q^14 - 570*q^12 + 2618*q^10 - 3896*q^8 - 498*q^6 + 25866*q^4 + 8910*q^2 + 6075)/(3*q^16 + 20*q^14 + 25*q^12))\n",
      "('B', 5, 5, 5, 5/196608*(45*q^16 - 150*q^14 - 570*q^12 + 2618*q^10 - 3896*q^8 - 498*q^6 + 25866*q^4 + 8910*q^2 + 6075)/(3*q^16 + 20*q^14 + 25*q^12))\n",
      "('C', 5, -1/16384*(12*q^16 - 176*q^14 - 681*q^12 + 201*q^10 + 279*q^8 - 978*q^6 - 279*q^4 + 513*q^2 + 405)/q^(19/2))\n",
      "('D', 5, 0)\n"
     ]
    }
   ],
   "source": [
    "#from list of solve results, compare left hand sides of expressions to variable names aa, bb, cc, and dd\n",
    "#if there was a match, assign the right hand side of solve results to A, B, C, D \n",
    "#therefore aa, bb, cc and dd are intact\n",
    "for ii in range(len(sol)):\n",
    "    for i in range(1,6):\n",
    "        if var('cc_'+str(i))==sol[ii].lhs():\n",
    "            C[i]=sol[ii].rhs()\n",
    "            #vars()['cc_'+str(i)]=sol[ii].rhs()\n",
    "            print(\"C\",i,C[i])\n",
    "        if var('dd_'+str(i))==sol[ii].lhs():            \n",
    "            D[i]=sol[ii].rhs()\n",
    "            #vars()['dd_'+str(i)]=sol[ii].rhs()\n",
    "            print(\"D\",i,D[i])\n",
    "        for j in range(6):\n",
    "            for m in range(6):\n",
    "                if var('aa_'+str(i)+'_'+str(j)+'_'+str(m))==sol[ii].lhs():\n",
    "                    #A[i][j][m]=sol[ii].rhs()\n",
    "                    #vars()['aa_'+str(i)+'_'+str(j)+'_'+str(m)]=0\n",
    "                    print(\"A\",i,j,m,A[i][j][m])\n",
    "                    if A[i][j][m]!=0:\n",
    "                        print(\"A\",i,j,m,A[i][j][m])\n",
    "                if var('bb_'+str(i)+'_'+str(j)+'_'+str(m))==sol[ii].lhs():\n",
    "                    #B[i][j][m]=sol[ii].rhs()\n",
    "                    #vars()['bb_'+str(i)+'_'+str(j)+'_'+str(m)]=0\n",
    "                    print(\"B\",i,j,m,B[i][j][m])\n",
    "                    if B[i][j][m]!=0:\n",
    "                        print(\"B\",i,j,m,B[i][j][m])"
   ]
  },
  {
   "cell_type": "code",
   "execution_count": 306,
   "metadata": {
    "collapsed": false,
    "deletable": true,
    "editable": true
   },
   "outputs": [
    {
     "name": "stdout",
     "output_type": "stream",
     "text": [
      "('C5', -1/16384*(12*q^16 - 176*q^14 - 681*q^12 + 201*q^10 + 279*q^8 - 978*q^6 - 279*q^4 + 513*q^2 + 405)/q^(19/2))\n",
      "('D5', 0)\n",
      "('A[5,1,1', ']', 1/65536*(97200*q^34 + 969300*q^32 + 10312920*q^30 + 40437585*q^28 - 99942680*q^26 - 718547767*q^24 - 1053139982*q^22 - 468613281*q^20 - 625150182*q^18 - 1543359636*q^16 - 1317006294*q^14 - 610724583*q^12 - 538477502*q^10 - 434987253*q^8 - 119464668*q^6 + 24483303*q^4 + 17432820*q^2 + 2259900)*sqrt(q)/(2700*q^27 + 24945*q^25 + 73990*q^23 + 93072*q^21 + 46690*q^19 + 1267*q^17 - 5220*q^15 - 900*q^13))\n",
      "('A[5,1,3', ']', 1/65536*(192*q^16 - 8536*q^14 - 24494*q^12 - 2281*q^10 - 7833*q^8 - 34170*q^6 - 16344*q^4 - 25461*q^2 - 2673)*sqrt(q)/(4*q^13 + 3*q^11))\n",
      "('A[5,1,5', ']', -1/65536*(1828*q^12 + 352*q^10 - 10757*q^8 + 35788*q^6 - 594*q^4 - 8100*q^2 - 405)*sqrt(q)/(4*q^13 + 3*q^11))\n",
      "('A[5,3,1', ']', 1/65536*(108*q^18 - 5934*q^16 + 5105*q^14 + 46195*q^12 - 51879*q^10 - 35153*q^8 + 4283*q^6 + 7569*q^4 + 4239*q^2 + 891)*sqrt(q)/(q^13 + 3*q^11))\n",
      "('A[5,3,3', ']', -1/65536*(5400*q^22 + 12918*q^20 - 137093*q^18 - 272731*q^16 + 357403*q^14 + 299725*q^12 + 100929*q^10 + 467859*q^8 + 215865*q^6 - 91935*q^4 - 169128*q^2 - 43740)*sqrt(q)/(4*q^19 + 35*q^17 + 84*q^15 + 45*q^13))\n",
      "('A[5,3,5', ']', -1/65536*(78144*q^16 + 364169*q^14 - 491094*q^12 - 1068351*q^10 + 1162018*q^8 + 332347*q^6 - 358650*q^4 - 114885*q^2 - 4050)*sqrt(q)/(36*q^17 + 215*q^15 + 181*q^13 + 30*q^11))\n",
      "('A[5,5,1', ']', -1/65536*(180*q^22 - 360*q^20 - 1329*q^18 - 1389*q^16 - 10180*q^14 + 25076*q^12 + 40794*q^10 - 62542*q^8 + 3864*q^6 + 3132*q^4 + 2511*q^2 + 243)*sqrt(q)/(5*q^15 + 18*q^13 + 9*q^11))\n",
      "('A[5,5,3', ']', -1/65536*(10290*q^22 + 43395*q^20 - 173337*q^18 - 602962*q^16 + 701240*q^14 + 1757970*q^12 - 1345366*q^10 - 1223160*q^8 + 844206*q^6 + 21555*q^4 - 31401*q^2 - 2430)*sqrt(q)/(5*q^19 + 45*q^17 + 113*q^15 + 59*q^13 - 30*q^11))\n",
      "('A[5,5,5', ']', -1/65536*(5415*q^16 + 32830*q^14 - 2142*q^12 - 121450*q^10 + 28240*q^8 + 135290*q^6 - 88578*q^4 + 8370*q^2 + 2025)*sqrt(q)/(3*q^17 + 20*q^15 + 25*q^13))\n",
      "('B[5,1,1', ']', -1/196608*(291600*q^34 + 2907900*q^32 + 32753160*q^30 + 149869395*q^28 - 96175800*q^26 - 1388122677*q^24 - 1816814730*q^22 - 673012947*q^20 - 2204709010*q^18 - 4183229964*q^16 - 2019366082*q^14 - 127366501*q^12 - 1024292202*q^10 - 1272297663*q^8 - 404176500*q^6 + 54476469*q^4 + 49965660*q^2 + 6779700)/(2700*q^26 + 24945*q^24 + 73990*q^22 + 93072*q^20 + 46690*q^18 + 1267*q^16 - 5220*q^14 - 900*q^12))\n",
      "('B[5,1,3', ']', 1/196608*(576*q^16 + 8184*q^14 + 17094*q^12 + 22645*q^10 + 2281*q^8 + 23658*q^6 + 7776*q^4 + 22761*q^2 + 2673)/(4*q^12 + 3*q^10))\n",
      "('B[5,1,5', ']', 1/196608*(60*q^12 + 1728*q^10 + 781*q^8 + 16476*q^6 - 4158*q^4 - 4212*q^2 - 243)/(4*q^12 + 3*q^10))\n",
      "('B[5,3,1', ']', -3/65536*(20*q^18 - 1386*q^16 + 1159*q^14 + 17385*q^12 - 1473*q^10 - 24611*q^8 + 13245*q^6 + 5427*q^4 + 12393*q^2 + 2673)/(q^12 + 3*q^10))\n",
      "('B[5,3,3', ']', 3/65536*(216*q^22 - 570*q^20 - 18933*q^18 - 71519*q^16 - 100329*q^14 - 35063*q^12 + 38725*q^10 - 123273*q^8 - 114291*q^6 - 157707*q^4 - 125388*q^2 - 43740)/(4*q^18 + 35*q^16 + 84*q^14 + 45*q^12))\n",
      "('B[5,3,5', ']', -3/65536*(320*q^16 + 1737*q^14 - 4390*q^12 - 8591*q^10 + 157370*q^8 + 25203*q^6 + 112590*q^4 + 62451*q^2 + 2430)/(36*q^16 + 215*q^14 + 181*q^12 + 30*q^10))\n",
      "('B[5,5,1', ']', 5/196608*(108*q^22 + 648*q^20 - 3735*q^18 + 5853*q^16 + 84492*q^14 + 18828*q^12 - 256546*q^10 - 31890*q^8 + 169632*q^6 + 96228*q^4 + 37665*q^2 + 3645)/(5*q^14 + 18*q^12 + 9*q^10))\n",
      "('B[5,5,3', ']', -5/196608*(342*q^22 + 1257*q^20 + 2085*q^18 - 31430*q^16 - 390368*q^14 - 350282*q^12 + 1479350*q^10 + 570136*q^8 - 1001838*q^6 - 419175*q^4 + 146205*q^2 + 12150)/(5*q^18 + 45*q^16 + 113*q^14 + 59*q^12 - 30*q^10))\n",
      "('B[5,5,5', ']', 5/196608*(45*q^16 - 150*q^14 - 570*q^12 + 2618*q^10 - 3896*q^8 - 498*q^6 + 25866*q^4 + 8910*q^2 + 6075)/(3*q^16 + 20*q^14 + 25*q^12))\n"
     ]
    }
   ],
   "source": [
    "i=5\n",
    "print('C'+str(i),C[i])\n",
    "print('D'+str(i),D[i])\n",
    "for j in range(6):\n",
    "    for m in range(6):\n",
    "        if mod(j,2)==1 and mod(m,2)==1:\n",
    "            print('A['+str(i)+','+str(j)+','+str(m),']',A[i][j][m])\n",
    "for j in range(6):\n",
    "    for m in range(6):\n",
    "        if mod(j,2)==1 and mod(m,2)==1:\n",
    "            print('B['+str(i)+','+str(j)+','+str(m),']',B[i][j][m])"
   ]
  },
  {
   "cell_type": "code",
   "execution_count": 307,
   "metadata": {
    "collapsed": false,
    "deletable": true,
    "editable": true
   },
   "outputs": [
    {
     "data": {
      "text/plain": [
       "[aa_5_0_1 == 0,\n",
       " aa_5_0_2 == 0,\n",
       " aa_5_0_3 == 0,\n",
       " aa_5_0_4 == 0,\n",
       " aa_5_0_5 == 0,\n",
       " aa_5_1_1 == 1/65536*(97200*q^34 + 969300*q^32 + 10312920*q^30 + 40437585*q^28 - 99942680*q^26 - 718547767*q^24 - 1053139982*q^22 - 468613281*q^20 - 625150182*q^18 - 1543359636*q^16 - 1317006294*q^14 - 610724583*q^12 - 538477502*q^10 - 434987253*q^8 - 119464668*q^6 + 24483303*q^4 + 17432820*q^2 + 2259900)*sqrt(q)/(2700*q^27 + 24945*q^25 + 73990*q^23 + 93072*q^21 + 46690*q^19 + 1267*q^17 - 5220*q^15 - 900*q^13),\n",
       " aa_5_1_2 == 0,\n",
       " aa_5_1_3 == 1/65536*(192*q^16 - 8536*q^14 - 24494*q^12 - 2281*q^10 - 7833*q^8 - 34170*q^6 - 16344*q^4 - 25461*q^2 - 2673)*sqrt(q)/(4*q^13 + 3*q^11),\n",
       " aa_5_1_4 == 0,\n",
       " aa_5_1_5 == -1/65536*(1828*q^12 + 352*q^10 - 10757*q^8 + 35788*q^6 - 594*q^4 - 8100*q^2 - 405)*sqrt(q)/(4*q^13 + 3*q^11),\n",
       " aa_5_2_1 == 0,\n",
       " aa_5_2_2 == 0,\n",
       " aa_5_2_3 == 0,\n",
       " aa_5_2_4 == 0,\n",
       " aa_5_2_5 == 0,\n",
       " aa_5_3_1 == 1/65536*(108*q^18 - 5934*q^16 + 5105*q^14 + 46195*q^12 - 51879*q^10 - 35153*q^8 + 4283*q^6 + 7569*q^4 + 4239*q^2 + 891)*sqrt(q)/(q^13 + 3*q^11),\n",
       " aa_5_3_2 == 0,\n",
       " aa_5_3_3 == -1/65536*(5400*q^22 + 12918*q^20 - 137093*q^18 - 272731*q^16 + 357403*q^14 + 299725*q^12 + 100929*q^10 + 467859*q^8 + 215865*q^6 - 91935*q^4 - 169128*q^2 - 43740)*sqrt(q)/(4*q^19 + 35*q^17 + 84*q^15 + 45*q^13),\n",
       " aa_5_3_4 == 0,\n",
       " aa_5_3_5 == -1/65536*(78144*q^16 + 364169*q^14 - 491094*q^12 - 1068351*q^10 + 1162018*q^8 + 332347*q^6 - 358650*q^4 - 114885*q^2 - 4050)*sqrt(q)/(36*q^17 + 215*q^15 + 181*q^13 + 30*q^11),\n",
       " aa_5_4_1 == 0,\n",
       " aa_5_4_2 == 0,\n",
       " aa_5_4_3 == 0,\n",
       " aa_5_4_4 == 0,\n",
       " aa_5_4_5 == 0,\n",
       " aa_5_5_1 == -1/65536*(180*q^22 - 360*q^20 - 1329*q^18 - 1389*q^16 - 10180*q^14 + 25076*q^12 + 40794*q^10 - 62542*q^8 + 3864*q^6 + 3132*q^4 + 2511*q^2 + 243)*sqrt(q)/(5*q^15 + 18*q^13 + 9*q^11),\n",
       " aa_5_5_2 == 0,\n",
       " aa_5_5_3 == -1/65536*(10290*q^22 + 43395*q^20 - 173337*q^18 - 602962*q^16 + 701240*q^14 + 1757970*q^12 - 1345366*q^10 - 1223160*q^8 + 844206*q^6 + 21555*q^4 - 31401*q^2 - 2430)*sqrt(q)/(5*q^19 + 45*q^17 + 113*q^15 + 59*q^13 - 30*q^11),\n",
       " aa_5_5_4 == 0,\n",
       " aa_5_5_5 == -1/65536*(5415*q^16 + 32830*q^14 - 2142*q^12 - 121450*q^10 + 28240*q^8 + 135290*q^6 - 88578*q^4 + 8370*q^2 + 2025)*sqrt(q)/(3*q^17 + 20*q^15 + 25*q^13),\n",
       " bb_5_1_0 == 0,\n",
       " bb_5_1_1 == -1/196608*(291600*q^34 + 2907900*q^32 + 32753160*q^30 + 149869395*q^28 - 96175800*q^26 - 1388122677*q^24 - 1816814730*q^22 - 673012947*q^20 - 2204709010*q^18 - 4183229964*q^16 - 2019366082*q^14 - 127366501*q^12 - 1024292202*q^10 - 1272297663*q^8 - 404176500*q^6 + 54476469*q^4 + 49965660*q^2 + 6779700)/(2700*q^26 + 24945*q^24 + 73990*q^22 + 93072*q^20 + 46690*q^18 + 1267*q^16 - 5220*q^14 - 900*q^12),\n",
       " bb_5_1_2 == 0,\n",
       " bb_5_1_3 == 1/196608*(576*q^16 + 8184*q^14 + 17094*q^12 + 22645*q^10 + 2281*q^8 + 23658*q^6 + 7776*q^4 + 22761*q^2 + 2673)/(4*q^12 + 3*q^10),\n",
       " bb_5_1_4 == 0,\n",
       " bb_5_1_5 == 1/196608*(60*q^12 + 1728*q^10 + 781*q^8 + 16476*q^6 - 4158*q^4 - 4212*q^2 - 243)/(4*q^12 + 3*q^10),\n",
       " bb_5_2_0 == 0,\n",
       " bb_5_2_1 == 0,\n",
       " bb_5_2_2 == 0,\n",
       " bb_5_2_3 == 0,\n",
       " bb_5_2_4 == 0,\n",
       " bb_5_2_5 == 0,\n",
       " bb_5_3_0 == 0,\n",
       " bb_5_3_1 == -3/65536*(20*q^18 - 1386*q^16 + 1159*q^14 + 17385*q^12 - 1473*q^10 - 24611*q^8 + 13245*q^6 + 5427*q^4 + 12393*q^2 + 2673)/(q^12 + 3*q^10),\n",
       " bb_5_3_2 == 0,\n",
       " bb_5_3_3 == 3/65536*(216*q^22 - 570*q^20 - 18933*q^18 - 71519*q^16 - 100329*q^14 - 35063*q^12 + 38725*q^10 - 123273*q^8 - 114291*q^6 - 157707*q^4 - 125388*q^2 - 43740)/(4*q^18 + 35*q^16 + 84*q^14 + 45*q^12),\n",
       " bb_5_3_4 == 0,\n",
       " bb_5_3_5 == -3/65536*(320*q^16 + 1737*q^14 - 4390*q^12 - 8591*q^10 + 157370*q^8 + 25203*q^6 + 112590*q^4 + 62451*q^2 + 2430)/(36*q^16 + 215*q^14 + 181*q^12 + 30*q^10),\n",
       " bb_5_4_0 == 0,\n",
       " bb_5_4_1 == 0,\n",
       " bb_5_4_2 == 0,\n",
       " bb_5_4_3 == 0,\n",
       " bb_5_4_4 == 0,\n",
       " bb_5_4_5 == 0,\n",
       " bb_5_5_0 == 0,\n",
       " bb_5_5_1 == 5/196608*(108*q^22 + 648*q^20 - 3735*q^18 + 5853*q^16 + 84492*q^14 + 18828*q^12 - 256546*q^10 - 31890*q^8 + 169632*q^6 + 96228*q^4 + 37665*q^2 + 3645)/(5*q^14 + 18*q^12 + 9*q^10),\n",
       " bb_5_5_2 == 0,\n",
       " bb_5_5_3 == -5/196608*(342*q^22 + 1257*q^20 + 2085*q^18 - 31430*q^16 - 390368*q^14 - 350282*q^12 + 1479350*q^10 + 570136*q^8 - 1001838*q^6 - 419175*q^4 + 146205*q^2 + 12150)/(5*q^18 + 45*q^16 + 113*q^14 + 59*q^12 - 30*q^10),\n",
       " bb_5_5_4 == 0,\n",
       " bb_5_5_5 == 5/196608*(45*q^16 - 150*q^14 - 570*q^12 + 2618*q^10 - 3896*q^8 - 498*q^6 + 25866*q^4 + 8910*q^2 + 6075)/(3*q^16 + 20*q^14 + 25*q^12),\n",
       " cc_5 == -1/16384*(12*q^16 - 176*q^14 - 681*q^12 + 201*q^10 + 279*q^8 - 978*q^6 - 279*q^4 + 513*q^2 + 405)/q^(19/2),\n",
       " dd_5 == 0]"
      ]
     },
     "execution_count": 307,
     "metadata": {},
     "output_type": "execute_result"
    }
   ],
   "source": [
    "sol"
   ]
  },
  {
   "cell_type": "code",
   "execution_count": null,
   "metadata": {
    "collapsed": false,
    "deletable": true,
    "editable": true
   },
   "outputs": [],
   "source": []
  },
  {
   "cell_type": "code",
   "execution_count": 308,
   "metadata": {
    "collapsed": true,
    "deletable": true,
    "editable": true
   },
   "outputs": [],
   "source": [
    "#sol"
   ]
  },
  {
   "cell_type": "code",
   "execution_count": 309,
   "metadata": {
    "collapsed": true,
    "deletable": true,
    "editable": true
   },
   "outputs": [],
   "source": [
    "##############################      verify lateral - O5          ###################################"
   ]
  },
  {
   "cell_type": "code",
   "execution_count": 312,
   "metadata": {
    "collapsed": false,
    "deletable": true,
    "editable": true
   },
   "outputs": [
    {
     "data": {
      "text/plain": [
       "0"
      ]
     },
     "execution_count": 312,
     "metadata": {},
     "output_type": "execute_result"
    }
   ],
   "source": [
    "#eq_aa20=\n",
    "expand((f_eta(0,0,5)-f_eta(pi,0,5)-2*eps)/(2*eps^5)).simplify_full()"
   ]
  },
  {
   "cell_type": "code",
   "execution_count": 313,
   "metadata": {
    "collapsed": false,
    "deletable": true,
    "editable": true
   },
   "outputs": [
    {
     "data": {
      "text/plain": [
       "0"
      ]
     },
     "execution_count": 313,
     "metadata": {},
     "output_type": "execute_result"
    }
   ],
   "source": [
    "#eq_aa21=\n",
    "expand((f_eta(0,0,5)-f_eta(0,pi,5)-2*eps)/(2*eps^5)).simplify_full()"
   ]
  },
  {
   "cell_type": "code",
   "execution_count": 314,
   "metadata": {
    "collapsed": true,
    "deletable": true,
    "editable": true
   },
   "outputs": [],
   "source": [
    "#################################### verify kinematic BC - o5 #####################################"
   ]
  },
  {
   "cell_type": "code",
   "execution_count": 315,
   "metadata": {
    "collapsed": false,
    "deletable": true,
    "editable": true
   },
   "outputs": [],
   "source": [
    "expr=(f_eta_t(x,t,5)+f_u(x,t,4)*f_eta_x(x,t,4)-f_w(x,t,5)).simplify_full().coefficient(eps,5)\n"
   ]
  },
  {
   "cell_type": "code",
   "execution_count": 316,
   "metadata": {
    "collapsed": false
   },
   "outputs": [
    {
     "data": {
      "text/plain": [
       "0"
      ]
     },
     "execution_count": 316,
     "metadata": {},
     "output_type": "execute_result"
    }
   ],
   "source": [
    "expr"
   ]
  },
  {
   "cell_type": "code",
   "execution_count": null,
   "metadata": {
    "collapsed": true,
    "deletable": true,
    "editable": true
   },
   "outputs": [],
   "source": [
    "#################################### verify dynamic BC - o5 #####################################"
   ]
  },
  {
   "cell_type": "code",
   "execution_count": 318,
   "metadata": {
    "collapsed": false,
    "deletable": true,
    "editable": true
   },
   "outputs": [
    {
     "data": {
      "text/plain": [
       "0"
      ]
     },
     "execution_count": 318,
     "metadata": {},
     "output_type": "execute_result"
    }
   ],
   "source": [
    "(f_phi_t(x,t,5)+1/2*(f_u(x,t,4)^2+f_w(x,t,4)^2)+f_eta(x,t,5)-fB(5)).simplify_full().coefficient(eps,5)"
   ]
  },
  {
   "cell_type": "code",
   "execution_count": null,
   "metadata": {
    "collapsed": true
   },
   "outputs": [],
   "source": []
  }
 ],
 "metadata": {
  "celltoolbar": "Raw Cell Format",
  "kernelspec": {
   "display_name": "SageMath 8.1",
   "language": "",
   "name": "sagemath"
  },
  "language_info": {
   "codemirror_mode": {
    "name": "ipython",
    "version": 2
   },
   "file_extension": ".py",
   "mimetype": "text/x-python",
   "name": "python",
   "nbconvert_exporter": "python",
   "pygments_lexer": "ipython2",
   "version": "2.7.14"
  }
 },
 "nbformat": 4,
 "nbformat_minor": 2
}
