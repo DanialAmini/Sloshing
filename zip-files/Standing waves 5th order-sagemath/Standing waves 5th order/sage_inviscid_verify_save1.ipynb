{
 "cells": [
  {
   "cell_type": "code",
   "execution_count": 431,
   "metadata": {},
   "outputs": [
    {
     "data": {
      "text/plain": [
       "8"
      ]
     },
     "execution_count": 431,
     "metadata": {},
     "output_type": "execute_result"
    }
   ],
   "source": [
    "1+1+1+4+1"
   ]
  },
  {
   "cell_type": "code",
   "execution_count": 432,
   "metadata": {},
   "outputs": [],
   "source": [
    "### program for standing waves based on theory of Sobey (2009)\n",
    "### for publication in ICE journal \n",
    "### code written in SAGE (which is an open source and free software)\n",
    "### the output must be suppressed wherever possible to save time"
   ]
  },
  {
   "cell_type": "code",
   "execution_count": 433,
   "metadata": {},
   "outputs": [],
   "source": [
    "reset()"
   ]
  },
  {
   "cell_type": "code",
   "execution_count": 434,
   "metadata": {},
   "outputs": [],
   "source": [
    "#populating variables with itself"
   ]
  },
  {
   "cell_type": "code",
   "execution_count": 435,
   "metadata": {},
   "outputs": [],
   "source": [
    "x, y, z, t=var('x y z t')\n",
    "ii=var('ii')\n",
    "assume(ii,'integer')\n",
    "i, j, m=var('i j m')\n",
    "q=var('q')\n",
    "eps=var('eps')\n",
    "\n",
    "A =[[[0 for i in range(1,7)] for j in range(7)] for m in range(7)]\n",
    "B =[[[0 for i in range(1,7)] for j in range(7)] for m in range(7)]\n",
    "C=[0 for i in range (1,7)]\n",
    "D=[0 for i in range(1,7)]\n",
    "for i in range(1,6):\n",
    "    C[i]=var('cc_'+str(i))\n",
    "    D[i]=var('dd_'+str(i))\n",
    "    for j in range(6):\n",
    "        for m in range(6):\n",
    "            A[i][j][m]=var('aa_'+str(i)+'_'+str(j)+'_'+str(m))\n",
    "            B[i][j][m]=var('bb_'+str(i)+'_'+str(j)+'_'+str(m))\n",
    "#the variables are of the form A[i][j][m] and B[i][j][m] which are populated with aa_i_j_m and bb_i_j_m variables\n",
    "#also C[i] and D[i] are populated with cc_i and dd_i            "
   ]
  },
  {
   "cell_type": "code",
   "execution_count": 436,
   "metadata": {},
   "outputs": [],
   "source": [
    "\n",
    "A =[[[0 for i in range(1,12)] for j in range(12)] for m in range(12)]\n",
    "B =[[[0 for i in range(1,12)] for j in range(12)] for m in range(12)]\n",
    "C=[0 for i in range (1,12)]\n",
    "D=[0 for i in range(1,12)]\n",
    "\n",
    "C[1]=sqrt(q)\n",
    "A[1][1][1]=-1/sqrt(q)\n",
    "B[1][1][1]=1\n",
    "\n",
    "D[2]=-1/8*(q^2 - 1)/q\n",
    "A[2][0][2]=1/16*(3*q^2 + 1)/q^(3/2)\n",
    "A[2][2][2]=3/16*(q^4 - 1)/q^(7/2)\n",
    "B[2][2][0]=1/8*(q^2 + 1)/q\n",
    "B[2][2][2]=-1/8*(q^2 - 3)/q^3\n",
    "\n",
    "C[3]=-1/64*(2*q^6 + 3*q^4 + 12*q^2 - 9)/q^(7/2)\n",
    "A[3][1][1]=1/256*(6*q^10 + 11*q^8 - 63*q^6 + 96*q^4 + 27*q^2 + 27)/q^(13/2)\n",
    "A[3][1][3]=-1/256*(31*q^4 - 62*q^2 - 9)/q^(9/2)\n",
    "A[3][3][1]=-1/256*(6*q^8 - 13*q^6 - 5*q^4 + 9*q^2 + 3)/q^(9/2)\n",
    "A[3][3][3]=-1/256*(39*q^6 - 53*q^4 + 5*q^2 + 9)/q^(13/2)\n",
    "B[3][1][1]=-1/256*(6*q^10 + 3*q^8 - 43*q^6 + 72*q^4 + 15*q^2 + 27)/q^6\n",
    "B[3][1][3]=1/256*(5*q^4 - 18*q^2 - 3)/q^4\n",
    "B[3][3][1]=3/256*(2*q^8 + q^6 - 15*q^4 + 27*q^2 + 9)/q^4\n",
    "B[3][3][3]=-3/256*(q^6 - 3*q^4 + 3*q^2 - 9)/q^6\n",
    "\n",
    "D[4]=1/1024*(6*q^12 + 5*q^10 - 56*q^8 + 87*q^6 + 39*q^4 - 72*q^2 - 9)/q^7\n",
    "A[4][0][2]=-1/2048*(18*q^12 + 27*q^10 - 91*q^8 + 344*q^6 - 122*q^4 + 117*q^2 + 27)/q^(15/2)\n",
    "A[4][0][4]=1/4096*(67*q^8 - 235*q^6 - 185*q^4 + 207*q^2 + 18)/q^(15/2)\n",
    "A[4][2][2]=1/3072*(18*q^12 + 259*q^10 - 240*q^8 - 256*q^6 + 252*q^4 + 189*q^2 + 162)/q^(19/2)\n",
    "A[4][2][4]=1/3072*(398*q^10 + 63*q^8 - 1298*q^6 + 144*q^4 + 1188*q^2 + 81)*sqrt(q)/(4*q^10 + 3*q^8)\n",
    "A[4][4][2]=1/6144*(54*q^14 + 207*q^12 - 1060*q^10 - 1743*q^8 + 4502*q^6 - 207*q^4 - 648*q^2 - 81)*sqrt(q)/(q^10 + 3*q^8)\n",
    "A[4][4][4]=1/12288*(197*q^12 + 1732*q^10 + 1481*q^8 - 9872*q^6 + 7623*q^4 - 756*q^2 - 405)*sqrt(q)/(q^12 + 5*q^10)\n",
    "B[4][2][0]=-1/1024*(32*q^10 + 18*q^8 - 23*q^6 + 27*q^4 + 63*q^2 + 27)/q^7\n",
    "B[4][2][2]=-1/768*(54*q^10 + 45*q^8 - 68*q^6 + 90*q^4 + 54*q^2 + 81)/q^9\n",
    "B[4][2][4]=-1/3072*(6*q^8 + 283*q^6 - 351*q^4 + 1053*q^2 + 81)/(4*q^9 + 3*q^7)\n",
    "B[4][4][0]=1/1024*(6*q^12 + 21*q^10 - 66*q^8 + 2*q^6 + 66*q^4 + 81*q^2 + 18)/q^7\n",
    "B[4][4][2]=-1/768*(18*q^12 - 105*q^10 - 273*q^8 + 518*q^6 + 288*q^4 - 621*q^2 - 81)/(q^9 + 3*q^7)\n",
    "B[4][4][4]=1/3072*(21*q^10 + q^8 - 262*q^6 + 522*q^4 + 81*q^2 + 405)/(q^11 + 5*q^9)\n",
    "\n",
    "C[5]=-1/16384*(12*q^16 - 176*q^14 - 681*q^12 + 201*q^10 + 279*q^8 - 978*q^6 - 279*q^4 + 513*q^2 + 405)/q^(19/2)\n",
    "A[5][1][1]=1/65536*(97200*q^34 + 969300*q^32 + 10312920*q^30 + 40437585*q^28 - 99942680*q^26 - 718547767*q^24 - 1053139982*q^22 - 468613281*q^20 - 625150182*q^18 - 1543359636*q^16 - 1317006294*q^14 - 610724583*q^12 - 538477502*q^10 - 434987253*q^8 - 119464668*q^6 + 24483303*q^4 + 17432820*q^2 + 2259900)*sqrt(q)/(2700*q^27 + 24945*q^25 + 73990*q^23 + 93072*q^21 + 46690*q^19 + 1267*q^17 - 5220*q^15 - 900*q^13)\n",
    "A[5][1][3]=1/65536*(192*q^16 - 8536*q^14 - 24494*q^12 - 2281*q^10 - 7833*q^8 - 34170*q^6 - 16344*q^4 - 25461*q^2 - 2673)*sqrt(q)/(4*q^13 + 3*q^11)\n",
    "A[5][1][5]=-1/65536*(1828*q^12 + 352*q^10 - 10757*q^8 + 35788*q^6 - 594*q^4 - 8100*q^2 - 405)*sqrt(q)/(4*q^13 + 3*q^11)\n",
    "A[5][3][1]=1/65536*(108*q^18 - 5934*q^16 + 5105*q^14 + 46195*q^12 - 51879*q^10 - 35153*q^8 + 4283*q^6 + 7569*q^4 + 4239*q^2 + 891)*sqrt(q)/(q^13 + 3*q^11)\n",
    "A[5][3][3]=-1/65536*(5400*q^22 + 12918*q^20 - 137093*q^18 - 272731*q^16 + 357403*q^14 + 299725*q^12 + 100929*q^10 + 467859*q^8 + 215865*q^6 - 91935*q^4 - 169128*q^2 - 43740)*sqrt(q)/(4*q^19 + 35*q^17 + 84*q^15 + 45*q^13)\n",
    "A[5][3][5]=-1/65536*(78144*q^16 + 364169*q^14 - 491094*q^12 - 1068351*q^10 + 1162018*q^8 + 332347*q^6 - 358650*q^4 - 114885*q^2 - 4050)*sqrt(q)/(36*q^17 + 215*q^15 + 181*q^13 + 30*q^11)\n",
    "A[5][5][1]=-1/65536*(180*q^22 - 360*q^20 - 1329*q^18 - 1389*q^16 - 10180*q^14 + 25076*q^12 + 40794*q^10 - 62542*q^8 + 3864*q^6 + 3132*q^4 + 2511*q^2 + 243)*sqrt(q)/(5*q^15 + 18*q^13 + 9*q^11)\n",
    "A[5][5][3]=-1/65536*(10290*q^22 + 43395*q^20 - 173337*q^18 - 602962*q^16 + 701240*q^14 + 1757970*q^12 - 1345366*q^10 - 1223160*q^8 + 844206*q^6 + 21555*q^4 - 31401*q^2 - 2430)*sqrt(q)/(5*q^19 + 45*q^17 + 113*q^15 + 59*q^13 - 30*q^11)\n",
    "A[5][5][5]=-1/65536*(5415*q^16 + 32830*q^14 - 2142*q^12 - 121450*q^10 + 28240*q^8 + 135290*q^6 - 88578*q^4 + 8370*q^2 + 2025)*sqrt(q)/(3*q^17 + 20*q^15 + 25*q^13)\n",
    "B[5][1][1]=-1/196608*(291600*q^34 + 2907900*q^32 + 32753160*q^30 + 149869395*q^28 - 96175800*q^26 - 1388122677*q^24 - 1816814730*q^22 - 673012947*q^20 - 2204709010*q^18 - 4183229964*q^16 - 2019366082*q^14 - 127366501*q^12 - 1024292202*q^10 - 1272297663*q^8 - 404176500*q^6 + 54476469*q^4 + 49965660*q^2 + 6779700)/(2700*q^26 + 24945*q^24 + 73990*q^22 + 93072*q^20 + 46690*q^18 + 1267*q^16 - 5220*q^14 - 900*q^12)\n",
    "B[5][1][3]=1/196608*(576*q^16 + 8184*q^14 + 17094*q^12 + 22645*q^10 + 2281*q^8 + 23658*q^6 + 7776*q^4 + 22761*q^2 + 2673)/(4*q^12 + 3*q^10)\n",
    "B[5][1][5]=1/196608*(60*q^12 + 1728*q^10 + 781*q^8 + 16476*q^6 - 4158*q^4 - 4212*q^2 - 243)/(4*q^12 + 3*q^10)\n",
    "B[5][3][1]=-3/65536*(20*q^18 - 1386*q^16 + 1159*q^14 + 17385*q^12 - 1473*q^10 - 24611*q^8 + 13245*q^6 + 5427*q^4 + 12393*q^2 + 2673)/(q^12 + 3*q^10)\n",
    "B[5][3][3]=3/65536*(216*q^22 - 570*q^20 - 18933*q^18 - 71519*q^16 - 100329*q^14 - 35063*q^12 + 38725*q^10 - 123273*q^8 - 114291*q^6 - 157707*q^4 - 125388*q^2 - 43740)/(4*q^18 + 35*q^16 + 84*q^14 + 45*q^12)\n",
    "B[5][3][5]=-3/65536*(320*q^16 + 1737*q^14 - 4390*q^12 - 8591*q^10 + 157370*q^8 + 25203*q^6 + 112590*q^4 + 62451*q^2 + 2430)/(36*q^16 + 215*q^14 + 181*q^12 + 30*q^10)\n",
    "B[5][5][1]=5/196608*(108*q^22 + 648*q^20 - 3735*q^18 + 5853*q^16 + 84492*q^14 + 18828*q^12 - 256546*q^10 - 31890*q^8 + 169632*q^6 + 96228*q^4 + 37665*q^2 + 3645)/(5*q^14 + 18*q^12 + 9*q^10)\n",
    "B[5][5][3]=-5/196608*(342*q^22 + 1257*q^20 + 2085*q^18 - 31430*q^16 - 390368*q^14 - 350282*q^12 + 1479350*q^10 + 570136*q^8 - 1001838*q^6 - 419175*q^4 + 146205*q^2 + 12150)/(5*q^18 + 45*q^16 + 113*q^14 + 59*q^12 - 30*q^10)\n",
    "B[5][5][5]=5/196608*(45*q^16 - 150*q^14 - 570*q^12 + 2618*q^10 - 3896*q^8 - 498*q^6 + 25866*q^4 + 8910*q^2 + 6075)/(3*q^16 + 20*q^14 + 25*q^12)\n",
    "\n"
   ]
  },
  {
   "cell_type": "code",
   "execution_count": 437,
   "metadata": {},
   "outputs": [],
   "source": [
    "#test values using random numbers\n",
    "#eps=0.09655585; x=0.732980018; t=0.410875873;q=0.855298308;\n",
    "#B[1][0][0]=0.0491999314581644; B[1][0][1]=0.0447561933639101; B[1][0][2]=0.0556455330285278; B[1][0][3]=0.0457529602073478; B[1][0][4]=0.0883704633227161; B[1][1][0]=0.0763232927068789; B[1][1][1]=0.0118161591926117; B[1][1][2]=0.0584289757894429; B[1][1][3]=0.0916969107130772; B[1][1][4]=0.0663084519382656; B[1][2][0]=0.022488813718504; B[1][2][1]=0.0257476782199443; B[1][2][2]=0.0893037150389741; B[1][2][3]=0.0129877552252526; B[1][2][4]=0.0284248861896567; B[1][3][0]=0.0570502502041814; B[1][3][1]=0.0376319511835322; B[1][3][2]=0.0490774049796997; B[1][3][3]=0.0933471687427125; B[1][3][4]=0.0132206811287945; B[1][4][0]=0.0921228026473658; B[1][4][1]=0.0253021485351913; B[1][4][2]=0.094160950165472; B[1][4][3]=0.0560315377789045; B[1][4][4]=0.0519305778896285; B[2][0][0]=0.00725133466249769; B[2][0][1]=0.0438656230357593; B[2][0][2]=0.00453200201194888; B[2][0][3]=0.0277102896118258; B[2][0][4]=0.0785194378226813; B[2][1][0]=0.0531469036549305; B[2][1][1]=0.0716064623277494; B[2][1][2]=0.089445316431904; B[2][1][3]=0.0490543967927725; B[2][1][4]=0.0780293253662148; B[2][2][0]=0.0795259989309074; B[2][2][1]=0.0232425758334616; B[2][2][2]=0.0782549595579358; B[2][2][3]=0.0284497032120721; B[2][2][4]=0.0826425530696766; B[2][3][0]=0.0530359645887037; B[2][3][1]=0.0951872539784368; B[2][3][2]=0.0862352741496765; B[2][3][3]=0.022697292424657; B[2][3][4]=0.0231790347504821; B[2][4][0]=0.00747751448859487; B[2][4][1]=0.0717275925075151; B[2][4][2]=0.0900578308311246; B[2][4][3]=0.0777955689048755; B[2][4][4]=0.061574095661505; B[3][0][0]=0.0262678052174165; B[3][0][1]=0.0640873968784798; B[3][0][2]=0.0623738705765069; B[3][0][3]=0.0500906643766929; B[3][0][4]=0.0606827930168621; B[3][1][0]=0.0529919695142847; B[3][1][1]=0.00858898183443483; B[3][1][2]=0.0474648160436631; B[3][1][3]=0.0670625119865214; B[3][1][4]=0.0630080330929272; B[3][2][0]=0.0931387997256303; B[3][2][1]=0.0465482892883537; B[3][2][2]=0.0729462208270127; B[3][2][3]=0.0232625360341735; B[3][2][4]=0.0151686691238193; B[3][3][0]=0.0256137399463823; B[3][3][1]=0.0141895049469291; B[3][3][2]=0.00481196566525629; B[3][3][3]=0.0271502988454064; B[3][3][4]=0.0996825135791494; B[3][4][0]=0.0376758002113681; B[3][4][1]=0.0385528379700459; B[3][4][2]=0.0282170724686778; B[3][4][3]=0.0536629806744552; B[3][4][4]=0.0247183230564173; B[4][0][0]=0.0838625717221909; B[4][0][1]=0.0870198692713058; B[4][0][2]=0.0328820875029629; B[4][0][3]=0.0744759626326988; B[4][0][4]=0.0532637107423398; B[4][1][0]=0.0146988401625985; B[4][1][1]=0.0514396095191131; B[4][1][2]=0.0712956608311096; B[4][1][3]=0.085100870282988; B[4][1][4]=0.0817449926333286; B[4][2][0]=0.0864751338948398; B[4][2][1]=0.0380986388561475; B[4][2][2]=0.0586595112160479; B[4][2][3]=0.0372380096941676; B[4][2][4]=0.0788070268757798; B[4][3][0]=0.0670047874408872; B[4][3][1]=0.0535851542829384; B[4][3][2]=0.0242172787902506; B[4][3][3]=0.0927262302050944; B[4][3][4]=0.0981153153912723; B[4][4][0]=0.0596967160542444; B[4][4][1]=0.00172835427531616; B[4][4][2]=0.0582051039595398; B[4][4][3]=0.057186217355038; B[4][4][4]=0.0693124426560077; A[1][0][0]=0.617423255465407; A[1][0][1]=0.257009048171471; A[1][0][2]=0.38642261068729; A[1][0][3]=0.174269223241593; A[1][0][4]=0.0053870652750786; A[1][1][0]=0.251551207100016; A[1][1][1]=0.575598945562618; A[1][1][2]=0.295342440691543; A[1][1][3]=0.962650889338395; A[1][1][4]=0.603492110289145; A[1][2][0]=0.825394117420297; A[1][2][1]=0.752320028482762; A[1][2][2]=0.352266537519445; A[1][2][3]=0.650058138773025; A[1][2][4]=0.401589206963179; A[1][3][0]=0.967018513602477; A[1][3][1]=0.688114370587765; A[1][3][2]=0.546143466279017; A[1][3][3]=0.0201726462479221; A[1][3][4]=0.788113594717659; A[1][4][0]=0.537282727817224; A[1][4][1]=0.0298673529459473; A[1][4][2]=0.705496360153237; A[1][4][3]=0.940295739948644; A[1][4][4]=0.339716943173892; A[2][0][0]=0.672565938516477; A[2][0][1]=0.28856023653759; A[2][0][2]=0.56037632016687; A[2][0][3]=0.122928159704085; A[2][0][4]=0.357561062206121; A[2][1][0]=0.8829210721704; A[2][1][1]=0.779689084131013; A[2][1][2]=0.53278319513664; A[2][1][3]=0.73449413337937; A[2][1][4]=0.222360790466385; A[2][2][0]=0.457992572710362; A[2][2][1]=0.178823489052646; A[2][2][2]=0.553723323004517; A[2][2][3]=0.566740522408626; A[2][2][4]=0.159809207351045; A[2][3][0]=0.519612056831335; A[2][3][1]=0.851585950434843; A[2][3][2]=0.696103714852881; A[2][3][3]=0.47671938882397; A[2][3][4]=0.886647500759511; A[2][4][0]=0.960838777541108; A[2][4][1]=0.885977166258689; A[2][4][2]=0.542122430439555; A[2][4][3]=0.760189017980959; A[2][4][4]=0.297003528531777; A[3][0][0]=0.552516244982675; A[3][0][1]=0.825570242681913; A[3][0][2]=0.586704895052455; A[3][0][3]=0.951201011110277; A[3][0][4]=0.833351890950857; A[3][1][0]=0.685237085411197; A[3][1][1]=0.487407346309159; A[3][1][2]=0.352322593945295; A[3][1][3]=0.874256497406186; A[3][1][4]=0.489908686936282; A[3][2][0]=0.258243811933929; A[3][2][1]=0.887396309087636; A[3][2][2]=0.274972383481735; A[3][2][3]=0.375098571911631; A[3][2][4]=0.266467375531832; A[3][3][0]=0.474429459586108; A[3][3][1]=0.676451702054947; A[3][3][2]=0.44964380201146; A[3][3][3]=0.837716087645088; A[3][3][4]=0.904673390424294; A[3][4][0]=0.0326799876027237; A[3][4][1]=0.326041031537077; A[3][4][2]=0.93311055027931; A[3][4][3]=0.727877822087956; A[3][4][4]=0.623722456648827; A[4][0][0]=0.392975500671965; A[4][0][1]=0.963342417286011; A[4][0][2]=0.893583223446978; A[4][0][3]=0.651368239991513; A[4][0][4]=0.271882098262153; A[4][1][0]=0.838567236567033; A[4][1][1]=0.308475697313165; A[4][1][2]=0.917868478217743; A[4][1][3]=0.348793784724319; A[4][1][4]=0.110656069782055; A[4][2][0]=0.28509277611661; A[4][2][1]=0.4498158050822; A[4][2][2]=0.0289764943969338; A[4][2][3]=0.66275740790558; A[4][2][4]=0.122017543107221; A[4][3][0]=0.126822811157095; A[4][3][1]=0.473920860782843; A[4][3][2]=0.92344933651749; A[4][3][3]=0.173198260305378; A[4][3][4]=0.203793984563722; A[4][4][0]=0.453341208926663; A[4][4][1]=0.962007584471464; A[4][4][2]=0.528831358716766; A[4][4][3]=0.985402403068652; A[4][4][4]=0.710066824301812; C[1]=0.173877213228345; C[2]=0.619787287086215; C[3]=0.657160772869084; C[4]=0.517340645532323;\n",
    "#D[1] = 0.173877213228345; D[2] = 0.119787287086215; \n",
    "#D[3] = 0.157160772869084; D[4] = 0.117340645532323;"
   ]
  },
  {
   "cell_type": "code",
   "execution_count": 438,
   "metadata": {},
   "outputs": [
    {
     "name": "stdout",
     "output_type": "stream",
     "text": [
      "(sqrt(q), 0, -1/64*(2*q^6 + 3*q^4 + 12*q^2 - 9)/q^(7/2), 0, -1/16384*(12*q^16 - 176*q^14 - 681*q^12 + 201*q^10 + 279*q^8 - 978*q^6 - 279*q^4 + 513*q^2 + 405)/q^(19/2))\n"
     ]
    }
   ],
   "source": [
    "print(C[1],C[2],C[3],C[4],C[5])"
   ]
  },
  {
   "cell_type": "code",
   "execution_count": 439,
   "metadata": {},
   "outputs": [
    {
     "name": "stdout",
     "output_type": "stream",
     "text": [
      "fq values\n",
      "('j=0', 0) ('j=1', q) ('j=2', 2*q/(q^2 + 1)) ('j=3', (q^3 + 3*q)/(3*q^2 + 1)) ('j=4', 4*(q^3 + q)/(q^4 + 6*q^2 + 1)) ('j=5', (q^5 + 10*q^3 + 5*q)/(5*q^4 + 10*q^2 + 1))\n"
     ]
    }
   ],
   "source": [
    "def fw(N):\n",
    "    temp=0\n",
    "    for i in range(1,N+1):\n",
    "        temp=temp+C[i]*eps^(i-1)\n",
    "    return temp\n",
    "\n",
    "def fB(N):\n",
    "    temp=0\n",
    "    for i in range(1,N+1):\n",
    "        temp=temp+D[i]*eps^i\n",
    "    return temp\n",
    "\n",
    "def fq(j,q):\n",
    "    return tanh(j*arctanh(q)).trig_expand()\n",
    "\n",
    "print(\"fq values\")\n",
    "for j in range(6):\n",
    "    print('j='+str(j),fq(j,q)),"
   ]
  },
  {
   "cell_type": "code",
   "execution_count": 440,
   "metadata": {},
   "outputs": [],
   "source": [
    "def f_eta(x,t,N):\n",
    "    temp=0\n",
    "    for i in range(1,N+1):#counter one more than necessary\n",
    "        for j in range(i+1):\n",
    "            for m in range(i+1):\n",
    "                temp=temp+eps^i*B[i][j][m]*cos(j*x)*cos(m*t)\n",
    "    return temp\n",
    "\n",
    "def f_eta_t(x,t,N):\n",
    "    temp=0\n",
    "    for i in range(1,N+1):\n",
    "        for j in range(i+1):\n",
    "            for m in range(i+1):\n",
    "                temp=temp-m*fw(N-i+1)*eps^i*B[i][j][m]*cos(j*x)*sin(m*t)\n",
    "    return temp\n",
    "\n",
    "def f_eta_x(x,t,N):\n",
    "    temp=0\n",
    "    for i in range(1,N+1):\n",
    "        for j in range(i+1):\n",
    "            for m in range(i+1):\n",
    "                temp=temp-j*eps^i*B[i][j][m]*sin(j*x)*cos(m*t)\n",
    "    return temp"
   ]
  },
  {
   "cell_type": "code",
   "execution_count": 441,
   "metadata": {},
   "outputs": [],
   "source": [
    "def fcosh(x,t,N,i,j):\n",
    "    temp1=1\n",
    "    temp2=0    \n",
    "    for nn in range(1,N):\n",
    "        temp00=f_eta(x,t,floor((N-i)/nn+1))\n",
    "        if mod(nn,2)==0:\n",
    "            temp1=temp1+(1+(-1)^nn)/2/factorial(nn)*(j*temp00)^nn\n",
    "        if mod(nn,2)==1:\n",
    "            temp2=temp2+(1-(-1)^nn)/2/factorial(nn)*(j*temp00)^nn\n",
    "    return temp1+temp2*fq(j,q)\n",
    "\n",
    "def fcoshP(x,t,N,i,j):\n",
    "    temp1=1\n",
    "    temp2=0    \n",
    "    for nn in range(1,N):\n",
    "        temp00=f_eta(x,t,floor((N-i)/nn+1))\n",
    "        if mod(nn,2)==0:\n",
    "            temp1=temp1+(1+(-1)^nn)/2/factorial(nn)*(j*temp00)^nn\n",
    "        if mod(nn,2)==1:\n",
    "            temp2=temp2+(1-(-1)^nn)/2/factorial(nn)*(j*temp00)^nn\n",
    "    return temp2+temp1*fq(j,q)"
   ]
  },
  {
   "cell_type": "code",
   "execution_count": 442,
   "metadata": {},
   "outputs": [],
   "source": [
    "def f_phi(x,t,N):\n",
    "    temp=0\n",
    "    for i in range(1,N+1): \n",
    "        for j in range(i+1):\n",
    "            for m in range(i+1):\n",
    "                temp=temp+eps^i*A[i][j][m]*cos(j*x)*sin(m*t)*fcosh(x,t,N,i,j)\n",
    "    return temp\n",
    "\n",
    "def f_phi_t(x,t,N):\n",
    "    temp=0\n",
    "    for i in range(1,N+1): \n",
    "        for j in range(i+1):\n",
    "            for m in range(i+1):\n",
    "                temp=temp+eps^i*m*fw(N-i+1)*A[i][j][m]*cos(j*x)*cos(m*t)*fcosh(x,t,N,i,j)\n",
    "    return temp\n",
    "\n",
    "def f_u(x,t,N):\n",
    "    temp=0\n",
    "    for i in range(1,N+1): \n",
    "        for j in range(i+1):\n",
    "            for m in range(i+1):\n",
    "                temp=temp-eps^i*j*A[i][j][m]*sin(j*x)*sin(m*t)*fcosh(x,t,N,i,j)\n",
    "    return temp\n",
    "\n",
    "def f_w(x,t,N):\n",
    "    temp=0\n",
    "    for i in range(1,N+1): \n",
    "        for j in range(i+1):\n",
    "            for m in range(i+1):\n",
    "                temp=temp+j*eps^i*A[i][j][m]*cos(j*x)*sin(m*t)*fcoshP(x,t,N,i,j)\n",
    "    return temp"
   ]
  },
  {
   "cell_type": "code",
   "execution_count": 443,
   "metadata": {},
   "outputs": [
    {
     "data": {
      "text/plain": [
       "0"
      ]
     },
     "execution_count": 443,
     "metadata": {},
     "output_type": "execute_result"
    }
   ],
   "source": [
    "#lateral boundary conditions yield nothing:\n",
    "f_phi(x,t,5)-f_phi(x,t+2*pi,5)"
   ]
  },
  {
   "cell_type": "code",
   "execution_count": 444,
   "metadata": {},
   "outputs": [
    {
     "data": {
      "text/plain": [
       "0"
      ]
     },
     "execution_count": 444,
     "metadata": {},
     "output_type": "execute_result"
    }
   ],
   "source": [
    "f_phi(x,t,5)-f_phi(x+2*pi,t,5)"
   ]
  },
  {
   "cell_type": "code",
   "execution_count": 445,
   "metadata": {},
   "outputs": [
    {
     "data": {
      "text/plain": [
       "0"
      ]
     },
     "execution_count": 445,
     "metadata": {},
     "output_type": "execute_result"
    }
   ],
   "source": [
    "f_eta(x,t,5)-f_eta(x+2*pi,t,5)"
   ]
  },
  {
   "cell_type": "code",
   "execution_count": 446,
   "metadata": {},
   "outputs": [
    {
     "data": {
      "text/plain": [
       "0"
      ]
     },
     "execution_count": 446,
     "metadata": {},
     "output_type": "execute_result"
    }
   ],
   "source": [
    "f_eta(x,t,5)-f_eta(x,t+2*pi,5)"
   ]
  },
  {
   "cell_type": "code",
   "execution_count": 447,
   "metadata": {
    "scrolled": true
   },
   "outputs": [
    {
     "data": {
      "text/plain": [
       "0"
      ]
     },
     "execution_count": 447,
     "metadata": {},
     "output_type": "execute_result"
    }
   ],
   "source": [
    "#continuity equation\n",
    "integral(f_eta(x,t,5),x,0,2*pi)"
   ]
  },
  {
   "cell_type": "code",
   "execution_count": 448,
   "metadata": {},
   "outputs": [],
   "source": [
    "for i in range(1,5+1):\n",
    "    for j in range(5+1):\n",
    "        for m in range(5+1):\n",
    "            if j==0:\n",
    "                B[i][j][m]=0\n",
    "                vars()['bb_'+str(i)+'_'+str(j)+'_'+str(m)]=0\n",
    "            #additional constraints\n",
    "            if m==0:\n",
    "                A[i][j][m]=0\n",
    "                vars()['aa_'+str(i)+'_'+str(j)+'_'+str(m)]=0                \n",
    "            if mod(j+m,2)==1 or mod(i+j,2)==1 or mod(i+m,2)==1:\n",
    "                B[i][j][m]=0\n",
    "                vars()['bb_'+str(i)+'_'+str(j)+'_'+str(m)]=0\n",
    "                A[i][j][m]=0\n",
    "                vars()['aa_'+str(i)+'_'+str(j)+'_'+str(m)]=0                "
   ]
  },
  {
   "cell_type": "code",
   "execution_count": null,
   "metadata": {},
   "outputs": [],
   "source": []
  },
  {
   "cell_type": "code",
   "execution_count": null,
   "metadata": {},
   "outputs": [],
   "source": []
  },
  {
   "cell_type": "code",
   "execution_count": null,
   "metadata": {},
   "outputs": [],
   "source": []
  },
  {
   "cell_type": "code",
   "execution_count": null,
   "metadata": {},
   "outputs": [],
   "source": []
  },
  {
   "cell_type": "code",
   "execution_count": null,
   "metadata": {},
   "outputs": [],
   "source": []
  },
  {
   "cell_type": "code",
   "execution_count": 449,
   "metadata": {},
   "outputs": [],
   "source": [
    "######################################################################################################"
   ]
  },
  {
   "cell_type": "code",
   "execution_count": 450,
   "metadata": {},
   "outputs": [],
   "source": [
    "######################################################################################################"
   ]
  },
  {
   "cell_type": "code",
   "execution_count": 451,
   "metadata": {},
   "outputs": [],
   "source": [
    "##############################           order 1                   ###################################"
   ]
  },
  {
   "cell_type": "code",
   "execution_count": 452,
   "metadata": {},
   "outputs": [],
   "source": [
    "######################################################################################################"
   ]
  },
  {
   "cell_type": "code",
   "execution_count": 453,
   "metadata": {},
   "outputs": [],
   "source": [
    "######################################################################################################"
   ]
  },
  {
   "cell_type": "code",
   "execution_count": 454,
   "metadata": {},
   "outputs": [],
   "source": [
    "######################################################################################################"
   ]
  },
  {
   "cell_type": "code",
   "execution_count": 455,
   "metadata": {},
   "outputs": [],
   "source": [
    "##############################         verify-O1          ###################################"
   ]
  },
  {
   "cell_type": "code",
   "execution_count": 456,
   "metadata": {},
   "outputs": [
    {
     "data": {
      "text/plain": [
       "0"
      ]
     },
     "execution_count": 456,
     "metadata": {},
     "output_type": "execute_result"
    }
   ],
   "source": [
    "#eq_a1\n",
    "(f_eta_t(x,t,1)-f_w(x,t,1)).expand().coefficient(eps,1)"
   ]
  },
  {
   "cell_type": "code",
   "execution_count": 457,
   "metadata": {},
   "outputs": [
    {
     "data": {
      "text/plain": [
       "0"
      ]
     },
     "execution_count": 457,
     "metadata": {},
     "output_type": "execute_result"
    }
   ],
   "source": [
    "#eq_ct_1=\n",
    "(f_phi_t(x,t,1,)+f_eta(x,t,1)-fB(1)).expand().coefficient(eps,1)"
   ]
  },
  {
   "cell_type": "code",
   "execution_count": 458,
   "metadata": {},
   "outputs": [],
   "source": [
    "######################################################################################################"
   ]
  },
  {
   "cell_type": "code",
   "execution_count": 459,
   "metadata": {},
   "outputs": [],
   "source": [
    "######################################################################################################"
   ]
  },
  {
   "cell_type": "code",
   "execution_count": 460,
   "metadata": {},
   "outputs": [],
   "source": [
    "##############################           order 2                   ###################################"
   ]
  },
  {
   "cell_type": "code",
   "execution_count": 461,
   "metadata": {},
   "outputs": [],
   "source": [
    "######################################################################################################"
   ]
  },
  {
   "cell_type": "code",
   "execution_count": 462,
   "metadata": {},
   "outputs": [],
   "source": [
    "######################################################################################################"
   ]
  },
  {
   "cell_type": "code",
   "execution_count": 463,
   "metadata": {},
   "outputs": [],
   "source": [
    "#######################         wave height constraint order 2           ############################"
   ]
  },
  {
   "cell_type": "code",
   "execution_count": 464,
   "metadata": {},
   "outputs": [
    {
     "name": "stdout",
     "output_type": "stream",
     "text": [
      "0\n"
     ]
    }
   ],
   "source": [
    "eq_aa20=expand((f_eta(0,0,2)-f_eta(pi,0,2)-2*eps)/(2*eps^2))\n",
    "print(eq_aa20)"
   ]
  },
  {
   "cell_type": "code",
   "execution_count": 465,
   "metadata": {},
   "outputs": [
    {
     "name": "stdout",
     "output_type": "stream",
     "text": [
      "0\n"
     ]
    }
   ],
   "source": [
    "eq_aa21=expand((f_eta(0,0,2)-f_eta(0,pi,2)-2*eps)/(2*eps^2))\n",
    "print(eq_aa21)"
   ]
  },
  {
   "cell_type": "code",
   "execution_count": null,
   "metadata": {},
   "outputs": [],
   "source": []
  },
  {
   "cell_type": "code",
   "execution_count": 466,
   "metadata": {},
   "outputs": [
    {
     "data": {
      "text/plain": [
       "0"
      ]
     },
     "execution_count": 466,
     "metadata": {},
     "output_type": "execute_result"
    }
   ],
   "source": [
    "#eq_aa20=\n",
    "expand((f_eta(0,0,2)-f_eta(pi,0,2)-2*eps)/(2*eps^2))"
   ]
  },
  {
   "cell_type": "code",
   "execution_count": 467,
   "metadata": {},
   "outputs": [
    {
     "data": {
      "text/plain": [
       "0"
      ]
     },
     "execution_count": 467,
     "metadata": {},
     "output_type": "execute_result"
    }
   ],
   "source": [
    "#eq_aa21=\n",
    "expand((f_eta(0,0,2)-f_eta(0,pi,2)-2*eps)/(2*eps^2))"
   ]
  },
  {
   "cell_type": "code",
   "execution_count": 468,
   "metadata": {},
   "outputs": [],
   "source": [
    "#################################### verify kinematic BC - o2 #####################################"
   ]
  },
  {
   "cell_type": "code",
   "execution_count": 469,
   "metadata": {},
   "outputs": [],
   "source": [
    "#eq_aa1=\n",
    "expr=f_eta_t(x,t,2)+f_u(x,t,1)*f_eta_x(x,t,1)-f_w(x,t,2)"
   ]
  },
  {
   "cell_type": "code",
   "execution_count": 470,
   "metadata": {},
   "outputs": [],
   "source": [
    "expr1=expr.expand().coefficients(eps)"
   ]
  },
  {
   "cell_type": "code",
   "execution_count": 471,
   "metadata": {},
   "outputs": [
    {
     "name": "stdout",
     "output_type": "stream",
     "text": [
      "2\n",
      "3\n"
     ]
    }
   ],
   "source": [
    "#suppress to save memory\n",
    "#expr1\n",
    "for i in range(len(expr1)):\n",
    "    print(expr1[i][1])"
   ]
  },
  {
   "cell_type": "code",
   "execution_count": 472,
   "metadata": {},
   "outputs": [
    {
     "name": "stdout",
     "output_type": "stream",
     "text": [
      "0\n"
     ]
    }
   ],
   "source": [
    "expr2=expr1[0][0]\n",
    "print(expr2.simplify_full())"
   ]
  },
  {
   "cell_type": "code",
   "execution_count": 473,
   "metadata": {},
   "outputs": [],
   "source": [
    "#################################### verify dynamic BC - o2 #####################################"
   ]
  },
  {
   "cell_type": "code",
   "execution_count": 474,
   "metadata": {},
   "outputs": [],
   "source": [
    "eq_aa30=f_phi_t(x,t,2)+1/2*(f_u(x,t,2)^2+f_w(x,t,2)^2)+f_eta(x,t,2)-fB(2)"
   ]
  },
  {
   "cell_type": "code",
   "execution_count": 475,
   "metadata": {},
   "outputs": [],
   "source": [
    "expr1=eq_aa30.expand().coefficients(eps)"
   ]
  },
  {
   "cell_type": "code",
   "execution_count": 476,
   "metadata": {},
   "outputs": [
    {
     "name": "stdout",
     "output_type": "stream",
     "text": [
      "2\n",
      "3\n",
      "4\n",
      "5\n",
      "6\n"
     ]
    }
   ],
   "source": [
    "for i in range(len(expr1)):\n",
    "    print(expr1[i][1])"
   ]
  },
  {
   "cell_type": "code",
   "execution_count": 477,
   "metadata": {},
   "outputs": [
    {
     "name": "stdout",
     "output_type": "stream",
     "text": [
      "0\n"
     ]
    }
   ],
   "source": [
    "expr2=expr1[0][0]\n",
    "print(expr2.simplify_full())"
   ]
  },
  {
   "cell_type": "code",
   "execution_count": 478,
   "metadata": {},
   "outputs": [],
   "source": [
    "######################################################################################################\n",
    "######################################################################################################\n",
    "######################################################################################################\n",
    "##############################           order 3                   ###################################\n",
    "######################################################################################################\n",
    "######################################################################################################\n",
    "######################################################################################################"
   ]
  },
  {
   "cell_type": "code",
   "execution_count": 479,
   "metadata": {},
   "outputs": [],
   "source": [
    "#BCs"
   ]
  },
  {
   "cell_type": "code",
   "execution_count": 480,
   "metadata": {},
   "outputs": [],
   "source": [
    "#######################         wave height constraint order 3           ############################"
   ]
  },
  {
   "cell_type": "code",
   "execution_count": 481,
   "metadata": {},
   "outputs": [],
   "source": [
    "eq_aa20=expand((f_eta(0,0,3)-f_eta(pi,0,3)-2*eps)/(2*eps^3))"
   ]
  },
  {
   "cell_type": "code",
   "execution_count": 482,
   "metadata": {},
   "outputs": [
    {
     "data": {
      "text/plain": [
       "0"
      ]
     },
     "execution_count": 482,
     "metadata": {},
     "output_type": "execute_result"
    }
   ],
   "source": [
    "eq_aa20"
   ]
  },
  {
   "cell_type": "code",
   "execution_count": 483,
   "metadata": {},
   "outputs": [],
   "source": [
    "eq_aa21=expand((f_eta(0,0,3)-f_eta(0,pi,3)-2*eps)/(2*eps^3))"
   ]
  },
  {
   "cell_type": "code",
   "execution_count": 484,
   "metadata": {},
   "outputs": [
    {
     "data": {
      "text/plain": [
       "0"
      ]
     },
     "execution_count": 484,
     "metadata": {},
     "output_type": "execute_result"
    }
   ],
   "source": [
    "eq_aa21"
   ]
  },
  {
   "cell_type": "code",
   "execution_count": 485,
   "metadata": {},
   "outputs": [],
   "source": [
    "##############################      verify lateral - O3          ###################################"
   ]
  },
  {
   "cell_type": "code",
   "execution_count": 486,
   "metadata": {},
   "outputs": [
    {
     "data": {
      "text/plain": [
       "0"
      ]
     },
     "execution_count": 486,
     "metadata": {},
     "output_type": "execute_result"
    }
   ],
   "source": [
    "#eq_aa20=\n",
    "expand((f_eta(0,0,3)-f_eta(pi,0,3)-2*eps)/(2*eps^3))"
   ]
  },
  {
   "cell_type": "code",
   "execution_count": 487,
   "metadata": {},
   "outputs": [
    {
     "data": {
      "text/plain": [
       "0"
      ]
     },
     "execution_count": 487,
     "metadata": {},
     "output_type": "execute_result"
    }
   ],
   "source": [
    "#eq_aa21=\n",
    "expand((f_eta(0,0,3)-f_eta(0,pi,3)-2*eps)/(2*eps^3))"
   ]
  },
  {
   "cell_type": "code",
   "execution_count": 488,
   "metadata": {},
   "outputs": [],
   "source": [
    "#################################### verify kinematic BC - o3 #####################################"
   ]
  },
  {
   "cell_type": "code",
   "execution_count": 489,
   "metadata": {},
   "outputs": [],
   "source": [
    "#eq_aa1=\n",
    "expr1=f_eta_t(x,t,3)+f_u(x,t,2)*f_eta_x(x,t,2)-f_w(x,t,3)"
   ]
  },
  {
   "cell_type": "code",
   "execution_count": 490,
   "metadata": {},
   "outputs": [],
   "source": [
    "expr=expr1.simplify_full().coefficients(eps)"
   ]
  },
  {
   "cell_type": "code",
   "execution_count": 491,
   "metadata": {},
   "outputs": [],
   "source": [
    "#suppress to save memory\n",
    "#expr"
   ]
  },
  {
   "cell_type": "code",
   "execution_count": 492,
   "metadata": {},
   "outputs": [
    {
     "name": "stdout",
     "output_type": "stream",
     "text": [
      "4\n",
      "5\n"
     ]
    }
   ],
   "source": [
    "for i in range(len(expr)):\n",
    "    print(expr[i][1])"
   ]
  },
  {
   "cell_type": "code",
   "execution_count": 493,
   "metadata": {},
   "outputs": [],
   "source": [
    "#################################### verify dynamic BC - o3 #####################################"
   ]
  },
  {
   "cell_type": "code",
   "execution_count": 494,
   "metadata": {},
   "outputs": [],
   "source": [
    "#eq_aa30=\n",
    "expr1=f_phi_t(x,t,3)+1/2*(f_u(x,t,2)^2+f_w(x,t,2)^2)+f_eta(x,t,3)-fB(3)"
   ]
  },
  {
   "cell_type": "code",
   "execution_count": 495,
   "metadata": {},
   "outputs": [],
   "source": [
    "expr=expr1.simplify_full().coefficients(eps)"
   ]
  },
  {
   "cell_type": "code",
   "execution_count": 496,
   "metadata": {},
   "outputs": [],
   "source": [
    "#suppress to save memory\n",
    "#expr"
   ]
  },
  {
   "cell_type": "code",
   "execution_count": 497,
   "metadata": {},
   "outputs": [
    {
     "name": "stdout",
     "output_type": "stream",
     "text": [
      "4\n",
      "5\n",
      "6\n",
      "7\n"
     ]
    }
   ],
   "source": [
    "for i in range(len(expr)):\n",
    "    print(expr[i][1])"
   ]
  },
  {
   "cell_type": "code",
   "execution_count": 498,
   "metadata": {},
   "outputs": [],
   "source": [
    "######################################################################################################\n",
    "######################################################################################################\n",
    "######################################################################################################\n",
    "##############################           order 4                   ###################################\n",
    "######################################################################################################\n",
    "######################################################################################################\n",
    "######################################################################################################"
   ]
  },
  {
   "cell_type": "code",
   "execution_count": 499,
   "metadata": {},
   "outputs": [],
   "source": [
    "#BCs"
   ]
  },
  {
   "cell_type": "code",
   "execution_count": 500,
   "metadata": {},
   "outputs": [],
   "source": [
    "#######################         wave height constraint order 4           ############################"
   ]
  },
  {
   "cell_type": "code",
   "execution_count": 501,
   "metadata": {},
   "outputs": [],
   "source": [
    "eq_aa20=expand((f_eta(0,0,4)-f_eta(pi,0,4)-2*eps)/(2*eps^4))"
   ]
  },
  {
   "cell_type": "code",
   "execution_count": 502,
   "metadata": {},
   "outputs": [
    {
     "data": {
      "text/plain": [
       "0"
      ]
     },
     "execution_count": 502,
     "metadata": {},
     "output_type": "execute_result"
    }
   ],
   "source": [
    "eq_aa20"
   ]
  },
  {
   "cell_type": "code",
   "execution_count": 503,
   "metadata": {},
   "outputs": [],
   "source": [
    "eq_aa21=expand((f_eta(0,0,4)-f_eta(0,pi,4)-2*eps)/(2*eps^4))"
   ]
  },
  {
   "cell_type": "code",
   "execution_count": 504,
   "metadata": {},
   "outputs": [
    {
     "data": {
      "text/plain": [
       "0"
      ]
     },
     "execution_count": 504,
     "metadata": {},
     "output_type": "execute_result"
    }
   ],
   "source": [
    "eq_aa21"
   ]
  },
  {
   "cell_type": "code",
   "execution_count": null,
   "metadata": {},
   "outputs": [],
   "source": []
  },
  {
   "cell_type": "code",
   "execution_count": 505,
   "metadata": {},
   "outputs": [
    {
     "data": {
      "text/plain": [
       "0"
      ]
     },
     "execution_count": 505,
     "metadata": {},
     "output_type": "execute_result"
    }
   ],
   "source": [
    "#eq_aa20=\n",
    "expand((f_eta(0,0,4)-f_eta(pi,0,4)-2*eps)/(2*eps^4))"
   ]
  },
  {
   "cell_type": "code",
   "execution_count": 506,
   "metadata": {},
   "outputs": [
    {
     "data": {
      "text/plain": [
       "0"
      ]
     },
     "execution_count": 506,
     "metadata": {},
     "output_type": "execute_result"
    }
   ],
   "source": [
    "#eq_aa21=\n",
    "expand((f_eta(0,0,4)-f_eta(0,pi,4)-2*eps)/(2*eps^4))"
   ]
  },
  {
   "cell_type": "code",
   "execution_count": 507,
   "metadata": {},
   "outputs": [],
   "source": [
    "#################################### verify kinematic BC - o4 #####################################"
   ]
  },
  {
   "cell_type": "code",
   "execution_count": 508,
   "metadata": {},
   "outputs": [
    {
     "name": "stdout",
     "output_type": "stream",
     "text": [
      "5\n",
      "6\n",
      "7\n",
      "8\n"
     ]
    }
   ],
   "source": [
    "expr=(f_eta_t(x,t,4)+f_u(x,t,3)*f_eta_x(x,t,3)-f_w(x,t,4)).simplify_full().coefficients(eps)\n",
    "for i in range(len(expr)):\n",
    "    print(expr[i][1])"
   ]
  },
  {
   "cell_type": "code",
   "execution_count": 509,
   "metadata": {},
   "outputs": [],
   "source": [
    "#################################### verify dynamic BC - o4 #####################################"
   ]
  },
  {
   "cell_type": "code",
   "execution_count": 510,
   "metadata": {
    "scrolled": true
   },
   "outputs": [
    {
     "name": "stdout",
     "output_type": "stream",
     "text": [
      "5\n",
      "6\n",
      "7\n",
      "8\n",
      "9\n",
      "10\n"
     ]
    }
   ],
   "source": [
    "expr=(f_phi_t(x,t,4)+1/2*(f_u(x,t,3)^2+f_w(x,t,3)^2)+f_eta(x,t,4)-fB(4)).simplify_full().coefficients(eps)\n",
    "for i in range(len(expr)):\n",
    "    print(expr[i][1])"
   ]
  },
  {
   "cell_type": "code",
   "execution_count": 511,
   "metadata": {},
   "outputs": [],
   "source": [
    "#check point, about 20 minutes"
   ]
  },
  {
   "cell_type": "code",
   "execution_count": 512,
   "metadata": {},
   "outputs": [],
   "source": [
    "#check point"
   ]
  },
  {
   "cell_type": "code",
   "execution_count": 513,
   "metadata": {},
   "outputs": [],
   "source": [
    "######################################################################################################\n",
    "######################################################################################################\n",
    "######################################################################################################\n",
    "##############################           order 5                   ###################################\n",
    "######################################################################################################\n",
    "######################################################################################################\n",
    "######################################################################################################"
   ]
  },
  {
   "cell_type": "code",
   "execution_count": 514,
   "metadata": {},
   "outputs": [],
   "source": [
    "#BCs"
   ]
  },
  {
   "cell_type": "code",
   "execution_count": 515,
   "metadata": {},
   "outputs": [],
   "source": [
    "#######################         wave height constraint order 5           ############################"
   ]
  },
  {
   "cell_type": "code",
   "execution_count": 516,
   "metadata": {},
   "outputs": [],
   "source": [
    "##############################      verify lateral - O5          ###################################"
   ]
  },
  {
   "cell_type": "code",
   "execution_count": 517,
   "metadata": {},
   "outputs": [
    {
     "data": {
      "text/plain": [
       "0"
      ]
     },
     "execution_count": 517,
     "metadata": {},
     "output_type": "execute_result"
    }
   ],
   "source": [
    "#eq_aa20=\n",
    "expand((f_eta(0,0,5)-f_eta(pi,0,5)-2*eps)/(2*eps^5)).simplify_full()"
   ]
  },
  {
   "cell_type": "code",
   "execution_count": 518,
   "metadata": {},
   "outputs": [
    {
     "data": {
      "text/plain": [
       "0"
      ]
     },
     "execution_count": 518,
     "metadata": {},
     "output_type": "execute_result"
    }
   ],
   "source": [
    "#eq_aa21=\n",
    "expand((f_eta(0,0,5)-f_eta(0,pi,5)-2*eps)/(2*eps^5)).simplify_full()"
   ]
  },
  {
   "cell_type": "code",
   "execution_count": 519,
   "metadata": {},
   "outputs": [],
   "source": [
    "#################################### verify kinematic BC - o5 #####################################"
   ]
  },
  {
   "cell_type": "code",
   "execution_count": 520,
   "metadata": {},
   "outputs": [
    {
     "name": "stdout",
     "output_type": "stream",
     "text": [
      "6\n",
      "7\n",
      "8\n",
      "9\n",
      "10\n",
      "11\n"
     ]
    }
   ],
   "source": [
    "expr=(f_eta_t(x,t,5)+f_u(x,t,4)*f_eta_x(x,t,4)-f_w(x,t,5)).simplify_full().coefficients(eps)\n",
    "for i in range(len(expr)):\n",
    "    print(expr[i][1])"
   ]
  },
  {
   "cell_type": "code",
   "execution_count": null,
   "metadata": {},
   "outputs": [],
   "source": []
  },
  {
   "cell_type": "code",
   "execution_count": 521,
   "metadata": {},
   "outputs": [],
   "source": [
    "#################################### verify dynamic BC - o5 #####################################"
   ]
  },
  {
   "cell_type": "code",
   "execution_count": null,
   "metadata": {},
   "outputs": [],
   "source": [
    "expr=(f_phi_t(x,t,5)+1/2*(f_u(x,t,4)^2+f_w(x,t,4)^2)+f_eta(x,t,5)-fB(5)).simplify_full().coefficients(eps)"
   ]
  },
  {
   "cell_type": "code",
   "execution_count": null,
   "metadata": {},
   "outputs": [],
   "source": [
    "for i in range(len(expr)):\n",
    "    print(expr[i][1])"
   ]
  },
  {
   "cell_type": "code",
   "execution_count": null,
   "metadata": {},
   "outputs": [],
   "source": []
  },
  {
   "cell_type": "code",
   "execution_count": null,
   "metadata": {},
   "outputs": [],
   "source": []
  }
 ],
 "metadata": {
  "celltoolbar": "Raw Cell Format",
  "kernelspec": {
   "display_name": "SageMath 8.6",
   "language": "",
   "name": "sagemath"
  },
  "language_info": {
   "codemirror_mode": {
    "name": "ipython",
    "version": 2
   },
   "file_extension": ".py",
   "mimetype": "text/x-python",
   "name": "python",
   "nbconvert_exporter": "python",
   "pygments_lexer": "ipython2",
   "version": "2.7.15"
  }
 },
 "nbformat": 4,
 "nbformat_minor": 2
}
